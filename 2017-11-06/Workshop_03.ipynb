{
 "cells": [
  {
   "cell_type": "markdown",
   "metadata": {},
   "source": [
    "# Esercitazione \"Laboratorio di Programmazione Geometrica e Grafica\""
   ]
  },
  {
   "cell_type": "markdown",
   "metadata": {},
   "source": [
    "## Workshop_03 (06-11-17)\n",
    "- In questo workshop è stata realizzato uno dei progetti di Leonarda da Vinci utilizzando PyPlasm"
   ]
  },
  {
   "cell_type": "code",
   "execution_count": 18,
   "metadata": {},
   "outputs": [],
   "source": [
    "from pyplasm import *\n",
    "\n",
    "def torre(larghezza_torre,altezza_torre,numero_facce_torre, numero_facce_cupola, fattore_altezza_cupola):\n",
    "    return STRUCT([colonna(larghezza_torre,altezza_torre,numero_facce_torre), T(3)(altezza_torre)(cupola(larghezza_torre,numero_facce_cupola,numero_facce_torre,fattore_altezza_cupola))])\n",
    "\n",
    "def colonna(larghezza,altezza,numero_facce):\n",
    "    struttura_centrale = CYLINDER ([larghezza,altezza*0.88])(numero_facce)\n",
    "    scalino_1 = CYLINDER ([larghezza*1.05,altezza*0.02])(numero_facce)\n",
    "    scalino_2 = CYLINDER ([larghezza*1.1,altezza*0.02])(numero_facce)\n",
    "    scalino_3 = CYLINDER ([larghezza*1.15,altezza*0.02])(numero_facce)\n",
    "    base_colonna = STRUCT([TOP([scalino_3,TOP([scalino_2,scalino_1])])])\n",
    "    top_colonna = STRUCT([TOP([scalino_1,TOP([scalino_2,scalino_3])])])\n",
    "    colonna = STRUCT([TOP([base_colonna,struttura_centrale])])\n",
    "    colonna = STRUCT([TOP([colonna,top_colonna])])  \n",
    "    return TEXTURE('imm/texture/marmo.png')(colonna)\n",
    "\n",
    "def cupola(diametro,numero_facce_orizzontali,numero_facce_verticali,fattore_altezza):\n",
    "    cubo = T([1,2])([-diametro,-diametro])(CUBOID([diametro*3,diametro*3,diametro*3]))\n",
    "    sfera = JOIN(SPHERE(diametro)([numero_facce_orizzontali,numero_facce_verticali]))\n",
    "    cupola = INTERSECTION([cubo,sfera])\n",
    "    cupola = S(3)(fattore_altezza)(cupola)\n",
    "    base_cupola = CYLINDER ([diametro*1.10,diametro*0.05])(numero_facce_verticali)\n",
    "    cupola = STRUCT([TOP([base_cupola,cupola])])\n",
    "    return TEXTURE('imm/texture/marmo2.png')(STRUCT([cupola]))\n",
    "\n",
    "def edificio(dimensione_lato, altezza):\n",
    "    base_1 = CUBOID([dimensione_lato*1.03, dimensione_lato*1.03, altezza*0.01])\n",
    "    base_2 = CUBOID([dimensione_lato*1.01, dimensione_lato*1.01, altezza*0.03])\n",
    "    base_3 = CUBOID([dimensione_lato*1.02, dimensione_lato*1.02, altezza*0.01])\n",
    "    top_0 = CUBOID([dimensione_lato*1.02, dimensione_lato*1.02, altezza*0.02])\n",
    "    top_1 = CUBOID([dimensione_lato*1.03, dimensione_lato*1.03, altezza*0.07])\n",
    "    top_2 = CUBOID([dimensione_lato*1.02, dimensione_lato*1.02, altezza*0.02])\n",
    "    top_3 = CUBOID([dimensione_lato*1.01, dimensione_lato*1.01, altezza*0.03])\n",
    "    top_4 = CUBOID([dimensione_lato*1.005, dimensione_lato*1.005, altezza*0.04])\n",
    "    base_edificio = STRUCT([TOP([base_3,TOP([base_2,base_1])])])\n",
    "    top_edificio = STRUCT([TOP([top_0,TOP([top_1,TOP([top_2,TOP([top_3,top_4])])])])])\n",
    "    struttura = CUBOID([dimensione_lato,dimensione_lato,altezza*0.77])\n",
    "    edificio = STRUCT([TOP([struttura,top_edificio])])\n",
    "    edificio = STRUCT([TOP([base_edificio,edificio])])\n",
    "    return TEXTURE('imm/texture/marmo.png')(edificio)\n",
    "\n",
    "def puntale(altezza,larghezza):\n",
    "    parte_1 = cupola(larghezza*0.20,32,32,1)\n",
    "    parte_2 = CYLINDER ([larghezza*0.30,altezza*0.10])(32)\n",
    "    parte_3 = CYLINDER ([larghezza*0.45,altezza*0.08])(32)\n",
    "    parte_4 = CYLINDER ([larghezza*0.75,altezza*0.04])(32)\n",
    "    parte_5 = CYLINDER ([larghezza*1,altezza*0.02])(32)\n",
    "    top_puntale = STRUCT([TOP([parte_5,TOP([parte_4,TOP([parte_3,TOP([parte_2,parte_1])])])])])\n",
    "    base_puntale = STRUCT([\n",
    "                          T([1,2])([larghezza*0.55,larghezza*0.55])(colonna(larghezza*0.10,altezza*0.5,32)),\n",
    "                          T([1,2])([-larghezza*0.55,larghezza*0.55])(colonna(larghezza*0.10,altezza*0.5,32)),\n",
    "                          T([1,2])([larghezza*0.55,-larghezza*0.55])(colonna(larghezza*0.10,altezza*0.5,32)),\n",
    "                          T([1,2])([-larghezza*0.55,-larghezza*0.55])(colonna(larghezza*0.10,altezza*0.5,32)),\n",
    "                          ])\n",
    "    puntale = STRUCT([TOP([base_puntale,top_puntale])])\n",
    "    return TEXTURE('imm/texture/gold_texture.png')(puntale)\n",
    "\n",
    "def costruzioneDaVinci(altezza, larghezza, numero_facce_torri_e_cupole):\n",
    "    # parametri del puntale\n",
    "    altezza_puntale=altezza*0.04\n",
    "    larghezza_puntale=altezza*0.02\n",
    "\n",
    "    puntale_cupola = puntale(altezza_puntale,larghezza_puntale)\n",
    "\n",
    "    # parametri de puntale grande\n",
    "    altezza_puntale_grande=altezza*0.1\n",
    "    larghezza_puntale_grande=larghezza*0.05\n",
    "\n",
    "    puntale_cupola_grande = puntale(altezza_puntale_grande,larghezza_puntale_grande)\n",
    "\n",
    "    # parametri delle torri piccole della costruzione laterale espresse in metri\n",
    "    altezza_torre=altezza*0.34\n",
    "    larghezza_torre=altezza*0.07\n",
    "    numero_facce_torre=numero_facce_torri_e_cupole\n",
    "    sfericita_cupola=30\n",
    "    fattore_altezza=1\n",
    "\n",
    "    obj=torre(larghezza_torre,altezza_torre,numero_facce_torre,sfericita_cupola,fattore_altezza)\n",
    "\n",
    "    # parametri dell'edificio centrale della costruzione laterale espresso in metri\n",
    "    larghezza_edificio=larghezza*0.3\n",
    "    altezza_edificio=altezza*0.5\n",
    "\n",
    "    obj2=edificio(larghezza_edificio, altezza_edificio)\n",
    "\n",
    "    # parametri della torre centrale della cotruzione laterale\n",
    "    altezza_torre_2=altezza*0.08\n",
    "    larghezza_torre_2=larghezza*0.12\n",
    "    fattore_altezza_2=0.9\n",
    "\n",
    "    obj3=torre(larghezza_torre_2,altezza_torre_2,numero_facce_torre,sfericita_cupola,fattore_altezza_2)\n",
    "\n",
    "    # parametri della torre piccola del secondo piano\n",
    "    altezza_torre_3=altezza*0.15\n",
    "    larghezza_torre_3=4\n",
    "    fattore_altezza_3=1.5\n",
    "\n",
    "    obj4=torre(larghezza_torre_3,altezza_torre_3,numero_facce_torre,sfericita_cupola,fattore_altezza_3)\n",
    "    obj4 = STRUCT([TOP([obj4,puntale_cupola])])\n",
    "\n",
    "    # parametri della cupola grande centrale\n",
    "    altezza_torre_5=altezza*0.34\n",
    "    larghezza_torre_5=larghezza*0.22\n",
    "    fattore_altezza_5=1\n",
    "\n",
    "    obj5=torre(larghezza_torre_5,altezza_torre_5,numero_facce_torre,sfericita_cupola,fattore_altezza_5)\n",
    "\n",
    "    #parametri della struttura centrale grande\n",
    "    larghezza_edificio_centrale=larghezza\n",
    "    altezza_edificio_centrale=altezza*0.67\n",
    "    edificio_centrale = edificio(larghezza_edificio_centrale, altezza_edificio_centrale)\n",
    "\n",
    "    #comando per generare la struttura laterale\n",
    "    struttura_centrale_con_cupola = STRUCT([TOP([obj2,TOP([obj3,puntale_cupola])])])\n",
    "\n",
    "    struttura_piccola = STRUCT([struttura_centrale_con_cupola,\n",
    "                                T([1,2])([0,larghezza_edificio/2])(obj),\n",
    "                                T([1,2])([larghezza_edificio/2,0])(obj),\n",
    "                                T([1,2])([larghezza_edificio,larghezza_edificio/2])(obj),\n",
    "                                T([1,2])([larghezza_edificio/2,larghezza_edificio])(obj)\n",
    "                                ])\n",
    "\n",
    "    struttura_centrale_grande_con_cupola = STRUCT([TOP([edificio_centrale,TOP([obj5,puntale_cupola_grande])])])\n",
    "\n",
    "    edificio_completo=STRUCT([T([1,2,3])([-larghezza_torre_3*1.5+larghezza_edificio_centrale,-larghezza_torre_3*1.5+larghezza_edificio_centrale,altezza_edificio_centrale])(obj4),\n",
    "                              T([1,2,3])([-larghezza_torre_3*1.5+larghezza_edificio_centrale,larghezza_torre_3*1.5,altezza_edificio_centrale])(obj4),\n",
    "                              T([1,2,3])([larghezza_torre_3*1.5,-larghezza_torre_3*1.5+larghezza_edificio_centrale,altezza_edificio_centrale])(obj4),\n",
    "                              T([1,2,3])([larghezza_torre_3*1.5,larghezza_torre_3*1.5,altezza_edificio_centrale])(obj4),\n",
    "                              T([1,2])([larghezza_edificio_centrale/2-larghezza_edificio/2,-(larghezza_edificio/2)])(struttura_piccola),\n",
    "                              T([1,2])([-larghezza_edificio/2,larghezza_edificio_centrale/2-larghezza_edificio/2])(struttura_piccola),\n",
    "                              T([1,2])([larghezza_edificio_centrale/2-larghezza_edificio/2,larghezza_edificio_centrale-larghezza_edificio/2])(struttura_piccola),\n",
    "                              T([1,2])([larghezza_edificio_centrale-larghezza_edificio/2,larghezza_edificio_centrale/2-larghezza_edificio/2])(struttura_piccola),\n",
    "                              struttura_centrale_grande_con_cupola\n",
    "                             ])\n",
    "    return edificio_completo\n",
    "\n",
    "def costruzioneStandardDaVinci():\n",
    "    #parametri del puntale\n",
    "    altezza_puntale=1.5\n",
    "    larghezza_puntale=0.5\n",
    "\n",
    "    puntale_cupola = puntale(altezza_puntale,larghezza_puntale)\n",
    "\n",
    "    #parametri de puntale grande\n",
    "    altezza_puntale_grande=5\n",
    "    larghezza_puntale_grande=1.5\n",
    "\n",
    "    puntale_cupola_grande = puntale(altezza_puntale_grande,larghezza_puntale_grande)\n",
    "\n",
    "    # parametri delle torri piccole della costruzione laterale espresse in metri\n",
    "    altezza_torre=8\n",
    "    larghezza_torre=3\n",
    "    numero_facce_torre=8\n",
    "    sfericita_cupola=30\n",
    "    fattore_altezza=1\n",
    "\n",
    "    obj=torre(larghezza_torre,altezza_torre,numero_facce_torre,sfericita_cupola,fattore_altezza)\n",
    "\n",
    "    # parametri dell'edificio centrale della costruzione laterale espresso in metri\n",
    "    larghezza_edificio=10\n",
    "    altezza_edificio=13\n",
    "\n",
    "    obj2=edificio(larghezza_edificio, altezza_edificio)\n",
    "\n",
    "    # parametri della torre centrale della cotruzione laterale\n",
    "    altezza_torre_2=3\n",
    "    larghezza_torre_2=4\n",
    "    fattore_altezza_2=0.9\n",
    "\n",
    "    obj3=torre(larghezza_torre_2,altezza_torre_2,numero_faccie_torre,sfericita_cupola,fattore_altezza_2)\n",
    "\n",
    "    # parametri della torre piccola del secondo piano\n",
    "    altezza_torre_3=3\n",
    "    larghezza_torre_3=4\n",
    "    fattore_altezza_3=1.5\n",
    "\n",
    "    obj4=torre(larghezza_torre_3,altezza_torre_3,numero_faccie_torre,sfericita_cupola,fattore_altezza_3)\n",
    "    obj4 = STRUCT([TOP([obj4,puntale_cupola])])\n",
    "\n",
    "    # parametri della cupola grande centrale\n",
    "    altezza_torre_5=8\n",
    "    larghezza_torre_5=8\n",
    "    fattore_altezza_5=1\n",
    "\n",
    "    obj5=torre(larghezza_torre_5,altezza_torre_5,numero_faccie_torre,sfericita_cupola,fattore_altezza_5)\n",
    "\n",
    "    #parametri della struttura centrale grande\n",
    "    larghezza_edificio_centrale=35\n",
    "    altezza_edificio_centrale=16\n",
    "    edificio_centrale = edificio(larghezza_edificio_centrale, altezza_edificio_centrale)\n",
    "\n",
    "    #comando per generare la struttura laterale\n",
    "    struttura_centrale_con_cupola = STRUCT([TOP([obj2,TOP([obj3,puntale_cupola])])])\n",
    "\n",
    "    struttura_piccola = STRUCT([struttura_centrale_con_cupola,\n",
    "                                T([1,2])([0,larghezza_edificio/2])(obj),\n",
    "                                T([1,2])([larghezza_edificio/2,0])(obj),\n",
    "                                T([1,2])([larghezza_edificio,larghezza_edificio/2])(obj),\n",
    "                                T([1,2])([larghezza_edificio/2,larghezza_edificio])(obj)\n",
    "                                ])\n",
    "\n",
    "    struttura_centrale_grande_con_cupola = STRUCT([TOP([edificio_centrale,TOP([obj5,puntale_cupola_grande])])])\n",
    "\n",
    "    edificio_completo=STRUCT([T([1,2,3])([-larghezza_torre_3*1.5+larghezza_edificio_centrale,-larghezza_torre_3*1.5+larghezza_edificio_centrale,altezza_edificio_centrale])(obj4),\n",
    "                              T([1,2,3])([-larghezza_torre_3*1.5+larghezza_edificio_centrale,larghezza_torre_3*1.5,altezza_edificio_centrale])(obj4),\n",
    "                              T([1,2,3])([larghezza_torre_3*1.5,-larghezza_torre_3*1.5+larghezza_edificio_centrale,altezza_edificio_centrale])(obj4),\n",
    "                              T([1,2,3])([larghezza_torre_3*1.5,larghezza_torre_3*1.5,altezza_edificio_centrale])(obj4),\n",
    "                              T([1,2])([larghezza_edificio_centrale/2-larghezza_edificio/2,-(larghezza_edificio/2)])(struttura_piccola),\n",
    "                              T([1,2])([-larghezza_edificio/2,larghezza_edificio_centrale/2-larghezza_edificio/2])(struttura_piccola),\n",
    "                              T([1,2])([larghezza_edificio_centrale/2-larghezza_edificio/2,larghezza_edificio_centrale-larghezza_edificio/2])(struttura_piccola),\n",
    "                              T([1,2])([larghezza_edificio_centrale-larghezza_edificio/2,larghezza_edificio_centrale/2-larghezza_edificio/2])(struttura_piccola),\n",
    "                              struttura_centrale_grande_con_cupola\n",
    "                             ])\n",
    "    return edificio_completo\n",
    "\n",
    "\n",
    "#altri elementi di supporto\n",
    "\n",
    "def getFloor():\n",
    "    return TEXTURE('imm/texture/pavimento_texture.png')(T([1,2,3])([18,22,0.1])(CUBOID([60,60,1])))\n",
    "\n",
    "def getPrato():\n",
    "    return TEXTURE('imm/texture/erba_texture.png')(CUBOID([100,100,1]))\n",
    "\n",
    "def getTerra():\n",
    "    return TEXTURE('imm/texture/terra_texture.png')(CUBOID([20,20,0.1]))\n",
    "\n",
    "def getScalinata():\n",
    "    return TEXTURE('imm/texture/pavimento_texture.png')(STRUCT([CUBOID([20,1.5,0.20]),\n",
    "                                                                 T(3)(0.2)(CUBOID([20,1.2,0.20])),\n",
    "                                                                 T(3)(0.4)(CUBOID([20,0.9,0.20])),\n",
    "                                                                 T(3)(0.6)(CUBOID([20,0.6,0.20])),\n",
    "                                                                 T(3)(0.8)(CUBOID([20,0.3,0.20]))]))"
   ]
  },
  {
   "cell_type": "markdown",
   "metadata": {},
   "source": [
    "### Colonna\n",
    "- colonna (larghezza,altezza,numero_facce) crea una colonna di altezza \"altezza\", larghezza \"larghezza\" e con un numero di facce pari a \"numero_facce\"\n",
    "- degli esempi sono presentati nelle immagini seguenti"
   ]
  },
  {
   "cell_type": "markdown",
   "metadata": {},
   "source": [
    "- esempio di una colonna larga 4 metri, alta 10 metri con 8 facce"
   ]
  },
  {
   "cell_type": "code",
   "execution_count": 32,
   "metadata": {},
   "outputs": [
    {
     "data": {
      "text/plain": [
       "<pyplasm.xgepy.Hpc; proxy of <Swig Object of type 'std::shared_ptr< Hpc > *' at 0x000000000583A390> >"
      ]
     },
     "execution_count": 32,
     "metadata": {},
     "output_type": "execute_result"
    }
   ],
   "source": [
    "VIEW(STRUCT([colonna(4,10,8)]))"
   ]
  },
  {
   "cell_type": "markdown",
   "metadata": {},
   "source": [
    "![colonna1.png](imm/colonna1.png)"
   ]
  },
  {
   "cell_type": "markdown",
   "metadata": {},
   "source": [
    "![colonna_dettaglio.png](imm/colonna_dettaglio.png)"
   ]
  },
  {
   "cell_type": "markdown",
   "metadata": {},
   "source": [
    "- esempio di una colonna larga 4 metri, alta 12 metri con 12 facce"
   ]
  },
  {
   "cell_type": "code",
   "execution_count": 33,
   "metadata": {},
   "outputs": [
    {
     "data": {
      "text/plain": [
       "<pyplasm.xgepy.Hpc; proxy of <Swig Object of type 'std::shared_ptr< Hpc > *' at 0x0000000004100270> >"
      ]
     },
     "execution_count": 33,
     "metadata": {},
     "output_type": "execute_result"
    }
   ],
   "source": [
    "VIEW(STRUCT([colonna(4,12,12)]))"
   ]
  },
  {
   "cell_type": "markdown",
   "metadata": {},
   "source": [
    "![colonna2.png](imm/colonna2.png)"
   ]
  },
  {
   "cell_type": "markdown",
   "metadata": {},
   "source": [
    "### Cupola\n",
    "- cupola(diametro,numero_facce_orizzontali,numero_facce_verticali,fattore_altezza) crea una cupola di diametro con il valori passati come parametri\n",
    "- Il \"fattore_altezza\" determina \"l'altezza\" della cupola. Con un valore pari ad 1 la cupola risultera' esattamente una semisfera\n",
    "- alcuni esempi sono mostrati nelle successive immagini"
   ]
  },
  {
   "cell_type": "markdown",
   "metadata": {},
   "source": [
    "- una cupola di diametro pari a 10 metri, con 12 facce orizzontali, 8 verticali ed un fattore altezza pari ad 1"
   ]
  },
  {
   "cell_type": "code",
   "execution_count": 20,
   "metadata": {},
   "outputs": [
    {
     "name": "stdout",
     "output_type": "stream",
     "text": [
      "Child 3\n"
     ]
    },
    {
     "data": {
      "text/plain": [
       "<pyplasm.xgepy.Hpc; proxy of <Swig Object of type 'std::shared_ptr< Hpc > *' at 0x0000000007E6E2A0> >"
      ]
     },
     "execution_count": 20,
     "metadata": {},
     "output_type": "execute_result"
    }
   ],
   "source": [
    "VIEW(cupola(10,12,8,1))"
   ]
  },
  {
   "cell_type": "markdown",
   "metadata": {},
   "source": [
    "![cupola1.png](imm/cupola1.png)"
   ]
  },
  {
   "cell_type": "markdown",
   "metadata": {},
   "source": [
    "- una cupola di diametro pari a 10 metri, con 24 facce orizzontali, 4 verticali ed un fattore altezza pari ad 1"
   ]
  },
  {
   "cell_type": "code",
   "execution_count": 28,
   "metadata": {},
   "outputs": [
    {
     "name": "stdout",
     "output_type": "stream",
     "text": [
      "Child 3\n"
     ]
    },
    {
     "data": {
      "text/plain": [
       "<pyplasm.xgepy.Hpc; proxy of <Swig Object of type 'std::shared_ptr< Hpc > *' at 0x0000000007E6E960> >"
      ]
     },
     "execution_count": 28,
     "metadata": {},
     "output_type": "execute_result"
    }
   ],
   "source": [
    "VIEW(cupola(10,24,4,1))"
   ]
  },
  {
   "cell_type": "markdown",
   "metadata": {},
   "source": [
    "![cupola2.png](imm/cupola2.png)"
   ]
  },
  {
   "cell_type": "markdown",
   "metadata": {},
   "source": [
    "- una cupola di diametro pari a 5 metri, con 24 facce orizzontali, 12 verticali ed un fattore altezza pari ad 1.5"
   ]
  },
  {
   "cell_type": "code",
   "execution_count": 29,
   "metadata": {},
   "outputs": [
    {
     "name": "stdout",
     "output_type": "stream",
     "text": [
      "Child 3\n"
     ]
    },
    {
     "data": {
      "text/plain": [
       "<pyplasm.xgepy.Hpc; proxy of <Swig Object of type 'std::shared_ptr< Hpc > *' at 0x0000000007E6E1B0> >"
      ]
     },
     "execution_count": 29,
     "metadata": {},
     "output_type": "execute_result"
    }
   ],
   "source": [
    "VIEW(cupola(5,24,12,1.5))"
   ]
  },
  {
   "cell_type": "markdown",
   "metadata": {},
   "source": [
    "![cupola3.png](imm/cupola3.png)"
   ]
  },
  {
   "cell_type": "markdown",
   "metadata": {},
   "source": [
    "- un esempio dell'utilizzo del fattore_altezza della cupola"
   ]
  },
  {
   "cell_type": "code",
   "execution_count": 27,
   "metadata": {},
   "outputs": [
    {
     "name": "stdout",
     "output_type": "stream",
     "text": [
      "Child 3\n",
      "Child 3\n",
      "Child 3\n",
      "Child 3\n"
     ]
    },
    {
     "data": {
      "text/plain": [
       "<pyplasm.xgepy.Hpc; proxy of <Swig Object of type 'std::shared_ptr< Hpc > *' at 0x000000000B91C7E0> >"
      ]
     },
     "execution_count": 27,
     "metadata": {},
     "output_type": "execute_result"
    }
   ],
   "source": [
    "VIEW(STRUCT([cupola(5,32,8,0.5),\n",
    "             T(1)(12)(cupola(5,32,8,1)),\n",
    "             T(1)(24)(cupola(5,32,8,1.5)),\n",
    "             T(1)(36)(cupola(5,32,8,2))\n",
    "            ]))"
   ]
  },
  {
   "cell_type": "markdown",
   "metadata": {},
   "source": [
    "![cupola4.png](imm/cupola4.png)"
   ]
  },
  {
   "cell_type": "markdown",
   "metadata": {},
   "source": [
    "### Torre\n",
    "- torre (larghezza_torre,altezza_torre,numero_facce_torre, numero_facce_cupola, fattore_altezza_cupola) crea una torre con i parametri passati alla funzione come quella in figura\n",
    "- di seguito degli esempi di torri"
   ]
  },
  {
   "cell_type": "markdown",
   "metadata": {},
   "source": [
    "- una torre larga 5 metri, alta 10 metri, con 8 facce e con una cupola di 12 facce orizzontali e fattore altezza pari ad 1 (per il significato del fattore_altezza vedere gli esempi precedenti)"
   ]
  },
  {
   "cell_type": "code",
   "execution_count": 31,
   "metadata": {},
   "outputs": [
    {
     "name": "stdout",
     "output_type": "stream",
     "text": [
      "Child 3\n"
     ]
    },
    {
     "data": {
      "text/plain": [
       "<pyplasm.xgepy.Hpc; proxy of <Swig Object of type 'std::shared_ptr< Hpc > *' at 0x0000000007E6EAE0> >"
      ]
     },
     "execution_count": 31,
     "metadata": {},
     "output_type": "execute_result"
    }
   ],
   "source": [
    "VIEW(torre(5,10,8,12,1))"
   ]
  },
  {
   "cell_type": "markdown",
   "metadata": {},
   "source": [
    "![torre1.png](imm/torre1.png)"
   ]
  },
  {
   "cell_type": "markdown",
   "metadata": {},
   "source": [
    "- una torre larga 10 metri, alta 18 metri, con 16 facce e con una cupola di 32 facce orizzontali e fattore altezza pari ad 1.3 (per il significato del fattore_altezza vedere gli esempi precedenti)"
   ]
  },
  {
   "cell_type": "code",
   "execution_count": 35,
   "metadata": {},
   "outputs": [
    {
     "name": "stdout",
     "output_type": "stream",
     "text": [
      "Child 3\n"
     ]
    },
    {
     "data": {
      "text/plain": [
       "<pyplasm.xgepy.Hpc; proxy of <Swig Object of type 'std::shared_ptr< Hpc > *' at 0x0000000007E6E420> >"
      ]
     },
     "execution_count": 35,
     "metadata": {},
     "output_type": "execute_result"
    }
   ],
   "source": [
    "VIEW(torre(10,18,16,32,1.3))"
   ]
  },
  {
   "cell_type": "markdown",
   "metadata": {},
   "source": [
    "![torre2.png](imm/torre2.png)"
   ]
  },
  {
   "cell_type": "markdown",
   "metadata": {},
   "source": [
    "- una torre larga 5 metri, alta 9 metri, con 4 facce e con una cupola di 100 facce orizzontali e fattore altezza pari ad 0.8 (per il significato del fattore_altezza vedere gli esempi precedenti)"
   ]
  },
  {
   "cell_type": "code",
   "execution_count": 34,
   "metadata": {},
   "outputs": [
    {
     "name": "stdout",
     "output_type": "stream",
     "text": [
      "Child 3\n"
     ]
    },
    {
     "data": {
      "text/plain": [
       "<pyplasm.xgepy.Hpc; proxy of <Swig Object of type 'std::shared_ptr< Hpc > *' at 0x0000000007E6EBD0> >"
      ]
     },
     "execution_count": 34,
     "metadata": {},
     "output_type": "execute_result"
    }
   ],
   "source": [
    "VIEW(torre(5,9,4,100,0.8))"
   ]
  },
  {
   "cell_type": "markdown",
   "metadata": {},
   "source": [
    "![torre3.png](imm/torre3.png)"
   ]
  },
  {
   "cell_type": "markdown",
   "metadata": {},
   "source": [
    "### Edificio centrale"
   ]
  },
  {
   "cell_type": "markdown",
   "metadata": {},
   "source": [
    "- edificio (larghezza,altezza) crea un edificio come quello in figura sulla base dei parametri passati alla funzione"
   ]
  },
  {
   "cell_type": "code",
   "execution_count": 10,
   "metadata": {},
   "outputs": [
    {
     "data": {
      "text/plain": [
       "<pyplasm.xgepy.Hpc; proxy of <Swig Object of type 'std::shared_ptr< Hpc > *' at 0x00000000045488A0> >"
      ]
     },
     "execution_count": 10,
     "metadata": {},
     "output_type": "execute_result"
    }
   ],
   "source": [
    "VIEW(edificio(10,10))"
   ]
  },
  {
   "cell_type": "markdown",
   "metadata": {},
   "source": [
    "![edifico.png](imm/edifico.png)"
   ]
  },
  {
   "cell_type": "markdown",
   "metadata": {},
   "source": [
    " ### Puntale\n",
    " - puntale (altezza,larghezza) crea un puntale come quello in figura"
   ]
  },
  {
   "cell_type": "code",
   "execution_count": 49,
   "metadata": {},
   "outputs": [
    {
     "name": "stdout",
     "output_type": "stream",
     "text": [
      "Child 3\n"
     ]
    },
    {
     "data": {
      "text/plain": [
       "<pyplasm.xgepy.Hpc; proxy of <Swig Object of type 'std::shared_ptr< Hpc > *' at 0x0000000007CA95D0> >"
      ]
     },
     "execution_count": 49,
     "metadata": {},
     "output_type": "execute_result"
    }
   ],
   "source": [
    "VIEW(puntale(1,0.3))"
   ]
  },
  {
   "cell_type": "markdown",
   "metadata": {},
   "source": [
    "![puntale.png](imm/puntale.png)"
   ]
  },
  {
   "cell_type": "code",
   "execution_count": 58,
   "metadata": {},
   "outputs": [
    {
     "name": "stdout",
     "output_type": "stream",
     "text": [
      "Child 3\n",
      "Child 3\n"
     ]
    },
    {
     "data": {
      "text/plain": [
       "<pyplasm.xgepy.Hpc; proxy of <Swig Object of type 'std::shared_ptr< Hpc > *' at 0x000000000B185870> >"
      ]
     },
     "execution_count": 58,
     "metadata": {},
     "output_type": "execute_result"
    }
   ],
   "source": [
    "VIEW(STRUCT([TOP([torre(5,10,8,12,1),puntale(3,1)])]))"
   ]
  },
  {
   "cell_type": "markdown",
   "metadata": {},
   "source": [
    "![puntale2.png](imm/puntale_2.png)"
   ]
  },
  {
   "cell_type": "markdown",
   "metadata": {},
   "source": [
    "### Costruzione completa\n",
    "- questa struttura è stata realizzata utilizzando opportunamente i costrutti precedentemente presentati"
   ]
  },
  {
   "cell_type": "code",
   "execution_count": 18,
   "metadata": {},
   "outputs": [
    {
     "name": "stdout",
     "output_type": "stream",
     "text": [
      "Child 3\n",
      "Child 3\n",
      "Child 3\n",
      "Child 3\n",
      "Child 3\n",
      "Child 3\n"
     ]
    }
   ],
   "source": [
    "#parametri del puntale\n",
    "altezza_puntale=1.5\n",
    "larghezza_puntale=0.5\n",
    "\n",
    "puntale_cupola = puntale(altezza_puntale,larghezza_puntale)\n",
    "\n",
    "#parametri de puntale grande\n",
    "altezza_puntale_grande=5\n",
    "larghezza_puntale_grande=1.5\n",
    "\n",
    "puntale_cupola_grande = puntale(altezza_puntale_grande,larghezza_puntale_grande)\n",
    "\n",
    "# parametri delle torri piccole della costruzione laterale espresse in metri\n",
    "altezza_torre=8\n",
    "larghezza_torre=3\n",
    "numero_facce_torre=8\n",
    "sfericita_cupola=30\n",
    "fattore_altezza=1\n",
    "\n",
    "obj=torre(larghezza_torre,altezza_torre,numero_facce_torre,sfericita_cupola,fattore_altezza)\n",
    "\n",
    "# parametri dell'edificio centrale della costruzione laterale espresso in metri\n",
    "larghezza_edificio=10\n",
    "altezza_edificio=13\n",
    "\n",
    "obj2=edificio(larghezza_edificio, altezza_edificio)\n",
    "\n",
    "# parametri della torre centrale della cotruzione laterale\n",
    "altezza_torre_2=3\n",
    "larghezza_torre_2=4\n",
    "fattore_altezza_2=0.9\n",
    "\n",
    "obj3=torre(larghezza_torre_2,altezza_torre_2,numero_faccie_torre,sfericita_cupola,fattore_altezza_2)\n",
    "\n",
    "# parametri della torre piccola del secondo piano\n",
    "altezza_torre_3=3\n",
    "larghezza_torre_3=4\n",
    "fattore_altezza_3=1.5\n",
    "\n",
    "obj4=torre(larghezza_torre_3,altezza_torre_3,numero_faccie_torre,sfericita_cupola,fattore_altezza_3)\n",
    "obj4 = STRUCT([TOP([obj4,puntale_cupola])])\n",
    "\n",
    "# parametri della cupola grande centrale\n",
    "altezza_torre_5=8\n",
    "larghezza_torre_5=8\n",
    "fattore_altezza_5=1\n",
    "\n",
    "obj5=torre(larghezza_torre_5,altezza_torre_5,numero_faccie_torre,sfericita_cupola,fattore_altezza_5)\n",
    "\n",
    "#parametri della struttura centrale grande\n",
    "larghezza_edificio_centrale=35\n",
    "altezza_edificio_centrale=16\n",
    "edificio_centrale = edificio(larghezza_edificio_centrale, altezza_edificio_centrale)\n",
    "\n",
    "\n",
    "#comando per generare la struttura laterale\n",
    "struttura_centrale_con_cupola = STRUCT([TOP([obj2,TOP([obj3,puntale_cupola])])])\n",
    "\n",
    "struttura_piccola = STRUCT([struttura_centrale_con_cupola,\n",
    "                            T([1,2])([0,larghezza_edificio/2])(obj),\n",
    "                            T([1,2])([larghezza_edificio/2,0])(obj),\n",
    "                            T([1,2])([larghezza_edificio,larghezza_edificio/2])(obj),\n",
    "                            T([1,2])([larghezza_edificio/2,larghezza_edificio])(obj)\n",
    "                            ])\n",
    "\n",
    "struttura_centrale_grande_con_cupola = STRUCT([TOP([edificio_centrale,TOP([obj5,puntale_cupola_grande])])])\n",
    "\n",
    "edificio_completo=STRUCT([T([1,2,3])([-larghezza_torre_3*1.5+larghezza_edificio_centrale,-larghezza_torre_3*1.5+larghezza_edificio_centrale,altezza_edificio_centrale])(obj4),\n",
    "                          T([1,2,3])([-larghezza_torre_3*1.5+larghezza_edificio_centrale,larghezza_torre_3*1.5,altezza_edificio_centrale])(obj4),\n",
    "                          T([1,2,3])([larghezza_torre_3*1.5,-larghezza_torre_3*1.5+larghezza_edificio_centrale,altezza_edificio_centrale])(obj4),\n",
    "                          T([1,2,3])([larghezza_torre_3*1.5,larghezza_torre_3*1.5,altezza_edificio_centrale])(obj4),\n",
    "                          T([1,2])([larghezza_edificio_centrale/2-larghezza_edificio/2,-(larghezza_edificio/2)])(struttura_piccola),\n",
    "                          T([1,2])([-larghezza_edificio/2,larghezza_edificio_centrale/2-larghezza_edificio/2])(struttura_piccola),\n",
    "                          T([1,2])([larghezza_edificio_centrale/2-larghezza_edificio/2,larghezza_edificio_centrale-larghezza_edificio/2])(struttura_piccola),\n",
    "                          T([1,2])([larghezza_edificio_centrale-larghezza_edificio/2,larghezza_edificio_centrale/2-larghezza_edificio/2])(struttura_piccola),\n",
    "                          struttura_centrale_grande_con_cupola])\n"
   ]
  },
  {
   "cell_type": "markdown",
   "metadata": {},
   "source": [
    "- comando per visualizzare la struttura precedentemente realizzata in una piazza"
   ]
  },
  {
   "cell_type": "code",
   "execution_count": 22,
   "metadata": {},
   "outputs": [
    {
     "name": "stdout",
     "output_type": "stream",
     "text": [
      "Child 3\n",
      "Child 3\n",
      "Child 3\n",
      "Child 3\n",
      "Child 3\n",
      "Child 3\n"
     ]
    },
    {
     "data": {
      "text/plain": [
       "<pyplasm.xgepy.Hpc; proxy of <Swig Object of type 'std::shared_ptr< Hpc > *' at 0x00000000046A3F90> >"
      ]
     },
     "execution_count": 22,
     "metadata": {},
     "output_type": "execute_result"
    }
   ],
   "source": [
    "floor = getFloor()\n",
    "prato = getPrato()\n",
    "terra = getTerra()\n",
    "scalinata = getScalinata()\n",
    "\n",
    "edificio_completo = costruzioneStandardDaVinci()\n",
    "\n",
    "piazza = STRUCT([TOP([prato,TOP([floor,edificio_completo])]),\n",
    "                 T([1,2,3])([40,80,1])(scalinata),\n",
    "                 T([1,2,3])([40,80,1])(terra)\n",
    "                ])\n",
    "VIEW(piazza)"
   ]
  },
  {
   "cell_type": "markdown",
   "metadata": {},
   "source": [
    "![struttua.png](imm/struttura.png)"
   ]
  },
  {
   "cell_type": "markdown",
   "metadata": {},
   "source": [
    "![costruzione1.png](imm/costruzione1.png)"
   ]
  },
  {
   "cell_type": "markdown",
   "metadata": {},
   "source": [
    "![costruzione2.png](imm/costruzione2.png)"
   ]
  },
  {
   "cell_type": "markdown",
   "metadata": {},
   "source": [
    "![costruzione3.png](imm/costruzione3.png)"
   ]
  },
  {
   "cell_type": "markdown",
   "metadata": {},
   "source": [
    "![costruzione4.png](imm/costruzione4.png)"
   ]
  },
  {
   "cell_type": "markdown",
   "metadata": {},
   "source": [
    "### Varianti\n",
    "- la funzione costruzioneDaVinci (altezza, larghezza, numero_facce_cupole_e_torri) crea una struttura basata sui parametri passati in input\n",
    "- di seguito alcuni esempi del suo utilizzo\n"
   ]
  },
  {
   "cell_type": "code",
   "execution_count": 28,
   "metadata": {},
   "outputs": [
    {
     "name": "stdout",
     "output_type": "stream",
     "text": [
      "Child 3\n",
      "Child 3\n",
      "Child 3\n",
      "Child 3\n",
      "Child 3\n",
      "Child 3\n"
     ]
    },
    {
     "data": {
      "text/plain": [
       "<pyplasm.xgepy.Hpc; proxy of <Swig Object of type 'std::shared_ptr< Hpc > *' at 0x000000000585C660> >"
      ]
     },
     "execution_count": 28,
     "metadata": {},
     "output_type": "execute_result"
    }
   ],
   "source": [
    "VIEW(costruzioneDaVinci(50,30,4))"
   ]
  },
  {
   "attachments": {},
   "cell_type": "markdown",
   "metadata": {},
   "source": [
    "![DaVinci1.png](imm/DaVinci1.png)"
   ]
  },
  {
   "attachments": {},
   "cell_type": "markdown",
   "metadata": {},
   "source": [
    "![a.png](imm/a.png)"
   ]
  },
  {
   "cell_type": "code",
   "execution_count": 29,
   "metadata": {},
   "outputs": [
    {
     "name": "stdout",
     "output_type": "stream",
     "text": [
      "Child 3\n",
      "Child 3\n",
      "Child 3\n",
      "Child 3\n",
      "Child 3\n",
      "Child 3\n"
     ]
    },
    {
     "data": {
      "text/plain": [
       "<pyplasm.xgepy.Hpc; proxy of <Swig Object of type 'std::shared_ptr< Hpc > *' at 0x0000000004100300> >"
      ]
     },
     "execution_count": 29,
     "metadata": {},
     "output_type": "execute_result"
    }
   ],
   "source": [
    "VIEW(costruzioneDaVinci(30,30,8))"
   ]
  },
  {
   "attachments": {},
   "cell_type": "markdown",
   "metadata": {},
   "source": [
    "![DaVinci2.png](imm/DaVinci2.png)"
   ]
  },
  {
   "attachments": {},
   "cell_type": "markdown",
   "metadata": {},
   "source": [
    "![b.png](imm/b.png)"
   ]
  },
  {
   "cell_type": "code",
   "execution_count": 30,
   "metadata": {},
   "outputs": [
    {
     "name": "stdout",
     "output_type": "stream",
     "text": [
      "Child 3\n",
      "Child 3\n",
      "Child 3\n",
      "Child 3\n",
      "Child 3\n",
      "Child 3\n"
     ]
    },
    {
     "data": {
      "text/plain": [
       "<pyplasm.xgepy.Hpc; proxy of <Swig Object of type 'std::shared_ptr< Hpc > *' at 0x000000000AEEA990> >"
      ]
     },
     "execution_count": 30,
     "metadata": {},
     "output_type": "execute_result"
    }
   ],
   "source": [
    "VIEW(costruzioneDaVinci(50,30,32))"
   ]
  },
  {
   "attachments": {},
   "cell_type": "markdown",
   "metadata": {},
   "source": [
    "![DaVinci3.png](imm/DaVinci3.png)"
   ]
  },
  {
   "attachments": {},
   "cell_type": "markdown",
   "metadata": {},
   "source": [
    "![c.png](imm/c.png)"
   ]
  },
  {
   "cell_type": "code",
   "execution_count": 31,
   "metadata": {},
   "outputs": [
    {
     "name": "stdout",
     "output_type": "stream",
     "text": [
      "Child 3\n",
      "Child 3\n",
      "Child 3\n",
      "Child 3\n",
      "Child 3\n",
      "Child 3\n"
     ]
    },
    {
     "data": {
      "text/plain": [
       "<pyplasm.xgepy.Hpc; proxy of <Swig Object of type 'std::shared_ptr< Hpc > *' at 0x000000000585C0C0> >"
      ]
     },
     "execution_count": 31,
     "metadata": {},
     "output_type": "execute_result"
    }
   ],
   "source": [
    "VIEW(costruzioneDaVinci(10,30,8))"
   ]
  },
  {
   "attachments": {},
   "cell_type": "markdown",
   "metadata": {},
   "source": [
    "![DaVinci4.png](imm/DaVinci4.png)"
   ]
  },
  {
   "attachments": {},
   "cell_type": "markdown",
   "metadata": {},
   "source": [
    "![d.png](imm/d.png)"
   ]
  },
  {
   "cell_type": "code",
   "execution_count": null,
   "metadata": {},
   "outputs": [],
   "source": []
  }
 ],
 "metadata": {
  "kernelspec": {
   "display_name": "Python 2",
   "language": "python",
   "name": "python2"
  },
  "language_info": {
   "codemirror_mode": {
    "name": "ipython",
    "version": 2
   },
   "file_extension": ".py",
   "mimetype": "text/x-python",
   "name": "python",
   "nbconvert_exporter": "python",
   "pygments_lexer": "ipython2",
   "version": "2.7.12"
  }
 },
 "nbformat": 4,
 "nbformat_minor": 2
}
