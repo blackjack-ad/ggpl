{
 "cells": [
  {
   "cell_type": "markdown",
   "metadata": {},
   "source": [
    "# Esercitazione \"Laboratorio di Programmazione Geometrica e Grafica\""
   ]
  },
  {
   "cell_type": "markdown",
   "metadata": {},
   "source": [
    "## Workshop_03 (06-11-17)\n",
    "- In questo workshop è stata realizzato uno dei progetti di Leonarda da Vinci utilizzando PyPlasm"
   ]
  },
  {
   "cell_type": "code",
   "execution_count": 276,
   "metadata": {},
   "outputs": [],
   "source": [
    "from pyplasm import *\n",
    "\n",
    "def torre(larghezza,altezza_torre,face_laterali, face_altezza):\n",
    "    return STRUCT([colonna(larghezza,altezza_torre,face_laterali), T(3)(altezza_torre)(cupola(larghezza,face_altezza,face_laterali))])\n",
    "\n",
    "def colonna(larghezza,altezza,face):\n",
    "    struttura = CYLINDER ([larghezza,altezza])(face)\n",
    "    base = CYLINDER ([larghezza*1.1,altezza*0.1])(face)\n",
    "    colonna = STRUCT([TOP([base,struttura])])\n",
    "    colonna = STRUCT([TOP([colonna,base])])\n",
    "    return colonna\n",
    "\n",
    "def cupola(diametro,faces_orizzontali,faces_verticali):\n",
    "    cubo = T([1,2])([-diametro,-diametro])(CUBOID([diametro*3,diametro*3,diametro*3]))\n",
    "    sfera = JOIN(SPHERE(diametro)([faces_orizzontali,faces_verticali]))\n",
    "    cupola = INTERSECTION([cubo,sfera])\n",
    "    return STRUCT([cupola])\n",
    "\n",
    "def edificio(dimensione_lato, altezza):\n",
    "    capitello = CUBOID([dimensione_lato*1.05, dimensione_lato*1.05, dimensione_lato*0.1])\n",
    "    capitello_2 = CUBOID([dimensione_lato*0.80, dimensione_lato*0.80, dimensione_lato*0.1])\n",
    "    base = CUBOID([dimensione_lato*1.05, dimensione_lato*1.05, dimensione_lato*0.1])\n",
    "    struttura = CUBOID([dimensione_lato,dimensione_lato,altezza])\n",
    "    edificio = STRUCT([TOP([struttura,capitello])])\n",
    "    edificio = STRUCT([TOP([edificio,capitello_2])])\n",
    "    edificio = STRUCT([TOP([base,edificio])])\n",
    "    return edificio"
   ]
  },
  {
   "cell_type": "code",
   "execution_count": 246,
   "metadata": {},
   "outputs": [
    {
     "data": {
      "text/plain": [
       "<pyplasm.xgepy.Hpc; proxy of <Swig Object of type 'std::shared_ptr< Hpc > *' at 0x000000000BCC2DB0> >"
      ]
     },
     "execution_count": 246,
     "metadata": {},
     "output_type": "execute_result"
    }
   ],
   "source": [
    "VIEW(STRUCT([colonna(4,10,8)]))"
   ]
  },
  {
   "cell_type": "code",
   "execution_count": 210,
   "metadata": {},
   "outputs": [
    {
     "name": "stdout",
     "output_type": "stream",
     "text": [
      "Child 3\n"
     ]
    },
    {
     "data": {
      "text/plain": [
       "<pyplasm.xgepy.Hpc; proxy of <Swig Object of type 'std::shared_ptr< Hpc > *' at 0x000000000BBEFAE0> >"
      ]
     },
     "execution_count": 210,
     "metadata": {},
     "output_type": "execute_result"
    }
   ],
   "source": [
    "VIEW(cupola(10,10,8))"
   ]
  },
  {
   "cell_type": "code",
   "execution_count": 211,
   "metadata": {},
   "outputs": [
    {
     "name": "stdout",
     "output_type": "stream",
     "text": [
      "Child 3\n"
     ]
    },
    {
     "data": {
      "text/plain": [
       "<pyplasm.xgepy.Hpc; proxy of <Swig Object of type 'std::shared_ptr< Hpc > *' at 0x000000000BBEFCF0> >"
      ]
     },
     "execution_count": 211,
     "metadata": {},
     "output_type": "execute_result"
    }
   ],
   "source": [
    "VIEW(torre(3,10,8,12))"
   ]
  },
  {
   "cell_type": "code",
   "execution_count": 308,
   "metadata": {},
   "outputs": [
    {
     "name": "stdout",
     "output_type": "stream",
     "text": [
      "Child 3\n",
      "Child 3\n"
     ]
    }
   ],
   "source": [
    "# parametri delle torri espresse in metri\n",
    "altezza_torre=5\n",
    "larghezza_torre=3\n",
    "numero_faccie_torre=8\n",
    "sfericita_cupola=30\n",
    "\n",
    "obj=torre(larghezza_torre,altezza_torre,numero_faccie_torre,sfericita_cupola)\n",
    "\n",
    "# parametri dell'edificio centrale espresso in metri\n",
    "larghezza_edificio=10\n",
    "altezza_edificio=9\n",
    "\n",
    "obj2=edificio(larghezza_edificio, altezza_edificio)\n",
    "\n",
    "# parametri della torre centrale\n",
    "altezza_torre_2=2\n",
    "\n",
    "obj3=torre(larghezza_torre,altezza_torre_2,numero_faccie_torre,sfericita_cupola)\n",
    "\n",
    "#comando per generare la struttura laterale\n",
    "struttura_piccola = STRUCT([obj2, T([1,2])([0,larghezza_edificio/2])(obj),T([1,2])([larghezza_edificio/2,0])(obj),T([1,2])([larghezza_edificio,larghezza_edificio/2])(obj),T([1,2])([larghezza_edificio/2,larghezza_edificio])(obj),T([1,2,3])([larghezza_edificio/2,larghezza_edificio/2,altezza_edificio+larghezza_edificio*0.3])(obj3)])"
   ]
  },
  {
   "cell_type": "code",
   "execution_count": 326,
   "metadata": {},
   "outputs": [
    {
     "data": {
      "text/plain": [
       "<pyplasm.xgepy.Hpc; proxy of <Swig Object of type 'std::shared_ptr< Hpc > *' at 0x000000000BB85360> >"
      ]
     },
     "execution_count": 326,
     "metadata": {},
     "output_type": "execute_result"
    }
   ],
   "source": [
    "larghezza_edificio_centrale=20\n",
    "altezza_edificio_centrale=20\n",
    "edificio_centrale = edificio(larghezza_edificio_centrale, altezza_edificio_centrale)\n",
    "\n",
    "VIEW(STRUCT([struttura_piccola,struttura_piccola]))"
   ]
  },
  {
   "cell_type": "code",
   "execution_count": null,
   "metadata": {},
   "outputs": [],
   "source": []
  }
 ],
 "metadata": {
  "kernelspec": {
   "display_name": "Python 2",
   "language": "python",
   "name": "python2"
  },
  "language_info": {
   "codemirror_mode": {
    "name": "ipython",
    "version": 2
   },
   "file_extension": ".py",
   "mimetype": "text/x-python",
   "name": "python",
   "nbconvert_exporter": "python",
   "pygments_lexer": "ipython2",
   "version": "2.7.12"
  }
 },
 "nbformat": 4,
 "nbformat_minor": 2
}
