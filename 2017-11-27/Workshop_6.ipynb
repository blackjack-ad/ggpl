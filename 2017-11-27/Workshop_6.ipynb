{
 "cells": [
  {
   "cell_type": "markdown",
   "metadata": {},
   "source": [
    "# Esercitazione \"Laboratorio di Programmazione Geometrica e Grafica\""
   ]
  },
  {
   "cell_type": "markdown",
   "metadata": {},
   "source": [
    "## Workshop_06 (27-11-17)\n",
    "\n",
    "- In questo workshop è stato richiesto di realizzare un metodo in grado di convertire un'insieme di linee in un grafo composto da vertici e archi\n",
    "- le coordinate dei punti sono state arrotondate ad una cifra decimale"
   ]
  },
  {
   "cell_type": "code",
   "execution_count": 4,
   "metadata": {},
   "outputs": [],
   "source": [
    "from pyplasm import *\n",
    "import math\n",
    "import csv\n",
    "\n",
    "def linee2grafo (percorso):\n",
    "    with open(percorso, \"rb\") as file:\n",
    "        reader = csv.reader(file, delimiter=\",\")\n",
    "        vertici = {}\n",
    "        archi = []\n",
    "        numero_vertice = 0 # valore associato ad un vertice\n",
    "        for row in reader:\n",
    "            row_x1 = math.floor(float(row[0])*10)/10\n",
    "            row_y1 = math.floor(float(row[1])*10)/10\n",
    "            row_x2 = math.floor(float(row[2])*10)/10\n",
    "            row_y2 = math.floor(float(row[3])*10)/10\n",
    "            if not([row_x1,row_y1] in vertici.values()):\n",
    "                numero_vertice = numero_vertice + 1\n",
    "                vertici[numero_vertice] = [row_x1,row_y1]\n",
    "            if not([row_x2,row_y2] in vertici.values()):\n",
    "                numero_vertice = numero_vertice + 1\n",
    "                vertici[numero_vertice] = [row_x2,row_y2]\n",
    "\n",
    "            archi.append([vertici.keys()[vertici.values().index([row_x1,row_y1])],\n",
    "                          vertici.keys()[vertici.values().index([row_x2,row_y2])]])\n",
    "    print \"Operazione completata\"\n",
    "    return [vertici,archi]"
   ]
  },
  {
   "cell_type": "code",
   "execution_count": 25,
   "metadata": {},
   "outputs": [
    {
     "name": "stdout",
     "output_type": "stream",
     "text": [
      "Operazione completata\n"
     ]
    }
   ],
   "source": [
    "percorso_file_prova = \"svg/plain.lines.txt\"\n",
    "\n",
    "a = linee2grafo(percorso_file_prova)\n",
    "\n",
    "vertici = a[0]\n",
    "archi = a[1]"
   ]
  },
  {
   "cell_type": "markdown",
   "metadata": {},
   "source": [
    "### Esempio del funzionamento del metodo con un file di prova\n",
    "- il file rappresenta 4 linee\n",
    "- le linee del file costituiscono un quadrato i quali vertici sono (1,1),(2,2),(3,3),(4,4)"
   ]
  },
  {
   "cell_type": "markdown",
   "metadata": {},
   "source": [
    "![2017-12-01_114343.png](imm/2017-12-01_114343.png)"
   ]
  },
  {
   "cell_type": "markdown",
   "metadata": {},
   "source": [
    "#### Questi sono i vertici restituiti dal metodo sotto forma di dizionario\n",
    "- chiave = valore del vertice (da contatore che parte da 0)\n",
    "- valore = coordinate (x,y) del punto"
   ]
  },
  {
   "cell_type": "code",
   "execution_count": 26,
   "metadata": {},
   "outputs": [
    {
     "data": {
      "text/plain": [
       "{1: [1.0, 1.0], 2: [2.0, 2.0], 3: [3.0, 3.0], 4: [4.0, 4.0]}"
      ]
     },
     "execution_count": 26,
     "metadata": {},
     "output_type": "execute_result"
    }
   ],
   "source": [
    "vertici"
   ]
  },
  {
   "cell_type": "markdown",
   "metadata": {},
   "source": [
    "#### Questi sono gli archi restituiti dal metodo sotto forma di lista\n",
    "- [primo_vertice, secondo_vertice]"
   ]
  },
  {
   "cell_type": "code",
   "execution_count": 27,
   "metadata": {},
   "outputs": [
    {
     "data": {
      "text/plain": [
       "[[1, 2], [2, 3], [3, 1], [1, 4]]"
      ]
     },
     "execution_count": 27,
     "metadata": {},
     "output_type": "execute_result"
    }
   ],
   "source": [
    "archi"
   ]
  },
  {
   "cell_type": "markdown",
   "metadata": {},
   "source": [
    "### Risultato con il vero file della planimetria"
   ]
  },
  {
   "cell_type": "code",
   "execution_count": 5,
   "metadata": {},
   "outputs": [
    {
     "name": "stdout",
     "output_type": "stream",
     "text": [
      "Operazione completata\n"
     ]
    }
   ],
   "source": [
    "percorso_file = \"svg/planimetria.lines\"\n",
    "\n",
    "a_1 = linee2grafo(percorso_file)\n",
    "\n",
    "vertici_1 = a_1[0]\n",
    "archi_1 = a_1[1]"
   ]
  },
  {
   "cell_type": "markdown",
   "metadata": {},
   "source": [
    "### Dizionario dei vertici"
   ]
  },
  {
   "cell_type": "code",
   "execution_count": 38,
   "metadata": {},
   "outputs": [
    {
     "data": {
      "text/plain": [
       "{1: [18.1, 69.0],\n",
       " 2: [18.2, 204.0],\n",
       " 3: [195.0, 204.0],\n",
       " 4: [195.0, 69.1],\n",
       " 5: [56.5, 158.2],\n",
       " 6: [56.6, 110.5],\n",
       " 7: [24.0, 110.6],\n",
       " 8: [24.1, 158.2],\n",
       " 9: [24.0, 162.6],\n",
       " 10: [23.8, 198.2],\n",
       " 11: [84.0, 198.3],\n",
       " 12: [84.1, 162.7],\n",
       " 13: [130.4, 198.3],\n",
       " 14: [130.2, 161.5],\n",
       " 15: [189.7, 161.5],\n",
       " 16: [190.1, 198.1],\n",
       " 17: [157.2, 157.7],\n",
       " 18: [157.2, 110.6],\n",
       " 19: [189.8, 110.8],\n",
       " 20: [189.7, 157.7],\n",
       " 21: [157.6, 74.1],\n",
       " 22: [157.6, 105.9],\n",
       " 23: [189.9, 106.1],\n",
       " 24: [190.0, 73.9],\n",
       " 25: [77.3, 156.7],\n",
       " 26: [77.4, 120.6],\n",
       " 27: [89.3, 120.4],\n",
       " 28: [89.5, 111.9],\n",
       " 29: [125.4, 111.7],\n",
       " 30: [125.2, 120.7],\n",
       " 31: [136.0, 120.9],\n",
       " 32: [136.0, 156.9],\n",
       " 33: [23.8, 106.6],\n",
       " 34: [23.8, 73.9],\n",
       " 35: [56.2, 74.1],\n",
       " 36: [56.3, 106.8],\n",
       " 37: [99.9, 112.0],\n",
       " 38: [99.9, 106.1],\n",
       " 39: [74.4, 105.9],\n",
       " 40: [114.2, 111.8],\n",
       " 41: [114.2, 106.1],\n",
       " 42: [139.2, 106.3],\n",
       " 43: [74.1, 69.2],\n",
       " 44: [74.2, 76.3],\n",
       " 45: [69.5, 76.4],\n",
       " 46: [69.5, 78.7],\n",
       " 47: [139.8, 69.2],\n",
       " 48: [139.8, 76.4],\n",
       " 49: [144.0, 76.4],\n",
       " 50: [144.0, 78.7],\n",
       " 51: [69.7, 105.1],\n",
       " 52: [69.7, 103.0],\n",
       " 53: [143.8, 105.1],\n",
       " 54: [143.8, 103.2],\n",
       " 55: [61.5, 84.3],\n",
       " 56: [60.0, 93.9],\n",
       " 57: [66.2, 101.5],\n",
       " 58: [151.8, 97.7],\n",
       " 59: [153.5, 88.1],\n",
       " 60: [147.6, 80.4],\n",
       " 61: [90.4, 156.9],\n",
       " 62: [90.4, 198.0],\n",
       " 63: [124.4, 198.3],\n",
       " 64: [124.1, 156.7]}"
      ]
     },
     "execution_count": 38,
     "metadata": {},
     "output_type": "execute_result"
    }
   ],
   "source": [
    "vertici_1"
   ]
  },
  {
   "cell_type": "markdown",
   "metadata": {},
   "source": [
    "### Lista degli archi"
   ]
  },
  {
   "cell_type": "code",
   "execution_count": 39,
   "metadata": {},
   "outputs": [
    {
     "data": {
      "text/plain": [
       "[[1, 2],\n",
       " [2, 3],\n",
       " [3, 4],\n",
       " [1, 4],\n",
       " [5, 6],\n",
       " [6, 7],\n",
       " [7, 8],\n",
       " [5, 8],\n",
       " [9, 10],\n",
       " [10, 11],\n",
       " [11, 12],\n",
       " [9, 12],\n",
       " [13, 14],\n",
       " [14, 15],\n",
       " [15, 16],\n",
       " [13, 16],\n",
       " [17, 18],\n",
       " [18, 19],\n",
       " [19, 20],\n",
       " [17, 20],\n",
       " [21, 22],\n",
       " [22, 23],\n",
       " [23, 24],\n",
       " [21, 24],\n",
       " [25, 26],\n",
       " [26, 27],\n",
       " [27, 28],\n",
       " [28, 29],\n",
       " [29, 30],\n",
       " [30, 31],\n",
       " [31, 32],\n",
       " [25, 32],\n",
       " [33, 34],\n",
       " [34, 35],\n",
       " [35, 36],\n",
       " [33, 36],\n",
       " [37, 38],\n",
       " [38, 39],\n",
       " [40, 41],\n",
       " [41, 42],\n",
       " [43, 44],\n",
       " [44, 45],\n",
       " [45, 46],\n",
       " [47, 48],\n",
       " [48, 49],\n",
       " [49, 50],\n",
       " [39, 51],\n",
       " [51, 52],\n",
       " [42, 53],\n",
       " [53, 54],\n",
       " [46, 55],\n",
       " [55, 56],\n",
       " [56, 57],\n",
       " [57, 52],\n",
       " [54, 58],\n",
       " [58, 59],\n",
       " [59, 60],\n",
       " [60, 50],\n",
       " [61, 62],\n",
       " [62, 63],\n",
       " [63, 64]]"
      ]
     },
     "execution_count": 39,
     "metadata": {},
     "output_type": "execute_result"
    }
   ],
   "source": [
    "archi_1"
   ]
  },
  {
   "cell_type": "markdown",
   "metadata": {},
   "source": [
    "### Visualizzazione della planimetria medianto l'utilizzo del grafo precedentemente ottenuto"
   ]
  },
  {
   "cell_type": "code",
   "execution_count": 14,
   "metadata": {},
   "outputs": [
    {
     "data": {
      "text/plain": [
       "<pyplasm.xgepy.Hpc; proxy of <Swig Object of type 'std::shared_ptr< Hpc > *' at 0x000000000AD381E0> >"
      ]
     },
     "execution_count": 14,
     "metadata": {},
     "output_type": "execute_result"
    }
   ],
   "source": [
    "from pyplasm import *\n",
    "import math\n",
    "import csv\n",
    "muri = []\n",
    "cont = 0\n",
    "for cont in range(0,len(archi_1)):\n",
    "    row_x1 = vertici_1[archi_1[cont][0]][0]\n",
    "    row_y1 = vertici_1[archi_1[cont][0]][1]\n",
    "    row_x2 = vertici_1[archi_1[cont][1]][0]\n",
    "    row_y2 = vertici_1[archi_1[cont][1]][1]\n",
    "    muri.append(POLYLINE([[row_x1, row_y1], [row_x2, row_y2]]))\n",
    "\n",
    "VIEW(STRUCT(muri))"
   ]
  },
  {
   "attachments": {},
   "cell_type": "markdown",
   "metadata": {},
   "source": [
    "![a.png](imm/a.png)"
   ]
  },
  {
   "cell_type": "markdown",
   "metadata": {},
   "source": [
    "### Planimetria in 3D generata a partire dal grafo di vertici e archi"
   ]
  },
  {
   "cell_type": "code",
   "execution_count": 15,
   "metadata": {},
   "outputs": [
    {
     "data": {
      "text/plain": [
       "<pyplasm.xgepy.Hpc; proxy of <Swig Object of type 'std::shared_ptr< Hpc > *' at 0x000000000A9A0600> >"
      ]
     },
     "execution_count": 15,
     "metadata": {},
     "output_type": "execute_result"
    }
   ],
   "source": [
    "altezza=20\n",
    "VIEW(MULTEXTRUDE(OFFSET([1,1])(STRUCT(muri)))(altezza))"
   ]
  },
  {
   "attachments": {},
   "cell_type": "markdown",
   "metadata": {},
   "source": [
    "![b.png](imm/b.png)"
   ]
  },
  {
   "attachments": {},
   "cell_type": "markdown",
   "metadata": {},
   "source": [
    "![planimetria-3D.png](imm/planimetria-3D.png)"
   ]
  },
  {
   "attachments": {},
   "cell_type": "markdown",
   "metadata": {},
   "source": [
    "![planimetria-3D-2.png](imm/planimetria-3D-2.png)"
   ]
  },
  {
   "cell_type": "code",
   "execution_count": null,
   "metadata": {},
   "outputs": [],
   "source": []
  }
 ],
 "metadata": {
  "kernelspec": {
   "display_name": "Python 2",
   "language": "python",
   "name": "python2"
  },
  "language_info": {
   "codemirror_mode": {
    "name": "ipython",
    "version": 2
   },
   "file_extension": ".py",
   "mimetype": "text/x-python",
   "name": "python",
   "nbconvert_exporter": "python",
   "pygments_lexer": "ipython2",
   "version": "2.7.12"
  }
 },
 "nbformat": 4,
 "nbformat_minor": 2
}
