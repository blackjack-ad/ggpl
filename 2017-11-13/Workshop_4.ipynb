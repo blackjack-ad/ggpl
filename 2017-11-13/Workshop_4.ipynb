{
 "cells": [
  {
   "cell_type": "markdown",
   "metadata": {},
   "source": [
    "# Esercitazione \"Laboratorio di Programmazione Geometrica e Grafica\""
   ]
  },
  {
   "cell_type": "markdown",
   "metadata": {},
   "source": [
    "## Workshop_04 (13-11-17)\n",
    "- In questo workshop è stato richiesto di ricostruitre in Python alcune delle funzioni generatrici proposte dal Professore"
   ]
  },
  {
   "cell_type": "markdown",
   "metadata": {},
   "source": [
    "### Cubo con angoli smussati (nuovo elemento)\n",
    "- cubo_angoli_smussati (raggio,altezza,fattore_smussamento)\n",
    "- fattore_smussamento = 0 crea un cilindro\n"
   ]
  },
  {
   "cell_type": "code",
   "execution_count": 84,
   "metadata": {},
   "outputs": [],
   "source": [
    "from larlib import *\n",
    "\n",
    "def getMap(r,altezza):\n",
    "    x = lambda p : r*sin(p[0])*cos(p[0])\n",
    "    y = lambda p : r*cos(p[0])*cos(p[0])\n",
    "    z = lambda p : altezza\n",
    "    dom = INTERVALS(PI)(32) # primo parametro dimensione dominio, secondo parametro in quante parti voglio dividerlo\n",
    "\n",
    "    map = MAP([x,y,z])(dom)\n",
    "    \n",
    "    return map\n",
    "\n",
    "def cubo_angoli_smussati(r,altezza,fattore_smussamento):\n",
    "    fattore_smussamento = fattore_smussamento * r\n",
    "    elemento = OFFSET([fattore_smussamento,fattore_smussamento,fattore_smussamento])(JOIN([getMap(r,0),getMap(r,altezza)]))\n",
    "    \n",
    "    return elemento"
   ]
  },
  {
   "cell_type": "code",
   "execution_count": 95,
   "metadata": {},
   "outputs": [
    {
     "data": {
      "text/plain": [
       "<pyplasm.xgepy.Hpc; proxy of <Swig Object of type 'std::shared_ptr< Hpc > *' at 0x000000000BAB2390> >"
      ]
     },
     "execution_count": 95,
     "metadata": {},
     "output_type": "execute_result"
    }
   ],
   "source": [
    "VIEW(cubo_angoli_smussati(1,4,1))\n",
    "VIEW(SKEL_1(cubo_angoli_smussati(1,4,1)))"
   ]
  },
  {
   "cell_type": "markdown",
   "metadata": {},
   "source": [
    "![2017-11-14_165626.png](imm/2017-11-14_165626.png)"
   ]
  },
  {
   "cell_type": "markdown",
   "metadata": {},
   "source": [
    "![2017-11-14_165657.png](imm/2017-11-14_165657.png)"
   ]
  },
  {
   "cell_type": "markdown",
   "metadata": {},
   "source": [
    "### Imbuto (nuovo elemento)\n",
    "- imbuto (r1,r2,altezza)"
   ]
  },
  {
   "cell_type": "code",
   "execution_count": null,
   "metadata": {},
   "outputs": [
    {
     "name": "stdout",
     "output_type": "stream",
     "text": [
      "Evaluating fenvs.py..\n",
      "...fenvs.py imported in 0.00679426355248 seconds\n"
     ]
    }
   ],
   "source": [
    "from larlib import *\n",
    "\n",
    "def getMap(r,altezza):\n",
    "    x = lambda p : r*sin(p[0])*cos(p[0])\n",
    "    y = lambda p : r*cos(p[0])*cos(p[0])\n",
    "    z = lambda p : altezza\n",
    "    dom = INTERVALS(PI)(32) # primo parametro dimensione dominio, secondo parametro in quante parti voglio dividerlo\n",
    "\n",
    "    map = MAP([x,y,z])(dom)\n",
    "    \n",
    "    return map\n",
    "\n",
    "def imbuto(r1,r2,altezza):\n",
    "    elemento = JOIN([T(2)(-r1*0.5)(getMap(r1,0)),T(2)(-r2*0.5)(getMap(r2,altezza))])\n",
    "    \n",
    "    return elemento"
   ]
  },
  {
   "cell_type": "code",
   "execution_count": null,
   "metadata": {},
   "outputs": [],
   "source": [
    "VIEW(imbuto(4,1,2))\n",
    "VIEW(SKEL_1(imbuto(4,1,2)))"
   ]
  },
  {
   "cell_type": "markdown",
   "metadata": {},
   "source": [
    "![2017-11-14_171341.png](imm/2017-11-14_171341.png)"
   ]
  },
  {
   "cell_type": "markdown",
   "metadata": {},
   "source": [
    "![2017-11-14_171359.png](imm/2017-11-14_171359.png)"
   ]
  },
  {
   "cell_type": "markdown",
   "metadata": {},
   "source": [
    "### Listing 2: Definition of a column"
   ]
  },
  {
   "cell_type": "markdown",
   "metadata": {},
   "source": [
    "```\n",
    "DEF columna (dm, h , h base : : isReal) = base TOP\n",
    "torus bot TOP cylndr TOP torus top TOP capital\n",
    "TOP base top\n",
    "WHERE\n",
    "cylndr = (JOIN∼TRUNCONE:<dm/2 ,0.8 * dm/2 ,h>):24 ,\n",
    "torus bot = (JOIN∼TORUS:<dm/12 ,d/2>):<8,24>,\n",
    "torus top = (JOIN∼TORUS:<0.8 * (dm/12) ,0.8 * (dm/2)>):<8,24>,\n",
    "base = (T:<1,2>:<7 * dm/-12 , 7 * dm/-12> ∼ CUBOID):<7 * dm/6 , 7 * dm/6 , h base >,\n",
    "base top = (T:<1,2>:<7 * dm/-12 , 7 * dm/-12> ∼ CUBOID):<7 * dm/6 , 7 * dm/6 , dm/6>,\n",
    "capital = (JOIN ∼ TRUNCONE:< 0.8 * dm/2 , 1.2 * dm/2 , h/8>):4 + (R:<1,2>:(PI/4) ∼ JOIN ∼ TRUNCONE:< 0.8 * dm/2 ,1.2 * dm/2 ,h/8>):4\n",
    "END;```"
   ]
  },
  {
   "cell_type": "code",
   "execution_count": 4,
   "metadata": {},
   "outputs": [
    {
     "name": "stdout",
     "output_type": "stream",
     "text": [
      "Child 3\n",
      "Child 3\n",
      "Child 3\n",
      "Child 3\n"
     ]
    },
    {
     "data": {
      "text/plain": [
       "<pyplasm.xgepy.Hpc; proxy of <Swig Object of type 'std::shared_ptr< Hpc > *' at 0x000000000E95DF00> >"
      ]
     },
     "execution_count": 4,
     "metadata": {},
     "output_type": "execute_result"
    }
   ],
   "source": [
    "from larlib import *\n",
    "def columna(dm, h, h_base):\n",
    "    cylndr = COMP([JOIN, TRUNCONE([dm/2,.8*dm/2,h])])(24)\n",
    "    torus_bot = COMP([JOIN,TORUS([dm/12,dm/2])])([8,24])\n",
    "    torus_top = COMP([JOIN,TORUS([.8*(dm/12),.8*(dm/2)])])([8,24])\n",
    "    base = COMP([T([1,2])([7*dm/-12,7*dm/-12]),CUBOID])([7*dm/6,7*dm/6,h_base])\n",
    "    base_top = COMP([T([1, 2])([7*dm/-12,7*dm/-12]),CUBOID])([7*dm/6,7*dm/6,dm/6])\n",
    "    capital = SUM([COMP([JOIN,TRUNCONE([.8*dm/2,1.2*dm/2,h/8])])(4),COMP([R([1,2])(PI/4),JOIN,TRUNCONE([.8*dm/2,1.2*dm/2,h/8])])(4)\n",
    "    ])\n",
    "    return TOP([TOP([TOP([TOP([TOP([base,torus_bot]),cylndr]),torus_top]),capital]),base_top])\n",
    "\n",
    "VIEW(columna(12,25,2))\n",
    "VIEW(SKEL_1(columna(12,25,2)))"
   ]
  },
  {
   "cell_type": "markdown",
   "metadata": {},
   "source": [
    "![colonna1.png](imm/colonna1.png)"
   ]
  },
  {
   "cell_type": "markdown",
   "metadata": {},
   "source": [
    "![colonna1_skel.png](imm/colonna1_skel.png)"
   ]
  },
  {
   "cell_type": "markdown",
   "metadata": {},
   "source": [
    "![colonna2.png](imm/colonna2.png)"
   ]
  },
  {
   "cell_type": "markdown",
   "metadata": {},
   "source": [
    "### Colonnato\n",
    "- colonnato (dm,h,h_base,numero_colonne,spazio) crea un colonnato composto da un numero arbitrario di colonne distaziate tra loro si \"spazio\" metri\n",
    "- per definire la funzione colonnato è stata modificata opportunatamente la funzione columna"
   ]
  },
  {
   "cell_type": "code",
   "execution_count": 27,
   "metadata": {},
   "outputs": [
    {
     "name": "stdout",
     "output_type": "stream",
     "text": [
      "Child 3\n",
      "Child 3\n"
     ]
    },
    {
     "data": {
      "text/plain": [
       "<pyplasm.xgepy.Hpc; proxy of <Swig Object of type 'std::shared_ptr< Hpc > *' at 0x000000000E9446C0> >"
      ]
     },
     "execution_count": 27,
     "metadata": {},
     "output_type": "execute_result"
    }
   ],
   "source": [
    "def columna_mod(dm, h, h_base,spazio):\n",
    "    cylndr = COMP([JOIN, TRUNCONE([dm/2,.8*dm/2,h])])(24)\n",
    "    torus_bot = COMP([JOIN,TORUS([dm/12,dm/2])])([8,24])\n",
    "    torus_top = COMP([JOIN,TORUS([.8*(dm/12),.8*(dm/2)])])([8,24])\n",
    "    base = COMP([T([1,2])([7*dm/-12,7*dm/-12]),CUBOID])([7*dm/6+spazio,7*dm/6,h_base])\n",
    "    base_top = COMP([T([1, 2])([7*dm/-12,7*dm/-12]),CUBOID])([7*dm/6+spazio,7*dm/6,dm/6])\n",
    "    capital = SUM([COMP([JOIN,TRUNCONE([.8*dm/2,1.2*dm/2,h/8])])(4),COMP([R([1,2])(PI/4),JOIN,TRUNCONE([.8*dm/2,1.2*dm/2,h/8])])(4)\n",
    "    ])\n",
    "    return TOP([TOP([TOP([TOP([TOP([base,torus_bot]),cylndr]),torus_top]),capital]),base_top])\n",
    "\n",
    "def colonnato(dm,h,h_base,numero_colonne,spazio):\n",
    "    return(STRUCT(NN(numero_colonne)([columna_mod(dm,h,h_base,spazio),T(1)(spazio+dm)])))"
   ]
  },
  {
   "cell_type": "code",
   "execution_count": null,
   "metadata": {},
   "outputs": [],
   "source": [
    "VIEW(colonnato(12,25,2,5,20))"
   ]
  },
  {
   "cell_type": "markdown",
   "metadata": {},
   "source": [
    "![colonnato.png](imm/colonnato.png)"
   ]
  },
  {
   "cell_type": "code",
   "execution_count": 28,
   "metadata": {},
   "outputs": [
    {
     "name": "stdout",
     "output_type": "stream",
     "text": [
      "Child 3\n",
      "Child 3\n"
     ]
    },
    {
     "data": {
      "text/plain": [
       "<pyplasm.xgepy.Hpc; proxy of <Swig Object of type 'std::shared_ptr< Hpc > *' at 0x000000000E9448A0> >"
      ]
     },
     "execution_count": 28,
     "metadata": {},
     "output_type": "execute_result"
    }
   ],
   "source": [
    "VIEW(colonnato(12,25,2,20,5))"
   ]
  },
  {
   "cell_type": "markdown",
   "metadata": {},
   "source": [
    "![colonnato2.png](imm/colonnato2.png)"
   ]
  },
  {
   "cell_type": "code",
   "execution_count": 31,
   "metadata": {},
   "outputs": [
    {
     "name": "stdout",
     "output_type": "stream",
     "text": [
      "Child 3\n",
      "Child 3\n"
     ]
    },
    {
     "data": {
      "text/plain": [
       "<pyplasm.xgepy.Hpc; proxy of <Swig Object of type 'std::shared_ptr< Hpc > *' at 0x000000000EA66360> >"
      ]
     },
     "execution_count": 31,
     "metadata": {},
     "output_type": "execute_result"
    }
   ],
   "source": [
    "VIEW(colonnato(10,20,2,3,2))"
   ]
  },
  {
   "cell_type": "markdown",
   "metadata": {},
   "source": [
    "![colonnato3.png](imm/colonnato3.png)"
   ]
  }
 ],
 "metadata": {
  "kernelspec": {
   "display_name": "Python 2",
   "language": "python",
   "name": "python2"
  },
  "language_info": {
   "codemirror_mode": {
    "name": "ipython",
    "version": 2
   },
   "file_extension": ".py",
   "mimetype": "text/x-python",
   "name": "python",
   "nbconvert_exporter": "python",
   "pygments_lexer": "ipython2",
   "version": "2.7.12"
  }
 },
 "nbformat": 4,
 "nbformat_minor": 2
}
