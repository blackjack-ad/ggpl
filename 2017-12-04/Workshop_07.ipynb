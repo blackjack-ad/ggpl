{
 "cells": [
  {
   "cell_type": "markdown",
   "metadata": {},
   "source": [
    "# Esercitazione \"Laboratorio di Programmazione Geometrica e Grafica\""
   ]
  },
  {
   "cell_type": "markdown",
   "metadata": {},
   "source": [
    "## Workshop_07 (04-12-17)\n",
    "\n",
    "- In questo workshop è stato richiesto di convertire in PyPlasm la realizzazione del \"Modello geometrico di S. Stefano Rotondo al Celio\" definito in PLASM"
   ]
  },
  {
   "cell_type": "code",
   "execution_count": 1,
   "metadata": {},
   "outputs": [
    {
     "name": "stdout",
     "output_type": "stream",
     "text": [
      "Evaluating fenvs.py..\n",
      "...fenvs.py imported in 0.0060321903816 seconds\n"
     ]
    },
    {
     "name": "stderr",
     "output_type": "stream",
     "text": [
      "c:\\programmi\\python27\\lib\\site-packages\\larlib\\larstruct.py:233: FutureWarning: comparison to `None` will result in an elementwise object comparison in the future.\n",
      "  self.body = [item for item in data if item != None]\n"
     ]
    }
   ],
   "source": [
    "from larlib import *"
   ]
  },
  {
   "cell_type": "markdown",
   "metadata": {},
   "source": [
    "%*************************************************************%\n",
    "%---Misure di riferimento--(cubito = 0.462 m)-----------------%\n",
    "%*************************************************************%\n",
    "\n",
    "%-- 1 cubito = 444 mm ----------------------------------------%\n",
    "DEF r0 = 24; %---cubiti; raggio interno del muro interno------%\n",
    "DEF r2 = 48; %---cubiti; raggio esterno del muro medio--------%\n",
    "DEF r3 = 72; %---cubiti; raggio esterno del muro esterno------%\n",
    "DEF r4 = 88; %---cubiti; raggio esterno scale esterne---------%\n",
    "\n",
    "DEF wsteps = 10;  %---cubiti; profondita' scale esterne-------%\n",
    "DEF nsteps = 10;  %---numero alzate/pedate scale esterne------%\n",
    "DEF wstep = wsteps/nsteps; %---cubiti; larghezza pedata-------%\n",
    "DEF hstep = 1/3; %---cubiti; altezza alzata-------------------%\n",
    "DEF hw4 = 29; %--cubiti; altezza all'imposta del muro esterno-%\n",
    "DEF hbasament = hstep*nsteps;"
   ]
  },
  {
   "cell_type": "code",
   "execution_count": 2,
   "metadata": {},
   "outputs": [],
   "source": [
    "# Misure di riferimento--(cubito = 0.462 m)\n",
    "\n",
    "\n",
    "# 1 cubito = 444 mm\n",
    "\n",
    "r0 = 24; # cubiti; raggio interno del muro interno\n",
    "r2 = 48; # cubiti; raggio esterno del muro medio\n",
    "r3 = 72; # cubiti; raggio esterno del muro esterno\n",
    "r4 = 88; # cubiti; raggio esterno scale esterne\n",
    "\n",
    "wsteps = 10;  # cubiti; profondita' scale esterne\n",
    "nsteps = 10;  # numero alzate/pedate scale esterne\n",
    "wstep = wsteps/nsteps; # cubiti; larghezza pedata\n",
    "hstep = 1.0/3.0; # cubiti; altezza alzata\n",
    "hw4 = 29; # cubiti; altezza all'imposta del muro esterno\n",
    "hbasament = hstep*nsteps;"
   ]
  },
  {
   "cell_type": "markdown",
   "metadata": {},
   "source": [
    "%-------------------------------------------------------------%\n",
    "%---Mappa cilindrica------------------------------------------%\n",
    "%-------------------------------------------------------------%\n",
    "\n",
    "DEF cylMap = MAP:[S2 * sin ~ S1, S2 * cos ~ S1, S3];"
   ]
  },
  {
   "cell_type": "code",
   "execution_count": 40,
   "metadata": {},
   "outputs": [],
   "source": [
    "# Mappa cilindrica\n",
    "\n",
    "def cylMap():\n",
    "    x = lambda k: k[1] * SIN(k[0])\n",
    "    y = lambda k: k[1] * COS(k[0])\n",
    "    z = lambda k: k[2]\n",
    "    return MAP([x,y,z])"
   ]
  },
  {
   "cell_type": "markdown",
   "metadata": {},
   "source": [
    "%-------------------------------------------------------------%\n",
    "%---Scala esterna---------------------------------------------%\n",
    "%-------------------------------------------------------------%\n",
    "\n",
    "DEF vdom (h::IsRealPos) = ((EMBED:1 ~ Intervals:(PI*3/24)):3) * QUOTE:<h>;\n",
    "DEF hdom (w::IsRealPos) = (S:2:-1 ~ EMBED:1):(Intervals:(PI*3/24):3 * QUOTE:<w>);\n",
    "\n",
    "DEF steps (w,h::IsRealPos) (n::IsIntPos) = (STRUCT ~ CAT ~ #:n):\n",
    "  < vdom:h, T:3:h, hdom:w, T:2:(-:w) >;\n",
    "\n",
    "DEF hbasament = hstep*nsteps;\n",
    "DEF stair = (MKPOL ~ UKPOL):(steps:<wstep,hstep>:nsteps RIGHT (S:2:-1 ~ @2 ~ CUBOID):<PI/24,wsteps,hbasament>);\n",
    "DEF ramp  = cylMap:(T:2:r4:stair);\n",
    "DEF stairs = (STRUCT ~ ##:12):<ramp, R:<1,2>:(PI/6)>;\n"
   ]
  },
  {
   "cell_type": "code",
   "execution_count": 5,
   "metadata": {
    "scrolled": true
   },
   "outputs": [],
   "source": [
    "# Scala esterna\n",
    "\n",
    "def vdom(h):\n",
    "    return PROD([COMP([EMBED(1),INTERVALS(PI*3/24)])(3),QUOTE([h])])\n",
    "\n",
    "def hdom(w):\n",
    "    return COMP([S(2)(-1), EMBED(1)])(PROD([INTERVALS(PI*3/24)(3), QUOTE([w])]))\n",
    "\n",
    "def steps(w,h,n):\n",
    "     return COMP([STRUCT, CAT, N(n)])([vdom(h), T(3)(h), hdom(w), T(2)(-w)])\n",
    "\n",
    "hbasament = hstep * nsteps\n",
    "\n",
    "stair = RIGHT([COMP([MKPOL, UKPOL])(steps(wstep, hstep,nsteps)),COMP([S(2)(-1), SKEL_2, CUBOID])([PI/24, wsteps, hbasament])])\n",
    "\n",
    "ramp = cylMap(T(2)(r4)(stair))\n",
    "\n",
    "stairs = STRUCT(NN(12)([ramp, R([1, 2])(PI/6)]))"
   ]
  },
  {
   "cell_type": "code",
   "execution_count": 6,
   "metadata": {},
   "outputs": [
    {
     "data": {
      "text/plain": [
       "<pyplasm.xgepy.Hpc; proxy of <Swig Object of type 'std::shared_ptr< Hpc > *' at 0x000000000DCA8060> >"
      ]
     },
     "execution_count": 6,
     "metadata": {},
     "output_type": "execute_result"
    }
   ],
   "source": [
    "VIEW(stairs)"
   ]
  },
  {
   "attachments": {},
   "cell_type": "markdown",
   "metadata": {},
   "source": [
    "![2017-12-06_123607.png](imm/2017-12-06_123607.png)"
   ]
  },
  {
   "attachments": {},
   "cell_type": "markdown",
   "metadata": {},
   "source": [
    "![2017-12-06_123652.png](imm/2017-12-06_123652.png)"
   ]
  },
  {
   "cell_type": "markdown",
   "metadata": {},
   "source": [
    "%-------------------------------------------------------------%\n",
    "%---Basamento-------------------------------------------------%\n",
    "%-------------------------------------------------------------%\n",
    "\n",
    "DEF basisSector = (cylMap ~ EMBED:1):\n",
    "    (Intervals:(2*PI/12):4 * Intervals:(r4 - (wstep*(nsteps - 1))):1);\n",
    "DEF basis = (STRUCT ~ ##:12):<basisSector, R:<1,2>:(2*PI/12)>;\n",
    "DEF basement = (R:<1,2>:(PI/-48) ~ STRUCT):< stairs, T:3:(hstep*nsteps), basis >;"
   ]
  },
  {
   "cell_type": "code",
   "execution_count": 7,
   "metadata": {},
   "outputs": [
    {
     "data": {
      "text/plain": [
       "<pyplasm.xgepy.Hpc; proxy of <Swig Object of type 'std::shared_ptr< Hpc > *' at 0x000000000DCA8750> >"
      ]
     },
     "execution_count": 7,
     "metadata": {},
     "output_type": "execute_result"
    }
   ],
   "source": [
    "# Basamento\n",
    "\n",
    "basisSector = COMP([cylMap, EMBED(1)])(PROD([INTERVALS(2*PI/12)(4),INTERVALS(r4-(wstep*(nsteps-1)))(1)]))\n",
    "\n",
    "basis = COMP([STRUCT, NN(12)])([basisSector, R([1,2])(2*PI/12)])\n",
    "\n",
    "basement = COMP([R([1,2])(PI/-48),STRUCT])([stairs, T(3)(hstep*nsteps),basis])"
   ]
  },
  {
   "cell_type": "code",
   "execution_count": 8,
   "metadata": {},
   "outputs": [
    {
     "data": {
      "text/plain": [
       "<pyplasm.xgepy.Hpc; proxy of <Swig Object of type 'std::shared_ptr< Hpc > *' at 0x000000000DCA8750> >"
      ]
     },
     "execution_count": 8,
     "metadata": {},
     "output_type": "execute_result"
    }
   ],
   "source": [
    "VIEW(basement)"
   ]
  },
  {
   "attachments": {},
   "cell_type": "markdown",
   "metadata": {},
   "source": [
    "![2017-12-06_123807.png](imm/2017-12-06_123807.png)"
   ]
  },
  {
   "attachments": {},
   "cell_type": "markdown",
   "metadata": {},
   "source": [
    "![2017-12-06_123828.png](imm/2017-12-06_123828.png)"
   ]
  },
  {
   "cell_type": "code",
   "execution_count": null,
   "metadata": {},
   "outputs": [],
   "source": []
  }
 ],
 "metadata": {
  "kernelspec": {
   "display_name": "Python 2",
   "language": "python",
   "name": "python2"
  },
  "language_info": {
   "codemirror_mode": {
    "name": "ipython",
    "version": 2
   },
   "file_extension": ".py",
   "mimetype": "text/x-python",
   "name": "python",
   "nbconvert_exporter": "python",
   "pygments_lexer": "ipython2",
   "version": "2.7.12"
  }
 },
 "nbformat": 4,
 "nbformat_minor": 2
}
