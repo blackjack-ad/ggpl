{
 "cells": [
  {
   "cell_type": "markdown",
   "metadata": {},
   "source": [
    "# Esercitazione \"Laboratorio di Programmazione Geometrica e Grafica\"\n"
   ]
  },
  {
   "cell_type": "markdown",
   "metadata": {},
   "source": [
    "## Workshop_01 (23-10-17)\n",
    "- In questo workshop sono stati convertiti da FL a PyPlasm alcuni degli script presenti nel capitolo 1 e 2 del libro"
   ]
  },
  {
   "cell_type": "markdown",
   "metadata": {},
   "source": [
    "### Script 1.5.3 (Table model)"
   ]
  },
  {
   "cell_type": "markdown",
   "metadata": {},
   "source": [
    "```\n",
    "DEF Leg = CUBOID:< 0.1,0.1,0.7 >;\n",
    "DEF Plane = CUBOID:< 1, 1, 0.2>;\n",
    "DEF Table = STRUCT:<\n",
    "Leg, T:1:0.9, Leg, T:2:0.9, Leg, T:1:-0.9, Leg,\n",
    "T:<2,3>:<-0.9,0.7>, Plane >;\n",
    "DEF Table1 = STRUCT:<\n",
    "Leg, T:1:0.9:Leg, T:<1,2>:<0.9,0.9>:Leg, T:2:0.9:Leg,\n",
    "T:3:0.7:Plane >;\n",
    "```"
   ]
  },
  {
   "cell_type": "code",
   "execution_count": 1,
   "metadata": {},
   "outputs": [
    {
     "name": "stdout",
     "output_type": "stream",
     "text": [
      "Evaluating fenvs.py..\n",
      "...fenvs.py imported in 0.010190617284 seconds\n"
     ]
    }
   ],
   "source": [
    "from pyplasm import *\n",
    "def leg():\n",
    "    return CUBOID([0.1,0.1,0.7])\n",
    "def plane():\n",
    "    return CUBOID([1,1,0.2])\n",
    "def table():\n",
    "    return STRUCT([leg(), T(1)(0.9),leg(),T(2)(0.9),leg(),T(1)(-0.9),leg(),T([2,3])([-0.9,0.7]), plane()])\n",
    "def table1():\n",
    "    return STRUCT([leg(),T(1)(0.9)(leg()),T([1,2])([0.9,0.9])(leg()),T(2)(0.9)(leg()),T(3)(0.7)(plane())])"
   ]
  },
  {
   "cell_type": "code",
   "execution_count": 2,
   "metadata": {},
   "outputs": [
    {
     "data": {
      "text/plain": [
       "<pyplasm.xgepy.Hpc; proxy of <Swig Object of type 'std::shared_ptr< Hpc > *' at 0x000000000BA83BA0> >"
      ]
     },
     "execution_count": 2,
     "metadata": {},
     "output_type": "execute_result"
    }
   ],
   "source": [
    "VIEW(table())"
   ]
  },
  {
   "cell_type": "code",
   "execution_count": 37,
   "metadata": {},
   "outputs": [
    {
     "data": {
      "text/plain": [
       "<pyplasm.xgepy.Hpc; proxy of <Swig Object of type 'std::shared_ptr< Hpc > *' at 0x000000000C07B360> >"
      ]
     },
     "execution_count": 37,
     "metadata": {},
     "output_type": "execute_result"
    }
   ],
   "source": [
    "VIEW(table1())"
   ]
  },
  {
   "attachments": {},
   "cell_type": "markdown",
   "metadata": {},
   "source": [
    "![tavolo.PNG.png](imm/tavolo.PNG.png)"
   ]
  },
  {
   "cell_type": "markdown",
   "metadata": {},
   "source": [
    "### Sedia"
   ]
  },
  {
   "cell_type": "code",
   "execution_count": 59,
   "metadata": {},
   "outputs": [
    {
     "data": {
      "text/plain": [
       "<pyplasm.xgepy.Hpc; proxy of <Swig Object of type 'std::shared_ptr< Hpc > *' at 0x000000000BD55F90> >"
      ]
     },
     "execution_count": 59,
     "metadata": {},
     "output_type": "execute_result"
    }
   ],
   "source": [
    "from pyplasm import *\n",
    "\n",
    "def leg():\n",
    "    return CUBOID([0.1,0.1,0.7])\n",
    "def plane():\n",
    "    return CUBOID([1,1,0.2])\n",
    "def back_of_a_chair():\n",
    "    return CUBOID([0.1,1,1])\n",
    "def chair():\n",
    "    return STRUCT([leg(), T(1)(0.9),leg(),T(2)(0.9),leg(),T(1)(-0.9),leg(),T([2,3])([-0.9,0.7]), plane(), back_of_a_chair()])\n",
    "\n",
    "VIEW(chair())"
   ]
  },
  {
   "cell_type": "markdown",
   "metadata": {},
   "source": [
    "![chair.png](imm/chair.png)"
   ]
  },
  {
   "cell_type": "markdown",
   "metadata": {},
   "source": [
    "### Script 1.5.9 (Boolean example)"
   ]
  },
  {
   "cell_type": "markdown",
   "metadata": {},
   "source": [
    "```\n",
    "DEF a = T:<1,2>:<-0.5,-0.5>:(CUBOID:<1,1,1>);\n",
    "DEF b = R:<1,2>:(PI/4):a;\n",
    "STRUCT:< a + b, T:1:2, a & b, T:1:2, a ∧ b, T:1:2, a - b >;```"
   ]
  },
  {
   "cell_type": "code",
   "execution_count": 3,
   "metadata": {},
   "outputs": [],
   "source": [
    "def a():\n",
    "    return T([1,2])([-0.5,-0.5])(CUBOID([1,1,1]))\n",
    "def b():\n",
    "    return R([1,2])(PI/4)(a())"
   ]
  },
  {
   "cell_type": "code",
   "execution_count": 9,
   "metadata": {},
   "outputs": [
    {
     "data": {
      "text/plain": [
       "<pyplasm.xgepy.Hpc; proxy of <Swig Object of type 'std::shared_ptr< Hpc > *' at 0x000000000B84A7E0> >"
      ]
     },
     "execution_count": 9,
     "metadata": {},
     "output_type": "execute_result"
    }
   ],
   "source": [
    "VIEW(STRUCT([UNION([a(),b()]), T(1)(2), INTERSECTION([a(),b()]), T(1)(2), XOR([a(),b()]), T(1)(2),DIFFERENCE([a(),b()])]))"
   ]
  },
  {
   "cell_type": "markdown",
   "metadata": {},
   "source": [
    "![boolean.PNG.png](imm/boolean.PNG.png)"
   ]
  },
  {
   "cell_type": "markdown",
   "metadata": {},
   "source": [
    "### Script 1.6.6 Virtual Manhattan (Manhattan 2D)"
   ]
  },
  {
   "cell_type": "markdown",
   "metadata": {},
   "source": [
    "```\n",
    "DEF Manhattan2D = MKPOL:< verts, cells, pols >\n",
    "WHERE\n",
    "    verts = < <0,0>,<3,0>,<5,0>,<7,0>,<8,0>,<9.5,1>,<10,1.5>,<0,3>,<3,3>,<5,3>,\n",
    "    <7,3>,<8,3>,<9.5,3>,<0,4>,<3,4>,<5,4>,<9.5,4>,<12,4>,<9.5,5>,<10,5>,\n",
    "    <12,5>,<0,6>,<3,6>,<5,6>,<0,7>,<3,7>,<5,7>,<9.5,7>,<12,7>,<9.5,8>,\n",
    "    <12,8>,<0,9>,<3,9>,<5,9>,<8,9>,<9,9>,<12,9>,<0,10>,<3,10>,<5,10>,\n",
    "    <8,10>,<9,10>,<9.5,10>,<10,10>,<12,10>,<6,11>,<7,11>,<0,12>,<3,12>,<9,12>,\n",
    "    <9.5,12>,<0,13>,<3,13>,<6,13>,<7,13>,<9,13>,<9.5,13>,<0,14>,<3,14>,<5,14>,\n",
    "    <8,14>,<9,14>,<9.5,14>,<10,14>,<12,14>,<0,15>,<3,15>,<5,15>,<8,15>,<0,16>,\n",
    "    <6,16>,<7,16>,<9,17>,<9.5,17>,<10,17>,<12,17>,<6,18>,<7,18>,<9,18>,<9.5,18>,\n",
    "    <10,18>,<12,18>,<2,19>,<3,19>,<5,19>,<8,19>,<9,19>,<9.5,19>,<10,19>,<12,19>,\n",
    "    <5,20>,<12,20>,<7,22>,<10,22>,<9,6>,<12,6>,<9,15>,<9.5,15>,<10,15>,<12,15> >,\n",
    "    cells = < <1,2,9,8>,<3,4,11,10>,<5,6,13,12>,<14,15,23,22>, <16,17,19,24>,\n",
    "    <7,18,21,20>,<25,26,33,32>,<27,95,28,35,34>,<95,96,29,28>, <30,31,37,36>,\n",
    "    <38,39,49,48>,<40,41,47,46>,<41,61,55,47>,<55,61,60,54>, <54,60,40,46>,\n",
    "    <42,43,51,50>,<44,45,65,64>,<52,53,59,58>,<56,57,63,62>, <66,67,84,83,70>,\n",
    "    <68,69,72,71>,<69,86,78,72>,<78,86,85,77>,<71,77,85,68>, <97,98,74,73>,\n",
    "    <99,100,76,75>,<79,80,88,87>,<81,82,90,89>, <91,92,94,93> >,\n",
    "    pols = AA:LIST:(1..29)\n",
    "END;```"
   ]
  },
  {
   "cell_type": "code",
   "execution_count": 9,
   "metadata": {},
   "outputs": [],
   "source": [
    "from larlib import *\n",
    "\n",
    "def Manhattan2D():\n",
    "\n",
    "    verts = [[0,0],[3,0],[5,0],[7,0],[8,0],[9.5,1],[10,1.5],[0,3],[3,3],[5,3],\n",
    "    [7,3],[8,3],[9.5,3],[0,4],[3,4],[5,4],[9.5,4],[12,4],[9.5,5],[10,5],\n",
    "    [12,5],[0,6],[3,6],[5,6],[0,7],[3,7],[5,7],[9.5,7],[12,7],[9.5,8],\n",
    "    [12,8],[0,9],[3,9],[5,9],[8,9],[9,9],[12,9],[0,10],[3,10],[5,10],\n",
    "    [8,10],[9,10],[9.5,10],[10,10],[12,10],[6,11],[7,11],[0,12],[3,12],[9,12],\n",
    "    [9.5,12],[0,13],[3,13],[6,13],[7,13],[9,13],[9.5,13],[0,14],[3,14],[5,14],\n",
    "    [8,14],[9,14],[9.5,14],[10,14],[12,14],[0,15],[3,15],[5,15],[8,15],[0,16],\n",
    "    [6,16],[7,16],[9,17],[9.5,17],[10,17],[12,17],[6,18],[7,18],[9,18],[9.5,18],\n",
    "    [10,18],[12,18],[2,19],[3,19],[5,19],[8,19],[9,19],[9.5,19],[10,19],[12,19],\n",
    "    [5,20],[12,20],[7,22],[10,22],[9,6],[12,6],[9,15],[9.5,15],[10,15],[12,15]]\n",
    "    \n",
    "    cells = [[1,2,9,8],[3,4,11,10],[5,6,13,12],[14,15,23,22], [16,17,19,24],\n",
    "    [7,18,21,20],[25,26,33,32],[27,95,28,35,34],[95,96,29,28], [30,31,37,36],\n",
    "    [38,39,49,48],[40,41,47,46],[41,61,55,47],[55,61,60,54], [54,60,40,46],\n",
    "    [42,43,51,50],[44,45,65,64],[52,53,59,58],[56,57,63,62], [66,67,84,83,70],\n",
    "    [68,69,72,71],[69,86,78,72],[78,86,85,77],[71,77,85,68], [97,98,74,73],\n",
    "    [99,100,76,75],[79,80,88,87],[81,82,90,89], [91,92,94,93]]\n",
    "    \n",
    "    pols = range(1, 29)\n",
    "    \n",
    "    return MKPOL([verts, cells, AA(LIST)(pols)])"
   ]
  },
  {
   "cell_type": "code",
   "execution_count": 10,
   "metadata": {},
   "outputs": [
    {
     "data": {
      "text/plain": [
       "<pyplasm.xgepy.Hpc; proxy of <Swig Object of type 'std::shared_ptr< Hpc > *' at 0x000000000B022390> >"
      ]
     },
     "execution_count": 10,
     "metadata": {},
     "output_type": "execute_result"
    }
   ],
   "source": [
    "VIEW(Manhattan2D())"
   ]
  },
  {
   "cell_type": "markdown",
   "metadata": {},
   "source": [
    "![Manhattan2D.png](imm/Manhattan2D.png)"
   ]
  },
  {
   "cell_type": "markdown",
   "metadata": {},
   "source": [
    "### Script 1.6.7 (Manhattan 3D)"
   ]
  },
  {
   "cell_type": "markdown",
   "metadata": {},
   "source": [
    "```\n",
    "DEF MultExtrude (p::IsPol) (h::IsSeqOf:IsReal) =\n",
    "    STRUCT ∼ AA:* ∼ TRANS):< ThePolSeq, AA:Q:h >\n",
    "WHERE\n",
    "    ThePolSeq = (REVERSE ∼ AA:MKPOL ∼ AA:CAT ∼ DISTR):\n",
    "    < DISTL:< MyVerts, MyCells >, <<<1>>> >,\n",
    "    MyVerts = (S1 ∼ UKPOL):P,\n",
    "    MyCells = (AA:LIST ∼ S2 ∼ UKPOL):P\n",
    "END;\n",
    "DEF GrowingH = 1..29;\n",
    "DEF ManhattanH = <1,3,1,11,1,0.2,1,0.1,1,8,15,1,1,1,1,8,1,15,8,1,2,2,2,2,5,9,1,1,1>;```\n"
   ]
  },
  {
   "cell_type": "code",
   "execution_count": 15,
   "metadata": {},
   "outputs": [
    {
     "data": {
      "text/plain": [
       "<pyplasm.xgepy.Hpc; proxy of <Swig Object of type 'std::shared_ptr< Hpc > *' at 0x0000000007E46390> >"
      ]
     },
     "execution_count": 15,
     "metadata": {},
     "output_type": "execute_result"
    }
   ],
   "source": [
    "from larlib import *\n",
    "\n",
    "def MultExtrude(p, h):\n",
    "    MyVerts = COMP([S1, UKPOL])(p)\n",
    "    MyCells = COMP([AA(LIST), S2, UKPOL])(p)\n",
    "    ThePolSeq = COMP([REVERSE, AA(MKPOL), AA(CAT), DISTR])([DISTL([MyVerts, MyCells]),[[[1]]]])\n",
    "    \n",
    "    return COMP([STRUCT, AA(PROD), TRANS])([ThePolSeq, AA(Q)(h)])\n",
    "\n",
    "def GrowingH():\n",
    "    return range(1, 29)\n",
    "\n",
    "def Manhattan():\n",
    "    return [1,3,1,11,1,0.2,1,0.1,1,8,15,1,1,1,1,8,1,15,8,1,2,2,2,2,5,9,1,1,1]\n",
    "\n",
    "a = (MultExtrude(Manhattan2D(), GrowingH()))\n",
    "b = (MultExtrude(Manhattan2D(), Manhattan()))\n",
    "\n",
    "VIEW(a)\n",
    "VIEW(b)"
   ]
  },
  {
   "cell_type": "markdown",
   "metadata": {},
   "source": [
    "![Manhattan1.png](imm/Manhattan1.png)"
   ]
  },
  {
   "cell_type": "markdown",
   "metadata": {},
   "source": [
    "![Manhattan2.png](imm/Manhattan2.png)"
   ]
  },
  {
   "cell_type": "markdown",
   "metadata": {},
   "source": [
    "![Manhattan3.png](imm/Manhattan3.png)"
   ]
  },
  {
   "cell_type": "markdown",
   "metadata": {},
   "source": [
    "![Manhattan4.png](imm/Manhattan4.png)"
   ]
  },
  {
   "cell_type": "code",
   "execution_count": null,
   "metadata": {},
   "outputs": [],
   "source": []
  }
 ],
 "metadata": {
  "kernelspec": {
   "display_name": "Python 2",
   "language": "python",
   "name": "python2"
  },
  "language_info": {
   "codemirror_mode": {
    "name": "ipython",
    "version": 2
   },
   "file_extension": ".py",
   "mimetype": "text/x-python",
   "name": "python",
   "nbconvert_exporter": "python",
   "pygments_lexer": "ipython2",
   "version": "2.7.12"
  }
 },
 "nbformat": 4,
 "nbformat_minor": 2
}
