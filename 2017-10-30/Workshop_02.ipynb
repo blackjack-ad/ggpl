{
 "cells": [
  {
   "cell_type": "markdown",
   "metadata": {},
   "source": [
    "<h1>Esercitazione \"Laboratorio di Programmazione Geometrica e Grafica\"</h1>"
   ]
  },
  {
   "cell_type": "markdown",
   "metadata": {},
   "source": [
    "<h2>Workshop_01 (30-10-17)</h2>"
   ]
  },
  {
   "cell_type": "code",
   "execution_count": 88,
   "metadata": {},
   "outputs": [],
   "source": [
    "from pyplasm import *"
   ]
  },
  {
   "cell_type": "code",
   "execution_count": 214,
   "metadata": {},
   "outputs": [],
   "source": [
    "from pyplasm import *\n",
    "def leg(x,spessore):\n",
    "    return CUBOID([spessore,spessore,x/2])\n",
    "def plane(x,y,spessore):\n",
    "    return CUBOID([x,y,spessore])\n",
    "def scaffali(x,y,spessore,numero_scaffali):\n",
    "    componente = STRUCT([plane(x,y,spessore),leg(x,spessore),T([1,2])([x-spessore,y-spessore])(leg(x,spessore)),T([1,2])([x-spessore,0])(leg(x,spessore)),T([1,2])([0,y-spessore])(leg(x,spessore))])\n",
    "    return STRUCT(NN(numero_scaffali)([(componente),T(3)(x/2)]))"
   ]
  },
  {
   "cell_type": "markdown",
   "metadata": {},
   "source": [
    "<b>mobiletto(double dim_x, double dim_y, double spessore, int numero_scaffali)</b> crea un mobiletto minimal di N scaffali di larghezza \"dim_x\", altezza \"dim_y\" e spessore \"spessore\""
   ]
  },
  {
   "cell_type": "code",
   "execution_count": 215,
   "metadata": {},
   "outputs": [
    {
     "data": {
      "text/plain": [
       "<pyplasm.xgepy.Hpc; proxy of <Swig Object of type 'std::shared_ptr< Hpc > *' at 0x000000000B42D120> >"
      ]
     },
     "execution_count": 215,
     "metadata": {},
     "output_type": "execute_result"
    }
   ],
   "source": [
    "VIEW(scaffali(0.5,1,0.1,5))"
   ]
  },
  {
   "cell_type": "markdown",
   "metadata": {},
   "source": [
    "![scaffali.png](imm/scaffali.png)"
   ]
  },
  {
   "cell_type": "code",
   "execution_count": 196,
   "metadata": {},
   "outputs": [
    {
     "data": {
      "text/plain": [
       "<pyplasm.xgepy.Hpc; proxy of <Swig Object of type 'std::shared_ptr< Hpc > *' at 0x000000000B42D7E0> >"
      ]
     },
     "execution_count": 196,
     "metadata": {},
     "output_type": "execute_result"
    }
   ],
   "source": [
    "VIEW(scaffali(0.5,0.5,0.03,8))"
   ]
  },
  {
   "cell_type": "markdown",
   "metadata": {},
   "source": [
    "![scaffali_2.png](imm/scaffali_2.png)"
   ]
  },
  {
   "cell_type": "markdown",
   "metadata": {},
   "source": [
    "<b>shelf(double larghezza, double spessore)</b> crea un cubo vuoto miniaml (oggetto in figura)"
   ]
  },
  {
   "cell_type": "code",
   "execution_count": 104,
   "metadata": {},
   "outputs": [],
   "source": [
    "from pyplasm import *\n",
    "from larlib import *\n",
    "def tile(x,y,z):\n",
    "    return PROD([PROD([QUOTE([x]),QUOTE([y])]),QUOTE([z])])\n",
    "\n",
    "def shelf(a,b):\n",
    "    return COLOR(RED)(STRUCT([tile(a,a,b),tile(a,b,a),tile(b,a,a),T(1)(a-b)(tile(b,a,a)),T(3)(a-b)(tile(a,a,b))]))"
   ]
  },
  {
   "cell_type": "code",
   "execution_count": 105,
   "metadata": {},
   "outputs": [
    {
     "data": {
      "text/plain": [
       "<pyplasm.xgepy.Hpc; proxy of <Swig Object of type 'std::shared_ptr< Hpc > *' at 0x000000000B4440F0> >"
      ]
     },
     "execution_count": 105,
     "metadata": {},
     "output_type": "execute_result"
    }
   ],
   "source": [
    "VIEW(shelf(1,0.1))"
   ]
  },
  {
   "cell_type": "markdown",
   "metadata": {},
   "source": [
    "![schelf.png](imm/schelf.png)"
   ]
  },
  {
   "attachments": {},
   "cell_type": "markdown",
   "metadata": {},
   "source": [
    "![schelf_2.png](imm/schelf_2.png)"
   ]
  },
  {
   "cell_type": "markdown",
   "metadata": {},
   "source": [
    "Qui sotto è mostrata una possibile composizione di shelfs"
   ]
  },
  {
   "cell_type": "code",
   "execution_count": 140,
   "metadata": {},
   "outputs": [],
   "source": [
    "def shelfs_comp():\n",
    "    return STRUCT([shelf(1,0.1),T([1,3])([1.5,0.5])(shelf(1.3,0.1)),T([1,3])([1.5,-0.5])(shelf(0.7,0.1))])"
   ]
  },
  {
   "cell_type": "code",
   "execution_count": 141,
   "metadata": {},
   "outputs": [
    {
     "data": {
      "text/plain": [
       "<pyplasm.xgepy.Hpc; proxy of <Swig Object of type 'std::shared_ptr< Hpc > *' at 0x000000000B552360> >"
      ]
     },
     "execution_count": 141,
     "metadata": {},
     "output_type": "execute_result"
    }
   ],
   "source": [
    "VIEW(shelfs_comp())"
   ]
  },
  {
   "attachments": {},
   "cell_type": "markdown",
   "metadata": {},
   "source": [
    "![schelf_comp.png](imm/schelf_comp.png)"
   ]
  },
  {
   "cell_type": "markdown",
   "metadata": {},
   "source": [
    "<b>mobiletto(double lato, double spessore, int altezzaa)</b> crea un mobile miniaml composto da 3 shelf in larghezza e un numero di piani pari ad \"altezza\" (oggetto in figura)"
   ]
  },
  {
   "cell_type": "code",
   "execution_count": 92,
   "metadata": {},
   "outputs": [],
   "source": [
    "from pyplasm import *\n",
    "from larlib import *\n",
    "def tile(x,y,z):\n",
    "    return PROD([PROD([QUOTE([x]),QUOTE([y])]),QUOTE([z])])\n",
    "\n",
    "def mobiletto(a,b,altezza):\n",
    "    shelf= STRUCT([tile(a,a,b),tile(a,b,a),tile(b,a,a),T(1)(a-b)(tile(b,a,a)),T(3)(a-b)(tile(a,a,b))])\n",
    "    shelf_list_up=STRUCT(NN(altezza)([shelf,T(3)(a)]))\n",
    "    library=RIGHT([RIGHT([shelf_list_up,shelf_list_up]),shelf_list_up])\n",
    "    plane=tile(a,a,b)\n",
    "    plane3=RIGHT([RIGHT([plane,plane]),plane])\n",
    "    return STRUCT([plane3,T(3)(b)(library)])"
   ]
  },
  {
   "cell_type": "code",
   "execution_count": 37,
   "metadata": {},
   "outputs": [
    {
     "data": {
      "text/plain": [
       "<pyplasm.xgepy.Hpc; proxy of <Swig Object of type 'std::shared_ptr< Hpc > *' at 0x000000000B47F240> >"
      ]
     },
     "execution_count": 37,
     "metadata": {},
     "output_type": "execute_result"
    }
   ],
   "source": [
    "VIEW(mobiletto(1,0.01,5))"
   ]
  },
  {
   "cell_type": "markdown",
   "metadata": {},
   "source": [
    "![mobiletto.png](imm/mobiletto.png)"
   ]
  },
  {
   "attachments": {},
   "cell_type": "markdown",
   "metadata": {},
   "source": [
    "![mobiletto_4.png](imm/mobiletto_4.png)"
   ]
  },
  {
   "cell_type": "code",
   "execution_count": 180,
   "metadata": {},
   "outputs": [],
   "source": [
    "from pyplasm import *\n",
    "def cubo():\n",
    "    return CUBOID([1.5,1,1])\n",
    "\n",
    "def tile(x,y,z):\n",
    "    return PROD([PROD([QUOTE([x]),QUOTE([y])]),QUOTE([z])])\n",
    "\n",
    "def shelf():\n",
    "    return COLOR(RED)(STRUCT([tile(1,1,0.05),tile(1,0.05,1),tile(0.05,1,1),T(1)(0.95)(tile(0.05,1,1)),T(3)(0.95)(tile(1,1,0.05))]))\n",
    "\n",
    "def shelfs():\n",
    "    return STRUCT(NN(5)([shelf(),T(3)(1)]))\n",
    "\n",
    "def leg_mobile():\n",
    "    return COLOR(RED)(CUBOID([0.2,0.2,0.2]))\n",
    "\n",
    "def pomello():\n",
    "    return COLOR(RED)(SPHERE(0.05)([24,32]))\n",
    "\n",
    "def mobile():\n",
    "    return STRUCT([T(1)(1)(cubo()),S(3)(.2)(shelfs()),T(1)(-1.5)(cubo()),T([1,3])([-1.5,-0.2])(leg_mobile()),T([1,3])([2.3,-0.2])(leg_mobile()),T([1,3,2])([-1.5,-0.2,0.8])(leg_mobile()),T([1,3,2])([2.3,-0.2,0.8])(leg_mobile())])"
   ]
  },
  {
   "cell_type": "code",
   "execution_count": 181,
   "metadata": {},
   "outputs": [
    {
     "data": {
      "text/plain": [
       "<pyplasm.xgepy.Hpc; proxy of <Swig Object of type 'std::shared_ptr< Hpc > *' at 0x000000000B42D960> >"
      ]
     },
     "execution_count": 181,
     "metadata": {},
     "output_type": "execute_result"
    }
   ],
   "source": [
    "VIEW(mobile())"
   ]
  },
  {
   "cell_type": "markdown",
   "metadata": {},
   "source": [
    "![mobiletto_2.png](imm/mobiletto_2.png)"
   ]
  },
  {
   "cell_type": "code",
   "execution_count": 186,
   "metadata": {},
   "outputs": [],
   "source": [
    "def cubo():\n",
    "    return CUBOID([1.5,1,1])\n",
    "\n",
    "def tile(x,y,z):\n",
    "    return PROD([PROD([QUOTE([x]),QUOTE([y])]),QUOTE([z])])\n",
    "\n",
    "def shelf_mobile():\n",
    "    return COLOR(RED)(STRUCT([tile(1,1,0.05),tile(1,0.05,1),tile(0.05,1,1),T(1)(0.95)(tile(0.05,1,1)),T(3)(0.95)(tile(1,1,0.05))]))\n",
    "\n",
    "def shelfs_mobile():\n",
    "    return STRUCT(NN(5)([shelf_mobile(),T(3)(1)]))\n",
    "\n",
    "def leg_mobile():\n",
    "    return COLOR(RED)(CUBOID([0.2,0.2,0.2]))\n",
    "\n",
    "def pomello():\n",
    "    return COLOR(RED)(SPHERE(0.05)([24,32]))\n",
    "\n",
    "def mobile_con_pomelli():\n",
    "    return STRUCT([T(1)(1)(cubo()),S(3)(.2)(shelfs_mobile()),T(1)(-1.5)(cubo()),T([1,3])([-1.5,-0.2])(leg_mobile()),T([1,3])([2.3,-0.2])(leg_mobile()),T([1,3,2])([-1.5,-0.2,0.8])(leg_mobile()),T([1,3,2])([2.3,-0.2,0.8])(leg_mobile()),T([1,2,3])([1.2,1,0.8])(pomello()),T([1,2,3])([-0.2,1,0.8])(pomello())])"
   ]
  },
  {
   "cell_type": "code",
   "execution_count": 187,
   "metadata": {},
   "outputs": [
    {
     "name": "stdout",
     "output_type": "stream",
     "text": [
      "Child 3\n",
      "Child 3\n"
     ]
    },
    {
     "data": {
      "text/plain": [
       "<pyplasm.xgepy.Hpc; proxy of <Swig Object of type 'std::shared_ptr< Hpc > *' at 0x000000000B42D930> >"
      ]
     },
     "execution_count": 187,
     "metadata": {},
     "output_type": "execute_result"
    }
   ],
   "source": [
    "VIEW(mobile_con_pomelli())"
   ]
  },
  {
   "cell_type": "markdown",
   "metadata": {},
   "source": [
    "![mobiletto_3.png](imm/mobiletto_3.png)"
   ]
  },
  {
   "cell_type": "markdown",
   "metadata": {},
   "source": [
    "<h2>Parete arredata con i mobili IKEA creati in precedenza</h2>"
   ]
  },
  {
   "cell_type": "code",
   "execution_count": 222,
   "metadata": {},
   "outputs": [],
   "source": [
    "from pyplasm import *\n",
    "from larlib import *\n",
    "\n",
    "def wall(larghezza, altezza):\n",
    "    return COLOR(GRAY)(CUBOID([0.1,12,6]))\n",
    "\n",
    "def leg(x,spessore):\n",
    "    return CUBOID([spessore,spessore,x/2])\n",
    "\n",
    "def plane(x,y,spessore):\n",
    "    return CUBOID([x,y,spessore])\n",
    "\n",
    "def scaffali(x,y,spessore,numero_scaffali):\n",
    "    componente = COLOR(RED)(STRUCT([plane(x,y,spessore),leg(x,spessore),T([1,2])([x-spessore,y-spessore])(leg(x,spessore)),T([1,2])([x-spessore,0])(leg(x,spessore)),T([1,2])([0,y-spessore])(leg(x,spessore))]))\n",
    "    return STRUCT(NN(numero_scaffali)([componente,T(3)(x/2)]))\n",
    "\n",
    "def tile(x,y,z):\n",
    "    return PROD([PROD([QUOTE([x]),QUOTE([y])]),QUOTE([z])])\n",
    "\n",
    "def shelf(a,b):\n",
    "    return COLOR(RED)(STRUCT([tile(a,a,b),tile(a,b,a),tile(b,a,a),T(1)(a-b)(tile(b,a,a)),T(3)(a-b)(tile(a,a,b))]))\n",
    "\n",
    "def shelfs_comp():\n",
    "    return STRUCT([shelf(1,0.1),T([1,3])([1.5,0.5])(shelf(1.3,0.1)),T([1,3])([1.5,-0.5])(shelf(0.7,0.1))])\n",
    "\n",
    "def mobiletto(a,b,altezza):\n",
    "    shelf= STRUCT([tile(a,a,b),tile(a,b,a),tile(b,a,a),T(1)(a-b)(tile(b,a,a)),T(3)(a-b)(tile(a,a,b))])\n",
    "    shelf_list_up=STRUCT(NN(altezza)([shelf,T(3)(a)]))\n",
    "    library=RIGHT([RIGHT([shelf_list_up,shelf_list_up]),shelf_list_up])\n",
    "    plane=tile(a,a,b)\n",
    "    plane3=RIGHT([RIGHT([plane,plane]),plane])\n",
    "    return STRUCT([plane3,T(3)(b)(library)])\n",
    "\n",
    "def cassetto():\n",
    "    return CUBOID([1.5,1,2])\n",
    "\n",
    "def tile(x,y,z):\n",
    "    return PROD([PROD([QUOTE([x]),QUOTE([y])]),QUOTE([z])])\n",
    "\n",
    "def shelf_mobile():\n",
    "    return COLOR(RED)(STRUCT([tile(1,1,0.05),tile(1,0.05,1),tile(0.05,1,1),T(1)(0.95)(tile(0.05,1,1)),T(3)(0.95)(tile(1,1,0.05))]))\n",
    "\n",
    "def shelfs_mobile():\n",
    "    return STRUCT(NN(10)([shelf_mobile(),T(3)(1)]))\n",
    "\n",
    "def leg_mobile():\n",
    "    return COLOR(RED)(CUBOID([0.2,0.2,0.2]))\n",
    "\n",
    "def pomello():\n",
    "    return COLOR(RED)(SPHERE(0.05)([24,32]))\n",
    "\n",
    "def mobile_con_pomelli():\n",
    "    return STRUCT([T(1)(1)(cassetto()),S(3)(.2)(shelfs_mobile()),T(1)(-1.5)(cassetto()),T([1,3])([-1.5,-0.2])(leg_mobile()),T([1,3])([2.3,-0.2])(leg_mobile()),T([1,3,2])([-1.5,-0.2,0.8])(leg_mobile()),T([1,3,2])([2.3,-0.2,0.8])(leg_mobile()),T([1,2,3])([1.2,1,0.8])(pomello()),T([1,2,3])([-0.2,1,0.8])(pomello())])"
   ]
  },
  {
   "cell_type": "code",
   "execution_count": 225,
   "metadata": {},
   "outputs": [
    {
     "name": "stdout",
     "output_type": "stream",
     "text": [
      "Child 3\n",
      "Child 3\n"
     ]
    },
    {
     "data": {
      "text/plain": [
       "<pyplasm.xgepy.Hpc; proxy of <Swig Object of type 'std::shared_ptr< Hpc > *' at 0x000000000B42D420> >"
      ]
     },
     "execution_count": 225,
     "metadata": {},
     "output_type": "execute_result"
    }
   ],
   "source": [
    "VIEW(STRUCT([wall(5,10), T(2)(6)(R([1,2])(PI/2)(mobiletto(1,0.01,5))), T(2)(10)(R([1,2])(PI/2)(scaffali(1.1,1.1,0.03,8))), T([2,3])([1,4])(R([1,2])(PI/2)(shelfs_comp())), T(2)(2)(R([1,2])(PI/2)(mobile_con_pomelli()))]))"
   ]
  },
  {
   "attachments": {},
   "cell_type": "markdown",
   "metadata": {},
   "source": [
    "![room_2.png](imm/room_2.png)"
   ]
  },
  {
   "attachments": {},
   "cell_type": "markdown",
   "metadata": {},
   "source": [
    "![room_1.png](imm/room_1.png)"
   ]
  },
  {
   "attachments": {},
   "cell_type": "markdown",
   "metadata": {},
   "source": [
    "![room_3.png](imm/room_3.png)"
   ]
  },
  {
   "cell_type": "code",
   "execution_count": null,
   "metadata": {},
   "outputs": [],
   "source": []
  }
 ],
 "metadata": {
  "kernelspec": {
   "display_name": "Python 2",
   "language": "python",
   "name": "python2"
  },
  "language_info": {
   "codemirror_mode": {
    "name": "ipython",
    "version": 2
   },
   "file_extension": ".py",
   "mimetype": "text/x-python",
   "name": "python",
   "nbconvert_exporter": "python",
   "pygments_lexer": "ipython2",
   "version": "2.7.12"
  }
 },
 "nbformat": 4,
 "nbformat_minor": 2
}
