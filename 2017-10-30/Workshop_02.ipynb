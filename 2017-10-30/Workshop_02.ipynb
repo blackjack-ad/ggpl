{
 "cells": [
  {
   "cell_type": "markdown",
   "metadata": {},
   "source": [
    "<h1>Esercitazione \"Laboratorio di Programmazione Geometrica e Grafica\"</h1>"
   ]
  },
  {
   "cell_type": "markdown",
   "metadata": {},
   "source": [
    "<h2>Workshop_02 (30-10-17)</h2>\n",
    "- In questo workshop sono stati realizzati diversi mobili presenti nel sito di IKEA\n",
    "- I mobili e gli altri ogetti definiti sono parametrizzati per altezza, larghezza, spessore, numero componenti ecc...\n",
    "- In conclusione è stata realizzata una stanza con i vari mobili ed altri oggetti di design precedentemente definiti\n",
    "- Sono state utilizzate delle texture per rendere il risultato finale più gradevole"
   ]
  },
  {
   "cell_type": "code",
   "execution_count": 260,
   "metadata": {},
   "outputs": [],
   "source": [
    "from pyplasm import *"
   ]
  },
  {
   "cell_type": "code",
   "execution_count": 261,
   "metadata": {},
   "outputs": [],
   "source": [
    "from pyplasm import *\n",
    "def leg(x,spessore):\n",
    "    return CUBOID([spessore,spessore,x/2])\n",
    "def plane(x,y,spessore):\n",
    "    return CUBOID([x,y,spessore])\n",
    "def scaffali(x,y,spessore_piano,spessore_gambe,numero_scaffali):\n",
    "    componente = STRUCT([plane(x,y,spessore_piano),leg(x,spessore_gambe),T([1,2])([x-spessore_gambe,y-spessore_gambe])(leg(x,spessore_gambe)),T([1,2])([x-spessore_gambe,0])(leg(x,spessore_gambe)),T([1,2])([0,y-spessore_gambe])(leg(x,spessore_gambe))])\n",
    "    return STRUCT(NN(numero_scaffali)([(componente),T(3)(x/2)]))"
   ]
  },
  {
   "cell_type": "markdown",
   "metadata": {},
   "source": [
    "- mobiletto(double dim_x, double dim_y, double spessore_piano, double spessore_gambe, int numero_scaffali)\n",
    "- crea un mobiletto minimal di N scaffali di larghezza \"dim_x\", altezza \"dim_y\", spessore del piano \"spessore_piano\ e spessore delle gambe \"spessore_gambe\""
   ]
  },
  {
   "cell_type": "code",
   "execution_count": 262,
   "metadata": {},
   "outputs": [
    {
     "data": {
      "text/plain": [
       "<pyplasm.xgepy.Hpc; proxy of <Swig Object of type 'std::shared_ptr< Hpc > *' at 0x000000000CA22F90> >"
      ]
     },
     "execution_count": 262,
     "metadata": {},
     "output_type": "execute_result"
    }
   ],
   "source": [
    "VIEW(scaffali(0.5,1,0.01,0.01,5))"
   ]
  },
  {
   "cell_type": "markdown",
   "metadata": {},
   "source": [
    "![scaffali.png](imm/scaffali.png)"
   ]
  },
  {
   "cell_type": "code",
   "execution_count": 263,
   "metadata": {},
   "outputs": [
    {
     "data": {
      "text/plain": [
       "<pyplasm.xgepy.Hpc; proxy of <Swig Object of type 'std::shared_ptr< Hpc > *' at 0x000000000CA4ADE0> >"
      ]
     },
     "execution_count": 263,
     "metadata": {},
     "output_type": "execute_result"
    }
   ],
   "source": [
    "VIEW(scaffali(0.5,0.5,0.03,0.03,8))"
   ]
  },
  {
   "cell_type": "markdown",
   "metadata": {},
   "source": [
    "![scaffali_2.png](imm/scaffali_2.png)"
   ]
  },
  {
   "cell_type": "markdown",
   "metadata": {},
   "source": [
    "- shelf(double larghezza, double spessore)\n",
    "- crea un cubo dal design minimal (oggetto in figura)"
   ]
  },
  {
   "cell_type": "code",
   "execution_count": 264,
   "metadata": {},
   "outputs": [],
   "source": [
    "from pyplasm import *\n",
    "from larlib import *\n",
    "def tile(x,y,z):\n",
    "    return PROD([PROD([QUOTE([x]),QUOTE([y])]),QUOTE([z])])\n",
    "\n",
    "def shelf(a,b):\n",
    "    return COLOR(RED)(STRUCT([tile(a,a,b),tile(a,b,a),tile(b,a,a),T(1)(a-b)(tile(b,a,a)),T(3)(a-b)(tile(a,a,b))]))"
   ]
  },
  {
   "cell_type": "code",
   "execution_count": 265,
   "metadata": {},
   "outputs": [
    {
     "data": {
      "text/plain": [
       "<pyplasm.xgepy.Hpc; proxy of <Swig Object of type 'std::shared_ptr< Hpc > *' at 0x000000000C97DEA0> >"
      ]
     },
     "execution_count": 265,
     "metadata": {},
     "output_type": "execute_result"
    }
   ],
   "source": [
    "VIEW(shelf(1,0.1))"
   ]
  },
  {
   "cell_type": "markdown",
   "metadata": {},
   "source": [
    "![schelf.png](imm/schelf.png)"
   ]
  },
  {
   "cell_type": "markdown",
   "metadata": {},
   "source": [
    "![schelf_2.png](imm/schelf_2.png)"
   ]
  },
  {
   "cell_type": "markdown",
   "metadata": {},
   "source": [
    "Qui sotto è mostrata una possibile composizione di shelfs"
   ]
  },
  {
   "cell_type": "code",
   "execution_count": 266,
   "metadata": {},
   "outputs": [],
   "source": [
    "def shelfs_comp():\n",
    "    return STRUCT([shelf(1,0.1),T([1,3])([1.5,0.5])(shelf(1.3,0.1)),T([1,3])([1.5,-0.5])(shelf(0.7,0.1))])"
   ]
  },
  {
   "cell_type": "code",
   "execution_count": 267,
   "metadata": {},
   "outputs": [
    {
     "data": {
      "text/plain": [
       "<pyplasm.xgepy.Hpc; proxy of <Swig Object of type 'std::shared_ptr< Hpc > *' at 0x000000000C97DE40> >"
      ]
     },
     "execution_count": 267,
     "metadata": {},
     "output_type": "execute_result"
    }
   ],
   "source": [
    "VIEW(shelfs_comp())"
   ]
  },
  {
   "cell_type": "markdown",
   "metadata": {},
   "source": [
    "![schelf_comp.png](imm/schelf_comp.png)"
   ]
  },
  {
   "cell_type": "markdown",
   "metadata": {},
   "source": [
    "- mobiletto(double lato, double spessore, int altezzaa)\n",
    "- crea un mobile miniaml composto da 3 shelf in larghezza e un numero di piani pari ad \"altezza\" (oggetto in figura)"
   ]
  },
  {
   "cell_type": "code",
   "execution_count": 268,
   "metadata": {},
   "outputs": [],
   "source": [
    "from pyplasm import *\n",
    "from larlib import *\n",
    "def tile(x,y,z):\n",
    "    return PROD([PROD([QUOTE([x]),QUOTE([y])]),QUOTE([z])])\n",
    "\n",
    "def mobiletto(a,b,altezza):\n",
    "    shelf= STRUCT([tile(a,a,b),tile(a,b,a),tile(b,a,a),T(1)(a-b)(tile(b,a,a)),T(3)(a-b)(tile(a,a,b))])\n",
    "    shelf_list_up=STRUCT(NN(altezza)([shelf,T(3)(a)]))\n",
    "    library=RIGHT([RIGHT([shelf_list_up,shelf_list_up]),shelf_list_up])\n",
    "    plane=tile(a,a,b)\n",
    "    plane3=RIGHT([RIGHT([plane,plane]),plane])\n",
    "    return STRUCT([plane3,T(3)(b)(library)])"
   ]
  },
  {
   "cell_type": "code",
   "execution_count": 269,
   "metadata": {},
   "outputs": [
    {
     "data": {
      "text/plain": [
       "<pyplasm.xgepy.Hpc; proxy of <Swig Object of type 'std::shared_ptr< Hpc > *' at 0x000000000C97DA80> >"
      ]
     },
     "execution_count": 269,
     "metadata": {},
     "output_type": "execute_result"
    }
   ],
   "source": [
    "VIEW(mobiletto(1,0.01,5))"
   ]
  },
  {
   "cell_type": "markdown",
   "metadata": {},
   "source": [
    "![mobiletto.png](imm/mobiletto.png)"
   ]
  },
  {
   "cell_type": "markdown",
   "metadata": {},
   "source": [
    "![mobiletto_4.png](imm/mobiletto_4.png)"
   ]
  },
  {
   "cell_type": "code",
   "execution_count": 270,
   "metadata": {},
   "outputs": [],
   "source": [
    "from pyplasm import *\n",
    "def cubo():\n",
    "    return CUBOID([1.5,1,1])\n",
    "\n",
    "def tile(x,y,z):\n",
    "    return PROD([PROD([QUOTE([x]),QUOTE([y])]),QUOTE([z])])\n",
    "\n",
    "def shelf():\n",
    "    return COLOR(RED)(STRUCT([tile(1,1,0.05),tile(1,0.05,1),tile(0.05,1,1),T(1)(0.95)(tile(0.05,1,1)),T(3)(0.95)(tile(1,1,0.05))]))\n",
    "\n",
    "def shelfs():\n",
    "    return STRUCT(NN(5)([shelf(),T(3)(1)]))\n",
    "\n",
    "def leg_mobile():\n",
    "    return COLOR(RED)(CUBOID([0.2,0.2,0.2]))\n",
    "\n",
    "def pomello():\n",
    "    return COLOR(RED)(SPHERE(0.05)([24,32]))\n",
    "\n",
    "def mobile():\n",
    "    return STRUCT([T(1)(1)(cubo()),S(3)(.2)(shelfs()),T(1)(-1.5)(cubo()),T([1,3])([-1.5,-0.2])(leg_mobile()),T([1,3])([2.3,-0.2])(leg_mobile()),T([1,3,2])([-1.5,-0.2,0.8])(leg_mobile()),T([1,3,2])([2.3,-0.2,0.8])(leg_mobile())])"
   ]
  },
  {
   "cell_type": "code",
   "execution_count": 271,
   "metadata": {},
   "outputs": [
    {
     "data": {
      "text/plain": [
       "<pyplasm.xgepy.Hpc; proxy of <Swig Object of type 'std::shared_ptr< Hpc > *' at 0x000000000C97D930> >"
      ]
     },
     "execution_count": 271,
     "metadata": {},
     "output_type": "execute_result"
    }
   ],
   "source": [
    "VIEW(mobile())"
   ]
  },
  {
   "cell_type": "markdown",
   "metadata": {},
   "source": [
    "![mobiletto_2.png](imm/mobiletto_2.png)"
   ]
  },
  {
   "cell_type": "code",
   "execution_count": 272,
   "metadata": {},
   "outputs": [],
   "source": [
    "def cubo():\n",
    "    return CUBOID([1.5,1,1])\n",
    "\n",
    "def tile(x,y,z):\n",
    "    return PROD([PROD([QUOTE([x]),QUOTE([y])]),QUOTE([z])])\n",
    "\n",
    "def shelf_mobile():\n",
    "    return COLOR(RED)(STRUCT([tile(1,1,0.05),tile(1,0.05,1),tile(0.05,1,1),T(1)(0.95)(tile(0.05,1,1)),T(3)(0.95)(tile(1,1,0.05))]))\n",
    "\n",
    "def shelfs_mobile():\n",
    "    return STRUCT(NN(5)([shelf_mobile(),T(3)(1)]))\n",
    "\n",
    "def leg_mobile():\n",
    "    return COLOR(RED)(CUBOID([0.2,0.2,0.2]))\n",
    "\n",
    "def pomello():\n",
    "    return COLOR(RED)(SPHERE(0.05)([24,32]))\n",
    "\n",
    "def mobile_con_pomelli():\n",
    "    return STRUCT([T(1)(1)(cubo()),S(3)(.2)(shelfs_mobile()),T(1)(-1.5)(cubo()),T([1,3])([-1.5,-0.2])(leg_mobile()),T([1,3])([2.3,-0.2])(leg_mobile()),T([1,3,2])([-1.5,-0.2,0.8])(leg_mobile()),T([1,3,2])([2.3,-0.2,0.8])(leg_mobile()),T([1,2,3])([1.2,1,0.8])(pomello()),T([1,2,3])([-0.2,1,0.8])(pomello())])"
   ]
  },
  {
   "cell_type": "code",
   "execution_count": 273,
   "metadata": {},
   "outputs": [
    {
     "name": "stdout",
     "output_type": "stream",
     "text": [
      "Child 3\n",
      "Child 3\n"
     ]
    },
    {
     "data": {
      "text/plain": [
       "<pyplasm.xgepy.Hpc; proxy of <Swig Object of type 'std::shared_ptr< Hpc > *' at 0x000000000C97D510> >"
      ]
     },
     "execution_count": 273,
     "metadata": {},
     "output_type": "execute_result"
    }
   ],
   "source": [
    "VIEW(mobile_con_pomelli())"
   ]
  },
  {
   "cell_type": "markdown",
   "metadata": {},
   "source": [
    "![mobiletto_3.png](imm/mobiletto_3.png)"
   ]
  },
  {
   "cell_type": "markdown",
   "metadata": {},
   "source": [
    "<h2>Parete arredata con i mobili IKEA creati in precedenza</h2>"
   ]
  },
  {
   "cell_type": "markdown",
   "metadata": {},
   "source": [
    "<h4>Codice da eseguire per creare i vari oggetti che arredano la stanza</h4>"
   ]
  },
  {
   "cell_type": "code",
   "execution_count": 251,
   "metadata": {},
   "outputs": [],
   "source": [
    "from pyplasm import *\n",
    "from larlib import *\n",
    "\n",
    "def gray_wall(larghezza, altezza):\n",
    "    return COLOR(GRAY)(CUBOID([0.1,altezza,larghezza]))\n",
    "\n",
    "def wall(larghezza, altezza):\n",
    "    return TEXTURE('imm/texture/legno.png')(CUBOID([0.1,altezza,larghezza]))\n",
    "\n",
    "def floor(larghezza, altezza):\n",
    "    return TEXTURE('imm/texture/floor.png')(CUBOID([0.1,altezza,larghezza]))\n",
    "\n",
    "def tappeto(larghezza, altezza):\n",
    "    return TEXTURE('imm/texture/tappeto.png')(CUBOID([0.1,altezza,larghezza]))\n",
    "\n",
    "def poster(larghezza, altezza):\n",
    "    return TEXTURE('imm/texture/poster.png')(CUBOID([0.05,altezza,larghezza]))\n",
    "\n",
    "def leg(x,spessore):\n",
    "    return CUBOID([spessore,spessore,x/2])\n",
    "\n",
    "def plane(x,y,spessore):\n",
    "    return CUBOID([x,y,spessore])\n",
    "\n",
    "def scaffali(x,y,spessore,numero_scaffali):\n",
    "    componente = COLOR(RED)(STRUCT([plane(x,y,spessore),leg(x,spessore),T([1,2])([x-spessore,y-spessore])(leg(x,spessore)),T([1,2])([x-spessore,0])(leg(x,spessore)),T([1,2])([0,y-spessore])(leg(x,spessore))]))\n",
    "    return STRUCT(NN(numero_scaffali)([componente,T(3)(x/2)]))\n",
    "\n",
    "def leg_table(spessore):\n",
    "    return CUBOID([spessore,spessore,1.7])\n",
    "\n",
    "def table(x,y,spessore):\n",
    "    return TEXTURE('imm/texture/legno2.png')(STRUCT([plane(x,y,spessore),leg_table(spessore),T([1,2])([x-spessore,y-spessore])(leg_table(spessore)),T([1,2])([x-spessore,0])(leg_table(spessore)),T([1,2])([0,y-spessore])(leg_table(spessore))]))\n",
    "\n",
    "def leg_chair():\n",
    "    return CUBOID([0.1,0.1,0.7])\n",
    "def plane_chair():\n",
    "    return CUBOID([1,1,0.2])\n",
    "def back_of_a_chair():\n",
    "    return CUBOID([0.1,1,1.4])\n",
    "def chair():\n",
    "    return TEXTURE('imm/texture/legno2.png')(STRUCT([leg_chair(), T(1)(0.9),leg_chair(),T(2)(0.9),leg_chair(),T(1)(-0.9),leg_chair(),T([2,3])([-0.9,0.7]), plane_chair(), back_of_a_chair()]))\n",
    "\n",
    "def tile(x,y,z):\n",
    "    return PROD([PROD([QUOTE([x]),QUOTE([y])]),QUOTE([z])])\n",
    "\n",
    "def shelf(a,b):\n",
    "    return COLOR(RED)(STRUCT([tile(a,a,b),tile(a,b,a),tile(b,a,a),T(1)(a-b)(tile(b,a,a)),T(3)(a-b)(tile(a,a,b))]))\n",
    "\n",
    "def shelfs_colonna(a,b,numero):\n",
    "    return STRUCT(NN(numero)([shelf(a,b),T(3)(a)]))\n",
    "\n",
    "def shelfs_comp():\n",
    "    return STRUCT([shelf(1,0.1),T([1,3])([1.5,0.5])(shelf(1.3,0.1)),T([1,3])([1.5,-0.5])(shelf(0.7,0.1))])\n",
    "\n",
    "def mobiletto(a,b,altezza):\n",
    "    shelf= STRUCT([tile(a,a,b),tile(a,b,a),tile(b,a,a),T(1)(a-b)(tile(b,a,a)),T(3)(a-b)(tile(a,a,b))])\n",
    "    shelf_list_up=STRUCT(NN(altezza)([shelf,T(3)(a)]))\n",
    "    library=RIGHT([RIGHT([shelf_list_up,shelf_list_up]),shelf_list_up])\n",
    "    plane=tile(a,a,b)\n",
    "    plane3=RIGHT([RIGHT([plane,plane]),plane])\n",
    "    return STRUCT([plane3,T(3)(b)(library)])\n",
    "\n",
    "def cassetto(larghezza,altezza):\n",
    "    return CUBOID([larghezza,1,altezza])\n",
    "\n",
    "def tile(x,y,z):\n",
    "    return PROD([PROD([QUOTE([x]),QUOTE([y])]),QUOTE([z])])\n",
    "\n",
    "def shelf_mobile():\n",
    "    return COLOR(RED)(STRUCT([tile(1,1,0.05),tile(1,0.05,1),tile(0.05,1,1),T(1)(0.95)(tile(0.05,1,1)),T(3)(0.95)(tile(1,1,0.05))]))\n",
    "\n",
    "def shelfs_mobile():\n",
    "    return STRUCT(NN(10)([shelf_mobile(),T(3)(1)]))\n",
    "\n",
    "def leg_mobile():\n",
    "    return COLOR(RED)(CUBOID([0.2,0.2,0.2]))\n",
    "\n",
    "def pomello():\n",
    "    return COLOR(RED)(SPHERE(0.05)([24,32]))\n",
    "\n",
    "def mobile_con_pomelli():\n",
    "    return STRUCT([T(1)(1)(cassetto(1.5,2)),S(3)(.2)(shelfs_mobile()),T(1)(-1.5)(cassetto(1.5,2)),T([1,3])([-1.5,-0.2])(leg_mobile()),T([1,3])([2.3,-0.2])(leg_mobile()),T([1,3,2])([-1.5,-0.2,0.8])(leg_mobile()),T([1,3,2])([2.3,-0.2,0.8])(leg_mobile()),T([1,2,3])([1.2,1,0.8])(pomello()),T([1,2,3])([-0.2,1,0.8])(pomello())])\n",
    "\n",
    "def mobile_grande():\n",
    "    return TEXTURE('imm/texture/legno2.png')((STRUCT([T(1)(1)(cassetto(1.5,4)),shelfs_colonna(1,0.05,4),T(1)(-1.5)(cassetto(1.5,4)),T([1,3])([-1.5,-0.2])(leg_mobile()),T([1,3])([2.3,-0.2])(leg_mobile()),T([1,3,2])([-1.5,-0.2,0.8])(leg_mobile()),T([1,3,2])([2.3,-0.2,0.8])(leg_mobile())])))"
   ]
  },
  {
   "cell_type": "code",
   "execution_count": 258,
   "metadata": {},
   "outputs": [
    {
     "name": "stdout",
     "output_type": "stream",
     "text": [
      "Child 3\n",
      "Child 3\n"
     ]
    },
    {
     "data": {
      "text/plain": [
       "<pyplasm.xgepy.Hpc; proxy of <Swig Object of type 'std::shared_ptr< Hpc > *' at 0x000000000C9AAEA0> >"
      ]
     },
     "execution_count": 258,
     "metadata": {},
     "output_type": "execute_result"
    }
   ],
   "source": [
    "VIEW(STRUCT([gray_wall(6,12),T([2,3])([6,.1])(R([1,2])(PI/2)(mobiletto(1,0.01,5))), T([2,3])([10,0.1])(R([1,2])(PI/2)(scaffali(1.1,1.1,0.03,8))), T([2,3])([1,4])(R([1,2])(PI/2)(shelfs_comp())), T([2,3])([2,0.3])(R([1,2])(PI/2)(mobile_con_pomelli()))]))"
   ]
  },
  {
   "cell_type": "markdown",
   "metadata": {},
   "source": [
    "![room_2.png](imm/room_2.png)"
   ]
  },
  {
   "cell_type": "markdown",
   "metadata": {},
   "source": [
    "![room_1.png](imm/room_1.png)"
   ]
  },
  {
   "cell_type": "markdown",
   "metadata": {},
   "source": [
    "![room_3.png](imm/room_3.png)"
   ]
  },
  {
   "cell_type": "markdown",
   "metadata": {},
   "source": [
    "<h2>Stanza arredata con i mobili IKEA ed altri dettagli (tavolo, sedie, tappeto e poster)</h2>"
   ]
  },
  {
   "cell_type": "code",
   "execution_count": 257,
   "metadata": {},
   "outputs": [
    {
     "name": "stdout",
     "output_type": "stream",
     "text": [
      "Child 3\n",
      "Child 3\n"
     ]
    },
    {
     "data": {
      "text/plain": [
       "<pyplasm.xgepy.Hpc; proxy of <Swig Object of type 'std::shared_ptr< Hpc > *' at 0x000000000C97F030> >"
      ]
     },
     "execution_count": 257,
     "metadata": {},
     "output_type": "execute_result"
    }
   ],
   "source": [
    "VIEW(STRUCT([wall(6,12), R([1,2])(PI/2)(wall(6,12)), T([1,2,3])([-2,0.1,1])(R([1,2])(PI/2)(poster(4,4))), R([1,3])(PI/2)(floor(12,12)), T([1,2,3])([-4,3,0.05])(R([1,3])(PI/2)(tappeto(4,6))),T([1,2,3])([-5,4,1.71])(R([1,3])(PI)(table(2,4,0.2))), T([1,2,3])([-7.5,4.5,0.2])(chair()),T([1,2,3])([-7.5,6.5,0.2])(chair()),T([1,2,3])([-4.5,5.5,0.2])(R([1,2])(PI)(chair())),T([1,2,3])([-4.5,7.5,0.2])(R([1,2])(PI)(chair())),T([2,3])([6,.1])(R([1,2])(PI/2)(mobiletto(1,0.01,5))), T([2,3])([10,0.1])(R([1,2])(PI/2)(scaffali(1.1,1.1,0.03,8))), T([2,3])([1,4])(R([1,2])(PI/2)(shelfs_comp())), T([2,3])([2,0.3])(R([1,2])(PI/2)(mobile_con_pomelli())), T([1,2,3])([-10,0.1,0.3])(mobile_grande())]))"
   ]
  },
  {
   "attachments": {},
   "cell_type": "markdown",
   "metadata": {},
   "source": [
    "![room_completa1.png](imm/room_completa1.png)"
   ]
  },
  {
   "attachments": {},
   "cell_type": "markdown",
   "metadata": {},
   "source": [
    "![room_completa2.png](imm/room_completa2.png)"
   ]
  },
  {
   "attachments": {},
   "cell_type": "markdown",
   "metadata": {},
   "source": [
    "![room_completa3.png](imm/room_completa3.png)"
   ]
  },
  {
   "attachments": {},
   "cell_type": "markdown",
   "metadata": {},
   "source": [
    "![room_completa4.png](imm/room_completa4.png)"
   ]
  },
  {
   "cell_type": "code",
   "execution_count": null,
   "metadata": {},
   "outputs": [],
   "source": []
  }
 ],
 "metadata": {
  "kernelspec": {
   "display_name": "Python 2",
   "language": "python",
   "name": "python2"
  },
  "language_info": {
   "codemirror_mode": {
    "name": "ipython",
    "version": 2
   },
   "file_extension": ".py",
   "mimetype": "text/x-python",
   "name": "python",
   "nbconvert_exporter": "python",
   "pygments_lexer": "ipython2",
   "version": "2.7.12"
  }
 },
 "nbformat": 4,
 "nbformat_minor": 2
}
