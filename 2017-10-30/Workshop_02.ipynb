{
 "cells": [
  {
   "cell_type": "markdown",
   "metadata": {},
   "source": [
    "<h1>Esercitazione \"Laboratorio di Programmazione Geometrica e Grafica\"</h1>"
   ]
  },
  {
   "cell_type": "markdown",
   "metadata": {},
   "source": [
    "<h2>Workshop_01 (30-10-17)</h2>"
   ]
  },
  {
   "cell_type": "code",
   "execution_count": 1,
   "metadata": {},
   "outputs": [
    {
     "name": "stdout",
     "output_type": "stream",
     "text": [
      "Evaluating fenvs.py..\n",
      "...fenvs.py imported in 0.0189779753086 seconds\n"
     ]
    }
   ],
   "source": [
    "from pyplasm import *"
   ]
  },
  {
   "cell_type": "code",
   "execution_count": 135,
   "metadata": {},
   "outputs": [],
   "source": [
    "from pyplasm import *\n",
    "def leg(x,spessore):\n",
    "    return CUBOID([spessore,spessore,x/2])\n",
    "def plane(x,y,spessore):\n",
    "    return CUBOID([x,y,spessore])\n",
    "def scaffali(x,y,spessore,numero_scaffali):\n",
    "    componente = STRUCT([plane(x,y,spessore),leg(x,spessore),T([1,2])([x-spessore,y-spessore])(leg(x,spessore)),T([1,2])([x-spessore,-spessore])(leg(x,spessore)),T([1,2])([-spessore,y-spessore])(leg(x,spessore))])\n",
    "    return STRUCT(NN(numero_scaffali)([componente,T(3)(x/2)]))"
   ]
  },
  {
   "cell_type": "markdown",
   "metadata": {},
   "source": [
    "Per creare un mobiletto minimale di N scaffali: <b>mobiletto(dim_x, dim_y, spessore, numero_scaffali)</b>"
   ]
  },
  {
   "cell_type": "code",
   "execution_count": 136,
   "metadata": {},
   "outputs": [
    {
     "data": {
      "text/plain": [
       "<pyplasm.xgepy.Hpc; proxy of <Swig Object of type 'std::shared_ptr< Hpc > *' at 0x000000000BCA9810> >"
      ]
     },
     "execution_count": 136,
     "metadata": {},
     "output_type": "execute_result"
    }
   ],
   "source": [
    "VIEW(scaffali(0.5,1,0.03,5))"
   ]
  },
  {
   "attachments": {},
   "cell_type": "markdown",
   "metadata": {},
   "source": [
    "![scaffali.png](imm/scaffali.png)"
   ]
  },
  {
   "cell_type": "code",
   "execution_count": 134,
   "metadata": {},
   "outputs": [
    {
     "data": {
      "text/plain": [
       "<pyplasm.xgepy.Hpc; proxy of <Swig Object of type 'std::shared_ptr< Hpc > *' at 0x000000000BCA9630> >"
      ]
     },
     "execution_count": 134,
     "metadata": {},
     "output_type": "execute_result"
    }
   ],
   "source": [
    "VIEW(scaffali(0.5,0.5,0.03,8))"
   ]
  },
  {
   "attachments": {},
   "cell_type": "markdown",
   "metadata": {},
   "source": [
    "![scaffali_2.png](imm/scaffali_2.png)"
   ]
  },
  {
   "cell_type": "code",
   "execution_count": null,
   "metadata": {},
   "outputs": [],
   "source": [
    "from pyplasm import *\n",
    "from larlib import *\n",
    "def tile(x,y,z):\n",
    "    return PROD([PROD([QUOTE([x]),QUOTE([y])]),QUOTE([z])])\n",
    "\n",
    "def shelf():\n",
    "    return COLOR(RED)(STRUCT([tile(1,1,0.05),tile(1,0.05,1),tile(0.05,1,1),T(1)(0.95)(tile(0.05,1,1)),T(3)(0.95)(tile(1,1,0.05))]))"
   ]
  },
  {
   "cell_type": "code",
   "execution_count": null,
   "metadata": {},
   "outputs": [],
   "source": [
    "VIEW(shelf())"
   ]
  },
  {
   "attachments": {},
   "cell_type": "markdown",
   "metadata": {},
   "source": [
    "![schelf.png](imm/schelf.png)"
   ]
  },
  {
   "cell_type": "code",
   "execution_count": 130,
   "metadata": {},
   "outputs": [],
   "source": [
    "from pyplasm import *\n",
    "from larlib import *\n",
    "def tile(x,y,z):\n",
    "    return PROD([PROD([QUOTE([x]),QUOTE([y])]),QUOTE([z])])\n",
    "\n",
    "def mobiletto():\n",
    "    shelf=STRUCT([tile(1,1,0.05),tile(1,0.05,1),tile(0.05,1,1),T(1)(0.95)(tile(0.05,1,1)),T(3)(0.95)(tile(1,1,0.05))])\n",
    "    shelf_list_up=STRUCT(NN(3)([shelf,T(3)(1)]))\n",
    "    library=RIGHT([RIGHT([shelf_list_up,shelf_list_up]),shelf_list_up])\n",
    "    plane=tile(1,1,0.2)\n",
    "    plane3=RIGHT([RIGHT([plane,plane]),plane])\n",
    "    return STRUCT([plane3,T(3)(0.2)(library)])"
   ]
  },
  {
   "cell_type": "code",
   "execution_count": 131,
   "metadata": {},
   "outputs": [
    {
     "data": {
      "text/plain": [
       "<pyplasm.xgepy.Hpc; proxy of <Swig Object of type 'std::shared_ptr< Hpc > *' at 0x0000000007DAF420> >"
      ]
     },
     "execution_count": 131,
     "metadata": {},
     "output_type": "execute_result"
    }
   ],
   "source": [
    "VIEW(mobiletto())"
   ]
  },
  {
   "attachments": {},
   "cell_type": "markdown",
   "metadata": {},
   "source": [
    "![mobiletto.png](imm/mobiletto.png)"
   ]
  },
  {
   "cell_type": "code",
   "execution_count": 289,
   "metadata": {},
   "outputs": [],
   "source": [
    "from pyplasm import *\n",
    "def cubo():\n",
    "    return CUBOID([1.5,1,1])\n",
    "\n",
    "def tile(x,y,z):\n",
    "    return PROD([PROD([QUOTE([x]),QUOTE([y])]),QUOTE([z])])\n",
    "\n",
    "def shelf():\n",
    "    return COLOR(RED)(STRUCT([tile(1,1,0.05),tile(1,0.05,1),tile(0.05,1,1),T(1)(0.95)(tile(0.05,1,1)),T(3)(0.95)(tile(1,1,0.05))]))\n",
    "\n",
    "def shelfs():\n",
    "    return STRUCT(NN(5)([shelf(),T(3)(1)]))\n",
    "\n",
    "def leg():\n",
    "    return COLOR(RED)(CUBOID([0.2,0.2,0.2]))\n",
    "\n",
    "def pomello():\n",
    "    return COLOR(RED)(SPHERE(0.05)([24,32]))\n",
    "\n",
    "\n",
    "def mobile():\n",
    "    return STRUCT([T(1)(1)(cubo()),S(3)(.2)(shelfs()),T(1)(-1.5)(cubo()),T([1,3])([-1.5,-0.2])(leg()),T([1,3])([2.3,-0.2])(leg()),T([1,3,2])([-1.5,-0.2,0.8])(leg()),T([1,3,2])([2.3,-0.2,0.8])(leg())])"
   ]
  },
  {
   "cell_type": "code",
   "execution_count": 290,
   "metadata": {},
   "outputs": [
    {
     "data": {
      "text/plain": [
       "<pyplasm.xgepy.Hpc; proxy of <Swig Object of type 'std::shared_ptr< Hpc > *' at 0x000000000BDA75A0> >"
      ]
     },
     "execution_count": 290,
     "metadata": {},
     "output_type": "execute_result"
    }
   ],
   "source": [
    "VIEW(mobile())"
   ]
  },
  {
   "attachments": {},
   "cell_type": "markdown",
   "metadata": {},
   "source": [
    "![mobiletto_2.png](imm/mobiletto_2.png)"
   ]
  },
  {
   "cell_type": "code",
   "execution_count": 292,
   "metadata": {},
   "outputs": [],
   "source": [
    "def mobile_con_pomelli():\n",
    "    return STRUCT([T(1)(1)(cubo()),S(3)(.2)(shelfs()),T(1)(-1.5)(cubo()),T([1,3])([-1.5,-0.2])(leg()),T([1,3])([2.3,-0.2])(leg()),T([1,3,2])([-1.5,-0.2,0.8])(leg()),T([1,3,2])([2.3,-0.2,0.8])(leg()),T([1,2,3])([1.2,1,0.8])(pomello()),T([1,2,3])([-0.2,1,0.8])(pomello())])"
   ]
  },
  {
   "cell_type": "code",
   "execution_count": 293,
   "metadata": {},
   "outputs": [
    {
     "name": "stdout",
     "output_type": "stream",
     "text": [
      "Child 3\n",
      "Child 3\n"
     ]
    },
    {
     "data": {
      "text/plain": [
       "<pyplasm.xgepy.Hpc; proxy of <Swig Object of type 'std::shared_ptr< Hpc > *' at 0x000000000BDAA180> >"
      ]
     },
     "execution_count": 293,
     "metadata": {},
     "output_type": "execute_result"
    }
   ],
   "source": [
    "VIEW(mobile_con_pomelli())"
   ]
  },
  {
   "attachments": {},
   "cell_type": "markdown",
   "metadata": {},
   "source": [
    "![mobiletto_3.png](imm/mobiletto_3.png)"
   ]
  },
  {
   "cell_type": "code",
   "execution_count": null,
   "metadata": {},
   "outputs": [],
   "source": []
  }
 ],
 "metadata": {
  "kernelspec": {
   "display_name": "Python 2",
   "language": "python",
   "name": "python2"
  },
  "language_info": {
   "codemirror_mode": {
    "name": "ipython",
    "version": 2
   },
   "file_extension": ".py",
   "mimetype": "text/x-python",
   "name": "python",
   "nbconvert_exporter": "python",
   "pygments_lexer": "ipython2",
   "version": "2.7.12"
  }
 },
 "nbformat": 4,
 "nbformat_minor": 2
}
