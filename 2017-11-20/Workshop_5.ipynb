{
 "cells": [
  {
   "cell_type": "markdown",
   "metadata": {},
   "source": [
    "# Esercitazione \"Laboratorio di Programmazione Geometrica e Grafica\""
   ]
  },
  {
   "cell_type": "markdown",
   "metadata": {},
   "source": [
    "## Workshop_05 (20-11-17)\n",
    "- In questo workshop è stato richiesto di ricostruitre la pinatina di una delle ville proposte dal Professore\n",
    "- In questo workshop ci si è occupati di Villa Pisani"
   ]
  },
  {
   "cell_type": "markdown",
   "metadata": {},
   "source": [
    "![villa_pisani_bagnolo-2.jpg](imm/villa_pisani_bagnolo-2.jpg)"
   ]
  },
  {
   "cell_type": "markdown",
   "metadata": {},
   "source": [
    "![villapisanibonetti_home.jpg](imm/villapisanibonetti_home.jpg)"
   ]
  },
  {
   "cell_type": "markdown",
   "metadata": {},
   "source": [
    "![ground_floor_plan.gif](imm/ground_floor_plan.gif)"
   ]
  },
  {
   "cell_type": "markdown",
   "metadata": {},
   "source": [
    "### Planimetria realizzata con Inkscape"
   ]
  },
  {
   "attachments": {},
   "cell_type": "markdown",
   "metadata": {},
   "source": [
    "![piantina-svg.png](imm/piantina-svg.png)"
   ]
  },
  {
   "cell_type": "code",
   "execution_count": 11,
   "metadata": {},
   "outputs": [
    {
     "data": {
      "text/plain": [
       "<pyplasm.xgepy.Hpc; proxy of <Swig Object of type 'std::shared_ptr< Hpc > *' at 0x000000000D662600> >"
      ]
     },
     "execution_count": 11,
     "metadata": {},
     "output_type": "execute_result"
    }
   ],
   "source": [
    "from pyplasm import *\n",
    "import math\n",
    "import csv\n",
    "\n",
    "with open(\"svg/planimetria.lines\", \"rb\") as file:\n",
    "    reader = csv.reader(file, delimiter=\",\")\n",
    "    muri = []\n",
    "    for row in reader:\n",
    "        row0 = math.floor(float(row[0])*10)/10\n",
    "        row1 = math.floor(float(row[1])*10)/10\n",
    "        row2 = math.floor(float(row[2])*10)/10\n",
    "        row3 = math.floor(float(row[3])*10)/10\n",
    "        muri.append(POLYLINE([[row0, row1], [row2, row3]]))\n",
    "\n",
    "VIEW(STRUCT(muri))"
   ]
  },
  {
   "attachments": {},
   "cell_type": "markdown",
   "metadata": {},
   "source": [
    "![2017-11-29_121359.png](imm/2017-11-29_121359.png)"
   ]
  },
  {
   "cell_type": "code",
   "execution_count": 19,
   "metadata": {},
   "outputs": [
    {
     "data": {
      "text/plain": [
       "<pyplasm.xgepy.Hpc; proxy of <Swig Object of type 'std::shared_ptr< Hpc > *' at 0x000000000D66C5D0> >"
      ]
     },
     "execution_count": 19,
     "metadata": {},
     "output_type": "execute_result"
    }
   ],
   "source": [
    "altezza=20\n",
    "VIEW(MULTEXTRUDE(OFFSET([1,1])(STRUCT(muri)))(altezza))"
   ]
  },
  {
   "attachments": {},
   "cell_type": "markdown",
   "metadata": {},
   "source": [
    "![planimetria-3D.png](imm/planimetria-3D.png)"
   ]
  },
  {
   "attachments": {},
   "cell_type": "markdown",
   "metadata": {},
   "source": [
    "![planimetria-3D-2.png](imm/planimetria-3D-2.png)"
   ]
  },
  {
   "attachments": {},
   "cell_type": "markdown",
   "metadata": {},
   "source": [
    "![2017-11-29_122950.png](imm/2017-11-29_122950.png)"
   ]
  },
  {
   "cell_type": "code",
   "execution_count": null,
   "metadata": {},
   "outputs": [],
   "source": []
  }
 ],
 "metadata": {
  "kernelspec": {
   "display_name": "Python 2",
   "language": "python",
   "name": "python2"
  },
  "language_info": {
   "codemirror_mode": {
    "name": "ipython",
    "version": 2
   },
   "file_extension": ".py",
   "mimetype": "text/x-python",
   "name": "python",
   "nbconvert_exporter": "python",
   "pygments_lexer": "ipython2",
   "version": "2.7.12"
  }
 },
 "nbformat": 4,
 "nbformat_minor": 2
}
