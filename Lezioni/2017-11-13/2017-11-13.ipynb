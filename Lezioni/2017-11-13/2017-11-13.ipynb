{
 "cells": [
  {
   "cell_type": "markdown",
   "metadata": {},
   "source": [
    "# Lezione \"Laboratorio di Programmazione Geometrica e Grafica\""
   ]
  },
  {
   "cell_type": "markdown",
   "metadata": {},
   "source": [
    "## 13-11-17\n",
    "- In questa lezione sono stati presentati degli esempi di circonferenza, anello e spirale"
   ]
  },
  {
   "cell_type": "markdown",
   "metadata": {},
   "source": [
    "### Circonferenza"
   ]
  },
  {
   "cell_type": "markdown",
   "metadata": {},
   "source": [
    "- costruiamo una circonferenza per poi utilizzarla per ottenere un arco di circonferanza\n",
    "- la circonferneza dipende da un solo parametro, ossia l'angolo \"u\"\n",
    "- da \"u\" otteniamo x (ossia r*cos(u)) e y (ossia r*sin(u))\n",
    "- la funzione \"map\" (MAP(funzione generatrice)(dominio)) applica una funzione vettoriale ai vertici di un intervallo (il dominio)\n",
    "- x = lambda p: r*cos p[0]\n",
    "- y = lambda p: r*sin p[0]\n",
    "- lambda è una funzione anonima"
   ]
  },
  {
   "cell_type": "code",
   "execution_count": 1,
   "metadata": {},
   "outputs": [
    {
     "name": "stdout",
     "output_type": "stream",
     "text": [
      "Evaluating fenvs.py..\n",
      "...fenvs.py imported in 0.0177662999313 seconds\n"
     ]
    },
    {
     "name": "stderr",
     "output_type": "stream",
     "text": [
      "c:\\programmi\\python27\\lib\\site-packages\\larlib\\larstruct.py:233: FutureWarning: comparison to `None` will result in an elementwise object comparison in the future.\n",
      "  self.body = [item for item in data if item != None]\n"
     ]
    },
    {
     "data": {
      "text/plain": [
       "<pyplasm.xgepy.Hpc; proxy of <Swig Object of type 'std::shared_ptr< Hpc > *' at 0x000000000DE8A090> >"
      ]
     },
     "execution_count": 1,
     "metadata": {},
     "output_type": "execute_result"
    }
   ],
   "source": [
    "from larlib import *\n",
    "\n",
    "x = lambda p : cos(p[0])\n",
    "y = lambda p : sin(p[0])\n",
    "dom = INTERVALS(2*PI)(32) # primo parametro dimensione dominio, secondo parametro in quante parti voglio dividerlo\n",
    "\n",
    "map = MAP([x,y])(dom) # le funzioni definite precedentemente (\"x\" e \"y\") vengono applicate al domino \"dom\"\n",
    "\n",
    "VIEW(map)"
   ]
  },
  {
   "attachments": {},
   "cell_type": "markdown",
   "metadata": {},
   "source": [
    "![2017-11-17_132444.png](imm/2017-11-17_132444.png)"
   ]
  },
  {
   "cell_type": "code",
   "execution_count": 2,
   "metadata": {},
   "outputs": [
    {
     "data": {
      "text/plain": [
       "<pyplasm.xgepy.Hpc; proxy of <Swig Object of type 'std::shared_ptr< Hpc > *' at 0x000000000DE8A030> >"
      ]
     },
     "execution_count": 2,
     "metadata": {},
     "output_type": "execute_result"
    }
   ],
   "source": [
    "from larlib import *\n",
    "\n",
    "x = lambda p : cos(p[0])\n",
    "y = lambda p : sin(p[0])\n",
    "dom = INTERVALS(PI)(32) # primo parametro dimensione dominio, secondo parametro in quante parti voglio dividerlo\n",
    "\n",
    "map = MAP([x,y])(dom)\n",
    "\n",
    "VIEW(map)"
   ]
  },
  {
   "attachments": {},
   "cell_type": "markdown",
   "metadata": {},
   "source": [
    "![2017-11-17_132548.png](imm/2017-11-17_132548.png)"
   ]
  },
  {
   "cell_type": "markdown",
   "metadata": {},
   "source": [
    "### Corona circolare"
   ]
  },
  {
   "cell_type": "code",
   "execution_count": 3,
   "metadata": {},
   "outputs": [
    {
     "data": {
      "text/plain": [
       "<pyplasm.xgepy.Hpc; proxy of <Swig Object of type 'std::shared_ptr< Hpc > *' at 0x000000000E011390> >"
      ]
     },
     "execution_count": 3,
     "metadata": {},
     "output_type": "execute_result"
    }
   ],
   "source": [
    "from larlib import *\n",
    "\n",
    "# ho aggiunto il parametro raggio \"v\" che può variare tra due valori (v grande e v piccolo)\n",
    "\n",
    "x = lambda (u,v) : v*cos(u)\n",
    "y = lambda (u,v) : v*sin(u)\n",
    "dom = T(2)(0.5)(PROD([INTERVALS(2*PI)(32),INTERVALS(0.5)(32)])) # prodotto cartesiano tra due INTERVALS\n",
    "\n",
    "map = MAP([x,y])(dom) # due cordinate perché sono realizzazioni in 2D, per il 3D ne useremo 3\n",
    "\n",
    "VIEW(map)"
   ]
  },
  {
   "attachments": {},
   "cell_type": "markdown",
   "metadata": {},
   "source": [
    "![2017-11-17_132630.png](imm/2017-11-17_132630.png)"
   ]
  },
  {
   "cell_type": "code",
   "execution_count": 4,
   "metadata": {},
   "outputs": [],
   "source": [
    "from larlib import *\n",
    "\n",
    "def ring(r,R):\n",
    "    x = lambda (u,v) : v*cos(u)\n",
    "    y = lambda (u,v) : v*sin(u)\n",
    "    dom = T(2)(r)(PROD([INTERVALS(2*PI)(32),INTERVALS(R-r)(32)])) # prodotto cartesiano tra due INTERVALS\n",
    "    map = MAP([x,y])(dom)\n",
    "    return map"
   ]
  },
  {
   "cell_type": "code",
   "execution_count": 5,
   "metadata": {},
   "outputs": [
    {
     "data": {
      "text/plain": [
       "<pyplasm.xgepy.Hpc; proxy of <Swig Object of type 'std::shared_ptr< Hpc > *' at 0x000000000E0117E0> >"
      ]
     },
     "execution_count": 5,
     "metadata": {},
     "output_type": "execute_result"
    }
   ],
   "source": [
    "VIEW(ring(1,1.5))"
   ]
  },
  {
   "attachments": {},
   "cell_type": "markdown",
   "metadata": {},
   "source": [
    "![2017-11-17_132703.png](imm/2017-11-17_132703.png)"
   ]
  },
  {
   "cell_type": "markdown",
   "metadata": {},
   "source": [
    "### Curva di Bezier\n",
    "- interpola il primo e l'ultimo punto della sequenza e aporssima gli altri"
   ]
  },
  {
   "cell_type": "code",
   "execution_count": 6,
   "metadata": {},
   "outputs": [
    {
     "data": {
      "text/plain": [
       "<pyplasm.xgepy.Hpc; proxy of <Swig Object of type 'std::shared_ptr< Hpc > *' at 0x000000000E0112A0> >"
      ]
     },
     "execution_count": 6,
     "metadata": {},
     "output_type": "execute_result"
    }
   ],
   "source": [
    "from larlib import *\n",
    "\n",
    "b = BEZIER(S1)([[0,0],[1,0],[0,1],[0,0]])\n",
    "map = MAP(b)(INTERVALS(1)(32))\n",
    "\n",
    "VIEW(map)"
   ]
  },
  {
   "attachments": {},
   "cell_type": "markdown",
   "metadata": {},
   "source": [
    "![2017-11-17_132752.png](imm/2017-11-17_132752.png)"
   ]
  },
  {
   "cell_type": "code",
   "execution_count": 7,
   "metadata": {},
   "outputs": [
    {
     "data": {
      "text/plain": [
       "<pyplasm.xgepy.Hpc; proxy of <Swig Object of type 'std::shared_ptr< Hpc > *' at 0x000000000E0118D0> >"
      ]
     },
     "execution_count": 7,
     "metadata": {},
     "output_type": "execute_result"
    }
   ],
   "source": [
    "from larlib import *\n",
    "\n",
    "b = BEZIER(S1)([[0,0],[1,0],[-1,-1],[0,1],[0,0]])\n",
    "map = MAP(b)(INTERVALS(1)(32))\n",
    "\n",
    "VIEW(map)"
   ]
  },
  {
   "attachments": {},
   "cell_type": "markdown",
   "metadata": {},
   "source": [
    "![2017-11-17_132830.png](imm/2017-11-17_132830.png)"
   ]
  },
  {
   "cell_type": "markdown",
   "metadata": {},
   "source": [
    "- interpolazione di 2 curve di controllo"
   ]
  },
  {
   "cell_type": "code",
   "execution_count": 10,
   "metadata": {},
   "outputs": [
    {
     "data": {
      "text/plain": [
       "<pyplasm.xgepy.Hpc; proxy of <Swig Object of type 'std::shared_ptr< Hpc > *' at 0x000000000DF724B0> >"
      ]
     },
     "execution_count": 10,
     "metadata": {},
     "output_type": "execute_result"
    }
   ],
   "source": [
    "from larlib import *\n",
    "\n",
    "b1 = BEZIER(S1)([[0,0],[1,0],[-1,-1],[0,1],[0,0]])\n",
    "b2 = BEZIER(S1)([[0,0],[1,0],[-2,-2],[0,1],[0,0]])\n",
    "\n",
    "bb = BEZIER(S2)((b1,b2))\n",
    "\n",
    "dom = PROD([INTERVALS(1)(32),INTERVALS(1)(1)])\n",
    "\n",
    "map = MAP(bb)(dom)\n",
    "\n",
    "VIEW(map)\n",
    "VIEW(SKEL_1(map))"
   ]
  },
  {
   "attachments": {},
   "cell_type": "markdown",
   "metadata": {},
   "source": [
    "![2017-11-17_132859.png](imm/2017-11-17_132859.png)"
   ]
  },
  {
   "attachments": {},
   "cell_type": "markdown",
   "metadata": {},
   "source": [
    "![2017-11-17_132915.png](imm/2017-11-17_132915.png)"
   ]
  },
  {
   "cell_type": "markdown",
   "metadata": {},
   "source": [
    "- interpolazione tra una curca di Bezier e un pezzo di circonferenza"
   ]
  },
  {
   "cell_type": "code",
   "execution_count": 11,
   "metadata": {},
   "outputs": [
    {
     "data": {
      "text/plain": [
       "<pyplasm.xgepy.Hpc; proxy of <Swig Object of type 'std::shared_ptr< Hpc > *' at 0x000000000E21B9C0> >"
      ]
     },
     "execution_count": 11,
     "metadata": {},
     "output_type": "execute_result"
    }
   ],
   "source": [
    "from larlib import *\n",
    "\n",
    "x = lambda (u,v) : 1.5*cos(u)\n",
    "y = lambda (u,v) : 1.5*sin(u)\n",
    "z = lambda (u,v) : 1 # funzione che restituisce sempre 1\n",
    "\n",
    "b = BEZIER(S1)([[1,0.5,1],[1,1,2],[0.5,1,3]]) # curva di Bexier\n",
    "\n",
    "dom = PROD([INTERVALS(1)(32),INTERVALS(1)(1)])\n",
    "\n",
    "bb = BEZIER(S2)([b,CONS([x,y,z])])\n",
    "\n",
    "map = MAP(bb)(dom)\n",
    "\n",
    "VIEW(map)\n",
    "VIEW(SKEL_1(map))"
   ]
  },
  {
   "attachments": {},
   "cell_type": "markdown",
   "metadata": {},
   "source": [
    "![2017-11-17_133156.png](imm/2017-11-17_133156.png)"
   ]
  },
  {
   "attachments": {},
   "cell_type": "markdown",
   "metadata": {},
   "source": [
    "![2017-11-17_133224.png](imm/2017-11-17_133224.png)"
   ]
  },
  {
   "cell_type": "markdown",
   "metadata": {},
   "source": [
    "### Spirale"
   ]
  },
  {
   "cell_type": "code",
   "execution_count": 12,
   "metadata": {},
   "outputs": [
    {
     "data": {
      "text/plain": [
       "<pyplasm.xgepy.Hpc; proxy of <Swig Object of type 'std::shared_ptr< Hpc > *' at 0x000000000E21BD50> >"
      ]
     },
     "execution_count": 12,
     "metadata": {},
     "output_type": "execute_result"
    }
   ],
   "source": [
    "from larlib import *\n",
    "\n",
    "def spiral(r,h,n):\n",
    "    # funzioni generatrici di una circonferenza di raggio r\n",
    "    # queste funzioni sono applicate alla MAP sui punti del dominio e i punti del dominio sono vettori\n",
    "    x = lambda (u,) : r*cos(u)\n",
    "    y = lambda (u,) : r*sin(u)\n",
    "    z = lambda (u,) : h*u/(2*PI) # restituisci la quota (in questo caso dopo un giro di trovera' a h*2PI/2PI, ossia ad h)\n",
    "    \n",
    "    dom = INTERVALS(2*n*PI)(36*n)\n",
    "    # questa è la circonferenza\n",
    "    return MAP(CONS([x,y,z]))(dom) # CONS prende in pasto una lista di funzioni e lo trasforma in un unica funzione vettoriale e viene lei applicata a tutti i punti del dominio\n",
    "\n",
    "\n",
    "VIEW(spiral(0.5,0.1,20))"
   ]
  },
  {
   "attachments": {},
   "cell_type": "markdown",
   "metadata": {},
   "source": [
    "![2017-11-17_133310.png](imm/2017-11-17_133310.png)"
   ]
  },
  {
   "cell_type": "code",
   "execution_count": 14,
   "metadata": {},
   "outputs": [
    {
     "data": {
      "text/plain": [
       "<pyplasm.xgepy.Hpc; proxy of <Swig Object of type 'std::shared_ptr< Hpc > *' at 0x000000000E011210> >"
      ]
     },
     "execution_count": 14,
     "metadata": {},
     "output_type": "execute_result"
    }
   ],
   "source": [
    "from larlib import *\n",
    "\n",
    "def spiral(r,h):\n",
    "    x= lambda (u,) : r*cos(u) # lambda serve un array o una tupla e non variabili sole \n",
    "    y= lambda (u,) : r*sin(u)\n",
    "    z= lambda (u,) : h*u/(2*PI)     # se metto u ottengo un'aspirale alla fine del giro si trova a 2PI con h che identifica all'altezza che mi voglio fermare\n",
    "    return CONS([x,y,z])       # CONS prende in pasto una lista di funzioni e lo trasforma in un unica funzione vettoriale e viene lei applicata a tutti i punti del dominio\n",
    "\n",
    "    # per generare mi serve la funzione che lo genera e non l'oggetto hpc quindi meglio non far uscire oggetto hpc\n",
    "n=20 # numero curve\n",
    "dom = INTERVALS(n*2*PI)(n*36) \n",
    "mapp=MAP(spiral(.5,.1))(dom)\n",
    "VIEW(mapp)\n"
   ]
  },
  {
   "attachments": {},
   "cell_type": "markdown",
   "metadata": {},
   "source": [
    "![2017-11-17_133454.png](imm/2017-11-17_133454.png)"
   ]
  },
  {
   "cell_type": "code",
   "execution_count": 17,
   "metadata": {},
   "outputs": [
    {
     "data": {
      "text/plain": [
       "<pyplasm.xgepy.Hpc; proxy of <Swig Object of type 'std::shared_ptr< Hpc > *' at 0x000000000E011DB0> >"
      ]
     },
     "execution_count": 17,
     "metadata": {},
     "output_type": "execute_result"
    }
   ],
   "source": [
    "from larlib import *\n",
    "\n",
    "def spiral2(r,h):\n",
    "    x= lambda (u,v) : r*cos(u) # lambda serve un array o una tupla e non variabili sole \n",
    "    y= lambda (u,v) : r*sin(u)\n",
    "    z= lambda (u,v) : h*u/(2*PI)     # se metto u ottengo un'aspirale alla fine del giro si trova a 2PI con h che identifica all'altezza che mi voglio fermare\n",
    "    return CONS([x,y,z])   \n",
    "\n",
    "s1=spiral2(.5,.2) # devo usare spiral 2 perche mi servono 2 variabili se no mi da errore\n",
    "s2=spiral2(1,.2)\n",
    "sup=BEZIER(S2)([s1,s2])\n",
    "dom = lambda n : PROD([\n",
    "    INTERVALS(2+n*PI)(36*n),\n",
    "    INTERVALS(1)(1)\n",
    "    ])\n",
    "\n",
    "# VIEW(dom(10)) # con dom 10 viene lungo lungo e stretto stretto\n",
    "\n",
    "map=MAP(sup)(dom(10))\n",
    "VIEW(map)\n",
    "VIEW(SKEL_1(map))"
   ]
  },
  {
   "attachments": {},
   "cell_type": "markdown",
   "metadata": {},
   "source": [
    "![2017-11-17_133546.png](imm/2017-11-17_133546.png)"
   ]
  },
  {
   "attachments": {},
   "cell_type": "markdown",
   "metadata": {},
   "source": [
    "![2017-11-17_133643.png](imm/2017-11-17_133643.png)"
   ]
  },
  {
   "cell_type": "code",
   "execution_count": 18,
   "metadata": {},
   "outputs": [
    {
     "data": {
      "text/plain": [
       "<pyplasm.xgepy.Hpc; proxy of <Swig Object of type 'std::shared_ptr< Hpc > *' at 0x000000000E25B8D0> >"
      ]
     },
     "execution_count": 18,
     "metadata": {},
     "output_type": "execute_result"
    }
   ],
   "source": [
    "from larlib import *\n",
    "\n",
    "def spiral3(r,h):\n",
    "    x= lambda (u,v) : r*cos(u) #lambda serve un array o una tupla e non variabili sole \n",
    "    y= lambda (u,v) : r*sin(u)\n",
    "    z= lambda (u,v) : h*u/(2*PI)     #se metto u ottengo un'aspirale alla fine del giro si trova a 2PI con h che identifica all'altezza che mi voglio fermare\n",
    "    return CONS([x,y,z])   \n",
    "\n",
    "s1=spiral3(.5,.2) #devo usare spiral 2 perche mi servono 2 variabili se no mi da errore\n",
    "s2=spiral3(1,.2)\n",
    "sup=BEZIER(S2)([s1,s2])\n",
    "\n",
    "dom = larExtrude1(VOID, 200*[PI/10])\n",
    "dom = larExtrude1(dom, [1])\n",
    "\n",
    "hpc = MKPOL([dom[0],[[v1+1,v2+1,v3+1] for v1,v2,v3 in dom[1]],None])\n",
    "\n",
    "rampa = MAP(sup)(hpc)\n",
    "VIEW(rampa)"
   ]
  },
  {
   "attachments": {},
   "cell_type": "markdown",
   "metadata": {},
   "source": [
    "![2017-11-17_133752.png](imm/2017-11-17_133752.png)"
   ]
  },
  {
   "cell_type": "code",
   "execution_count": 19,
   "metadata": {},
   "outputs": [
    {
     "data": {
      "text/plain": [
       "<pyplasm.xgepy.Hpc; proxy of <Swig Object of type 'std::shared_ptr< Hpc > *' at 0x000000000E21B540> >"
      ]
     },
     "execution_count": 19,
     "metadata": {},
     "output_type": "execute_result"
    }
   ],
   "source": [
    "from larlib import *\n",
    "\n",
    "def spiral4(r,h):\n",
    "    x= lambda (u,v) : r*cos(u) #lambda serve un array o una tupla e non variabili sole \n",
    "    y= lambda (u,v) : r*sin(u)\n",
    "    z= lambda (u,v) : h*u/(2*PI)     #se metto u ottengo un'aspirale alla fine del giro si trova a 2PI con h che identifica all'altezza che mi voglio fermare\n",
    "    return CONS([x,y,z])   \n",
    "\n",
    "s1=spiral4(.5,.2) #devo usare spiral 2 perche mi servono 2 variabili se no mi da errore\n",
    "s2=spiral4(1,.2)\n",
    "sup=BEZIER(S2)([s1,s2])\n",
    "\n",
    "dom = larExtrude1(VOID, 200*[PI/10])\n",
    "dom = larExtrude1(dom, 5*[1./5])\n",
    "VIEW(SKEL_1(STRUCT(MKPOLS(dom))))\n",
    "\n",
    "hpc = MKPOL([dom[0],[[v1+1,v2+1,v3+1] for v1,v2,v3 in dom[1]],None])\n",
    "\n",
    "rampa = MAP(sup)(hpc)\n",
    "VIEW(SKEL_1(rampa))"
   ]
  },
  {
   "attachments": {},
   "cell_type": "markdown",
   "metadata": {},
   "source": [
    "![2017-11-17_133846.png](imm/2017-11-17_133846.png)"
   ]
  },
  {
   "attachments": {},
   "cell_type": "markdown",
   "metadata": {},
   "source": [
    "![2017-11-17_133901.png](imm\\2017-11-17_133901.png)"
   ]
  },
  {
   "cell_type": "code",
   "execution_count": 79,
   "metadata": {},
   "outputs": [],
   "source": [
    "from larlib import *\n",
    "\n",
    "def spiral5(r,h):\n",
    "    x= lambda (u,v) : r*cos(u) #lambda serve un array o una tupla e non variabili sole \n",
    "    y= lambda (u,v) : r*sin(u)\n",
    "    z= lambda (u,v) : h*u/(2*PI)     #se metto u ottengo un'aspirale alla fine del giro si trova a 2PI con h che identifica all'altezza che mi voglio fermare\n",
    "    return CONS([x,y,z])   \n",
    "\n",
    "s1=spiral5(.5,.2) #devo usare spiral 2 perche mi servono 2 variabili se no mi da errore\n",
    "s2=spiral5(1,.2)\n",
    "sup=BEZIER(S2)([s1,s2])\n",
    "\n",
    "dom = larExtrude1(VOID, 200*[PI/10])\n",
    "dom = larExtrude1(dom, 5*[1./5])\n",
    "#VIEW(SKEL_1(STRUCT(MKPOLS(dom))))\n",
    "\n",
    "hpc = MKPOL([dom[0],[[v1+1,v2+1,v3+1] for v1,v2,v3 in dom[1]],None])\n",
    "\n",
    "rampa = MAP(sup)(hpc)"
   ]
  },
  {
   "cell_type": "code",
   "execution_count": 20,
   "metadata": {},
   "outputs": [],
   "source": [
    "# impiega molto tempo a renderizzare l'oggetto\n",
    "# VIEW(OFFSET([.01,.01,.01])(SKEL_1(rampa)))"
   ]
  },
  {
   "attachments": {},
   "cell_type": "markdown",
   "metadata": {},
   "source": [
    "![2017-11-13_154833.png](imm/2017-11-13_154833.png)"
   ]
  },
  {
   "cell_type": "code",
   "execution_count": null,
   "metadata": {},
   "outputs": [],
   "source": []
  }
 ],
 "metadata": {
  "kernelspec": {
   "display_name": "Python 2",
   "language": "python",
   "name": "python2"
  },
  "language_info": {
   "codemirror_mode": {
    "name": "ipython",
    "version": 2
   },
   "file_extension": ".py",
   "mimetype": "text/x-python",
   "name": "python",
   "nbconvert_exporter": "python",
   "pygments_lexer": "ipython2",
   "version": "2.7.12"
  }
 },
 "nbformat": 4,
 "nbformat_minor": 2
}
