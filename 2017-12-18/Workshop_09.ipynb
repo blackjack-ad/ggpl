{
 "cells": [
  {
   "cell_type": "markdown",
   "metadata": {},
   "source": [
    "# Esercitazione \"Laboratorio di Programmazione Geometrica e Grafica\"\n",
    "## Workshop_09 (18-12-17)"
   ]
  },
  {
   "cell_type": "markdown",
   "metadata": {},
   "source": [
    "# Villa Pisani di Bagnolo"
   ]
  },
  {
   "cell_type": "markdown",
   "metadata": {},
   "source": [
    "Link Wikipedia:  <a href=\"https://it.wikipedia.org/wiki/Villa_Pisani_(Bagnolo)\">Villa Pisani (Bagnolo)</a> "
   ]
  },
  {
   "cell_type": "markdown",
   "metadata": {},
   "source": [
    "- In questo workshop mi sono occupato di ricostruire Villa Pisani di Bagnolo utilizzando gran parte degli stumenti appresi durante il corso;\n",
    "- Per svolgere l'esercizio ho definito diverse funzioni parametriche con lo scopo di poterle utilizzare per ottenere il risultato finale;\n",
    "- Per fare questo ho definito funzioni per creare, tramite passaggio di parametri: finestre, porte, decorazioni, pareti, scalinate, pavimenti, tetti, alberi ecc.\n",
    "- E' possibile variare diversi parametri per la generazione della Villa senza compromettere il risultato finale, come spessore dei muri, altezza dei piani, le dimensioni dell'edificio, la dimensione del prato, il numero di alberi ecc.\n",
    "- Ogni componente può essere riutilizzata per costruire edifici simili, ad esempio è possibile costruire un muro lungo 30 metri, con un determinato tipo di finestre, semplicemente chiamando l'opportuna funzione. Allo stesso modo è possibile creare una serie di archi (come quelli utilizzati nella facciata dell'edificio), una scalinata con un numero arbitrario di gradini e di altezza, profondità e larghezza variabile e molti altri elementi architettonici. Tutti gli elementi che compaiono del risultato finale sono riutilizzabili;\n",
    "- Inoltra sono state definite le pareti interne all'edificio per completare il lavoro della ricostruzione della Villa, con tanto di varchi e scale per collegare i diversi piani, il tutto seguendo la planimetria;\n",
    "- Sono state utilizzate delle texture per rendere più verosimile il risultato finale. Anche le texture possono essere semplicemente modificate della sezione apposita;\n",
    "- In fine ho creato una funzione che dato uno spazio di prato libero (anche questo ricavato in modo parametrico tramite l'utilizzo di un'opportuna funzione) genera un determinato numero di alberi di diverso colore e dimensione in posizioni casuali della mappa. In questo modo è stato possibile utilizzare Numpy e le funzioni random."
   ]
  },
  {
   "cell_type": "markdown",
   "metadata": {},
   "source": [
    "<table>\n",
    "    <tr><td>![villa_pisani_frontale.jpg](imm/originale/villa_pisani_frontale.jpg)</td></tr>\n",
    "    <tr><td>![villa_pisani_retro.jpg](imm/originale/villa_pisani_retro.jpg)</td></tr>\n",
    "    <tr><td>![villa_pisani_laterale.jpg](imm/originale/villa_pisani_laterale.jpg)</td></tr>\n",
    "    <tr><td>![villa_pisani_2.jpg](imm/originale/villa_pisani_2.jpg)</td></tr>\n",
    "</table>"
   ]
  },
  {
   "cell_type": "markdown",
   "metadata": {},
   "source": [
    "### Import di Larlib e Numpy"
   ]
  },
  {
   "cell_type": "code",
   "execution_count": 1,
   "metadata": {},
   "outputs": [
    {
     "name": "stdout",
     "output_type": "stream",
     "text": [
      "Evaluating fenvs.py..\n",
      "...fenvs.py imported in 0.00676305371292 seconds\n"
     ]
    },
    {
     "name": "stderr",
     "output_type": "stream",
     "text": [
      "c:\\programmi\\python27\\lib\\site-packages\\larlib\\larstruct.py:233: FutureWarning: comparison to `None` will result in an elementwise object comparison in the future.\n",
      "  self.body = [item for item in data if item != None]\n"
     ]
    }
   ],
   "source": [
    "from larlib import *\n",
    "from numpy import *"
   ]
  },
  {
   "cell_type": "markdown",
   "metadata": {},
   "source": [
    "### Misure di riferimento"
   ]
  },
  {
   "cell_type": "code",
   "execution_count": 2,
   "metadata": {},
   "outputs": [],
   "source": [
    "# Misure di riferimento\n",
    "\n",
    "spessore_muri = 0.3\n",
    "\n",
    "dimensione_pannello_finestra = 8\n",
    "\n",
    "altezza_primo_piano = 14\n",
    "\n",
    "spessore_facciata = 2\n",
    "\n",
    "altezza_tetti = 1.5\n",
    "\n",
    "altezza_scalinata_frontale = 2\n",
    "raggio_scalinata_frontale = 5.9\n",
    "\n",
    "dim_prato_x = 80\n",
    "dim_prato_y = 100"
   ]
  },
  {
   "cell_type": "markdown",
   "metadata": {},
   "source": [
    "### Misure ricavate\n",
    "- queste misure vengono calcolate dopo la definizione delle misure di riferimento così da essere richiamate successivamente snellendo il codice."
   ]
  },
  {
   "cell_type": "code",
   "execution_count": 3,
   "metadata": {},
   "outputs": [],
   "source": [
    "# Misure ricavate\n",
    "\n",
    "numero_finestre_laterali = 4\n",
    "numero_finestre_posteriori = 6\n",
    "\n",
    "dimensione_lato_frontale_edificio = dimensione_pannello_finestra*1.0*numero_finestre_posteriori\n",
    "dimensione_laterale_edificio = dimensione_pannello_finestra*1.0*numero_finestre_laterali\n",
    "\n",
    "DimSpazioBianco = ((dimensione_pannello_finestra-2)/2.0)-2\n",
    "\n",
    "posizione_piano2_X = (dim_prato_x-(dimensione_laterale_edificio+2*DimSpazioBianco))/2.0\n",
    "posizione_piano2_Y = (dim_prato_y-(dimensione_lato_frontale_edificio+2*DimSpazioBianco))/2.0\n",
    "\n",
    "posizione_facciata_Y = (((dim_prato_x-(dimensione_laterale_edificio+2.0*DimSpazioBianco))/2.0)+dimensione_laterale_edificio+DimSpazioBianco*2.0)-spessore_facciata\n",
    "posizione_facciata_Z = 3+0.3+spessore_muri*3\n",
    "posizione_facciata_X = posizione_piano2_Y + dimensione_pannello_finestra + DimSpazioBianco*2.0\n",
    "\n",
    "altezza_piano_0 = 3+0.5+spessore_muri*3.0\n",
    "\n",
    "altezza_secondo_piano = 3+0.3+spessore_muri*4+altezza_primo_piano+0.1\n",
    "\n",
    "altezza_tetto = altezza_secondo_piano + altezza_primo_piano*0.4+spessore_muri\n",
    "posizione_tetto_X = posizione_piano2_X+dimensione_laterale_edificio-dimensione_pannello_finestra\n",
    "posizione_tetto_Y = posizione_piano2_Y\n",
    "\n",
    "altezza_pareti = altezza_secondo_piano + altezza_primo_piano*0.6"
   ]
  },
  {
   "cell_type": "markdown",
   "metadata": {},
   "source": [
    "### Texture e colori\n",
    "- le texture possono essere modificate in questo punto del codice."
   ]
  },
  {
   "cell_type": "code",
   "execution_count": 4,
   "metadata": {},
   "outputs": [],
   "source": [
    "# Texture e colori\n",
    "\n",
    "texture_pietra = 'texture/sand3.png'\n",
    "texture_pietraP0 = 'texture/mattoni3.png'\n",
    "texture_prato = 'texture/prato.png'\n",
    "texture_brecciolino = 'texture/brecciolino2.png'\n",
    "texture_tetto = 'texture/tetto3.png'\n",
    "texture_pavimentoP1 = 'texture/marmo.png'\n",
    "texture_pavimentoP2 = 'texture/marmo.png'\n",
    "texture_pareti = 'texture/marmo-bianco.png'\n",
    "texture_finestre = 'texture/marmo-bianco.png'\n",
    "texture_persiane = 'texture/legno.png'\n",
    "\n",
    "texture_foglie1 = 'texture/foglie1.png'\n",
    "texture_foglie2 = 'texture/foglie2.png'\n",
    "texture_foglie3 = 'texture/foglie3.png'\n",
    "texture_tronco = 'texture/tronco.png'"
   ]
  },
  {
   "cell_type": "markdown",
   "metadata": {},
   "source": [
    "### Funzioni di supporto\n",
    "- alcune funzioni che successivamente verranno richiamate per la definizione di funzioni più complesse."
   ]
  },
  {
   "cell_type": "code",
   "execution_count": 5,
   "metadata": {},
   "outputs": [],
   "source": [
    "# Mappa ciclica\n",
    "\n",
    "def cylMap():\n",
    "    x = lambda k: k[1] * COS(k[0])\n",
    "    y = lambda k: k[1] * SIN(k[0])\n",
    "    z = lambda k: k[2]\n",
    "    return MAP([x,y,z])"
   ]
  },
  {
   "cell_type": "code",
   "execution_count": 6,
   "metadata": {},
   "outputs": [],
   "source": [
    "# Alcuni metodi di supporto\n",
    "\n",
    "def getMapSemiarco(r,altezza):\n",
    "    x = lambda p : r*sin(p[0])*cos(p[0])\n",
    "    y = lambda p : r*cos(p[0])*cos(p[0])\n",
    "    z = lambda p : altezza\n",
    "    dom = INTERVALS(PI/2)(63) # primo parametro dimensione dominio, secondo parametro in quante parti voglio dividerlo\n",
    "\n",
    "    map = MAP([x,y,z])(dom)\n",
    "    return map\n",
    "\n",
    "def getMap(r,altezza):\n",
    "    x = lambda p : r*sin(p[0])*cos(p[0])\n",
    "    y = lambda p : r*cos(p[0])*cos(p[0])\n",
    "    z = lambda p : altezza\n",
    "    dom = INTERVALS(PI)(32) # primo parametro dimensione dominio, secondo parametro in quante parti voglio dividerlo\n",
    "\n",
    "    map = MAP([x,y,z])(dom)\n",
    "    \n",
    "    return map\n",
    "\n",
    "def Cubo_Angoli_Smussati(r,altezza,fattore_smussamento):\n",
    "    fattore_smussamento = fattore_smussamento * r\n",
    "    elemento = OFFSET([fattore_smussamento,fattore_smussamento,fattore_smussamento])(JOIN([getMap(r,0),getMap(r,altezza)]))\n",
    "    \n",
    "    return elemento\n",
    "\n",
    "def getPrato(x,y):\n",
    "    prato = TEXTURE(texture_prato)(CUBOID([x,y,0.1]))\n",
    "    brecciolino = TEXTURE(texture_brecciolino)(T(2)(dim_prato_y/2.0-((dimensione_pannello_finestra*2.0-DimSpazioBianco*2.0)/2.0))(CUBOID([posizione_piano2_Y,dimensione_pannello_finestra*2.0-DimSpazioBianco*2.0,0.15])))\n",
    "    base = STRUCT([prato, brecciolino])\n",
    "    return base\n",
    "\n",
    "Prato = getPrato(dim_prato_x,dim_prato_y)\n",
    "\n",
    "def getCollinetta(altezza,lunghezza_totale, lunghezza_cima,spessore):\n",
    "    lato = (lunghezza_totale-lunghezza_cima)*1.0/2.0\n",
    "    \n",
    "    V1 = [[0,0],[lato,altezza],[lato+lunghezza_cima,altezza],[lunghezza_totale,0]]\n",
    "    FV = [[0,1],[1,2],[2,3],[3,0]]\n",
    "   \n",
    "    Collina = JOIN(STRUCT(MKPOLS((V1,FV))))\n",
    "    Collina = T(2)(-(lunghezza_totale/2.0))(R([1,2])(PI/2)(R([2,3])(PI/2)(MULTEXTRUDE(Collina)(spessore))))\n",
    "    \n",
    "    return TEXTURE(texture_prato)(Collina)\n",
    "\n",
    "Collinetta = T([1,2])([posizione_facciata_Y+spessore_facciata,dim_prato_y/2.0])(getCollinetta(2.5,40,14,posizione_piano2_X))\n",
    "\n",
    "PratoConCollina = TEXTURE(texture_prato)(STRUCT([Prato,Collinetta]))"
   ]
  },
  {
   "cell_type": "markdown",
   "metadata": {},
   "source": [
    "### Definizione del vetro\n",
    "- restituisce un CUBOID trasparente di dimensioni x, y, z;\n",
    "- utilizzato per i vetri delle finestre."
   ]
  },
  {
   "cell_type": "code",
   "execution_count": 7,
   "metadata": {},
   "outputs": [],
   "source": [
    "# Vetro\n",
    "\n",
    "def hex_material(color, light, trasparence):\n",
    "\n",
    "    def hex_to_rgb(value):\n",
    "        value = value.lstrip('#')\n",
    "        lv = len(value)\n",
    "        return map(lambda x: x/255., list(int(value[i:i + lv // 3], 16) for i in range(0, lv, lv // 3)))\n",
    "\n",
    "    params = hex_to_rgb(color) + [.1] + \\\n",
    "             hex_to_rgb(light) + [trasparence] +\\\n",
    "             hex_to_rgb(light) + [.1] +\\\n",
    "             hex_to_rgb(\"#000000\") + [.1] +\\\n",
    "             [100]\n",
    "\n",
    "    return MATERIAL(params)\n",
    "\n",
    "def getVetro(altezza,larghezza,spessore):\n",
    "    vetro = CUBOID([altezza,spessore,larghezza])\n",
    "    vetro = hex_material(\"#ffffff\", \"#ffffff\", .4)(vetro)\n",
    "    return vetro"
   ]
  },
  {
   "cell_type": "code",
   "execution_count": 8,
   "metadata": {},
   "outputs": [
    {
     "data": {
      "text/plain": [
       "<pyplasm.xgepy.Hpc; proxy of <Swig Object of type 'std::shared_ptr< Hpc > *' at 0x000000000D14C990> >"
      ]
     },
     "execution_count": 8,
     "metadata": {},
     "output_type": "execute_result"
    }
   ],
   "source": [
    "VIEW(getVetro(1,0.05,1))"
   ]
  },
  {
   "cell_type": "markdown",
   "metadata": {},
   "source": [
    "<table>\n",
    "    <tr><td>![vetro.png](imm/vetro.png))</td>\n",
    "    <td>![vetro.png](imm/vetro-2.png)</td></tr>\n",
    "</table>"
   ]
  },
  {
   "cell_type": "markdown",
   "metadata": {},
   "source": [
    "### Finestrella del piano 0\n",
    "- getFinestrella(x,y) restituisce un muro composto da y parti di dimensione x;\n",
    "- Ogni parte ha una propria finestra;\n",
    "- per la creazione della finesrtra è stato utilizzato il prodotto cartesiano per crare una parte di muro forata;\n",
    "- getVetro restituisce il vetro della finestra;\n",
    "- sono poi state definite altre decorazioni come le sbarre ecc.\n",
    "- getMattoniLaterali() restituisce una composizione di mattoni come quella della Villa."
   ]
  },
  {
   "cell_type": "code",
   "execution_count": 9,
   "metadata": {},
   "outputs": [],
   "source": [
    "# Finistrella del piano 0\n",
    "\n",
    "def getMattoniLaterali():\n",
    "    \n",
    "    MattoneFinestraPiccolo = CUBOID([0.5,0.2,0.3])\n",
    "    MattoneFinestraGrande = CUBOID([0.8,0.2,0.3])\n",
    "    getMattoniLaterali = STRUCT([MattoneFinestraPiccolo,\n",
    "                              T(3)(-0.35)(MattoneFinestraGrande),\n",
    "                              T(3)(-0.35*2)(MattoneFinestraPiccolo),\n",
    "                              T(3)(-0.35*3)(MattoneFinestraGrande),\n",
    "                              T(3)(-0.35*4)(MattoneFinestraPiccolo)\n",
    "                             ])\n",
    "    return TEXTURE(texture_pietraP0)(getMattoniLaterali)\n",
    "\n",
    "def getMattoniLaterali2():\n",
    "    \n",
    "    MattoneFinestraPiccolo = CUBOID([0.5,0.2,0.3])\n",
    "    MattoneFinestraGrande = CUBOID([0.8,0.2,0.3])\n",
    "    getMattoniLaterali = STRUCT([T(3)(0.35)(MattoneFinestraGrande),\n",
    "                              MattoneFinestraPiccolo,\n",
    "                              T(3)(-0.35)(MattoneFinestraGrande),\n",
    "                              T(3)(-0.35*2)(MattoneFinestraPiccolo),\n",
    "                              T(3)(-0.35*3)(MattoneFinestraGrande),\n",
    "                              T(3)(-0.35*4)(MattoneFinestraPiccolo),\n",
    "                              T(3)(-0.35*5)(MattoneFinestraGrande)\n",
    "                             ])\n",
    "    return getMattoniLaterali\n",
    "\n",
    "def getFinestrella(lunghezza_pannello_finestra_p0, numero_pannelli):\n",
    "\n",
    "    Finestrella1 = STRUCT([\n",
    "        INSR(PROD)([QUOTE([0,2,-2,(lunghezza_pannello_finestra_p0-2)/2.0]), QUOTE([0,spessore_muri]), QUOTE([3])]),\n",
    "        INSR(PROD)([QUOTE([-2,2]), QUOTE([0,spessore_muri]), QUOTE([0.6,-1.8,0.6])])\n",
    "        ])\n",
    "    \n",
    "    DimensioneSpazioBianco = ((lunghezza_pannello_finestra_p0-2)/2.0)-2\n",
    "    SpazioBianco = CUBOID([DimensioneSpazioBianco,spessore_muri,3])\n",
    "    \n",
    "    Finestrella = LEFT([Finestrella1,SpazioBianco])\n",
    "    \n",
    "    RinghieraFinestrella = T([1,2,3])([2,spessore_muri/2,0.5])(COMP([STRUCT, NN(10)])([COLOR(GRAY)(Cubo_Angoli_Smussati(0.04,2,1)), T(1)(0.2)]))\n",
    "\n",
    "    MattoniLaterali = getMattoniLaterali()\n",
    "\n",
    "    MattoneFinestraPiccolo = CUBOID([0.5,0.2,0.3])\n",
    "    MattoneFinestraGrande = CUBOID([0.8,0.2,0.3])\n",
    "   \n",
    "    MattoniFinestra = TEXTURE(texture_pietraP0)((T([1,2,3])([4,spessore_muri,2])(STRUCT([T([1,3])([0.05,0.05])(MattoniLaterali),\n",
    "                                                              T([1,3])([-2.05,-1.05])(R([1,3])(PI)(MattoniLaterali)),\n",
    "                                                              T([1,3])([-0.5,-0.35*5])(MattoneFinestraGrande),\n",
    "                                                              T([1,3])([-1.35,-0.35*5])(MattoneFinestraGrande),\n",
    "                                                              T([1,3])([-2.25,-0.35*5])(MattoneFinestraGrande),\n",
    "                                                              T([1,3])([-0.5,0.45])(MattoneFinestraGrande),\n",
    "                                                              T([1,3])([-1.35,0.45])(MattoneFinestraGrande),\n",
    "                                                              T([1,3])([-2.25,0.45])(MattoneFinestraGrande)\n",
    "                                                             ]))))\n",
    "    \n",
    "    FinestrellaCompleta = T(1)(((lunghezza_pannello_finestra_p0-2)/2.0)-2)(STRUCT([Finestrella, RinghieraFinestrella, MattoniFinestra]))\n",
    "    \n",
    "    DimSpazioBianco = ((lunghezza_pannello_finestra_p0-2)/2.0)-2\n",
    "\n",
    "    SpazioBiancop0 = CUBOID([DimSpazioBianco,spessore_muri,3])\n",
    "\n",
    "    ElementoMuro = FinestrellaCompleta\n",
    "\n",
    "    Muro = RIGHT([SpazioBiancop0,RIGHT([COMP([STRUCT, NN(numero_pannelli)])([ElementoMuro, T(1)(lunghezza_pannello_finestra_p0)]),SpazioBiancop0])])\n",
    "    \n",
    "    return Muro"
   ]
  },
  {
   "cell_type": "code",
   "execution_count": 10,
   "metadata": {},
   "outputs": [
    {
     "data": {
      "text/plain": [
       "<pyplasm.xgepy.Hpc; proxy of <Swig Object of type 'std::shared_ptr< Hpc > *' at 0x000000000D1547B0> >"
      ]
     },
     "execution_count": 10,
     "metadata": {},
     "output_type": "execute_result"
    }
   ],
   "source": [
    "VIEW(getFinestrella(6,1))"
   ]
  },
  {
   "cell_type": "markdown",
   "metadata": {},
   "source": [
    "<table>\n",
    "    <tr><td>![finestrella.png](imm/finestrella.png)</td>\n",
    "    <td>![finestrella.png](imm/finestrella-2.png)</td></tr>\n",
    "   \n",
    "</table>"
   ]
  },
  {
   "cell_type": "markdown",
   "metadata": {},
   "source": [
    "### Finestra del primo piano\n",
    "- concettualmente simile alla definizione della finestra precedente;\n",
    "- per creare la cornice decorativa intorno alle finestre è stato utilizzato MKPOLS."
   ]
  },
  {
   "cell_type": "code",
   "execution_count": 11,
   "metadata": {},
   "outputs": [],
   "source": [
    "# Finistra del piano 1\n",
    "\n",
    "def getFinestraPrimoPiano (lunghezza_pannello_finestra_p1, altezza_pannello_finestra_p1, numero_pannelli_p1):\n",
    "\n",
    "    Finestra1 = STRUCT([\n",
    "        INSR(PROD)([QUOTE([0,2,-2,(lunghezza_pannello_finestra_p1-2)/2.0]), QUOTE([0,spessore_muri]), QUOTE([6])]),\n",
    "        INSR(PROD)([QUOTE([-2,2]), QUOTE([0,spessore_muri]), QUOTE([0.9,-4.5,0.6])])\n",
    "        ])\n",
    "\n",
    "    DimSpazioBianco4 = ((lunghezza_pannello_finestra_p1-2)/2.0)-2\n",
    "    SpazioBianco4 = CUBOID([DimSpazioBianco4,spessore_muri,altezza_pannello_finestra_p1])\n",
    " \n",
    "    SpazioBianco2Sopra = CUBOID([lunghezza_pannello_finestra_p1,spessore_muri,((altezza_pannello_finestra_p1-6)*(2.0/3.0))])\n",
    "    SpazioBianco2Sotto = CUBOID([lunghezza_pannello_finestra_p1,spessore_muri,((altezza_pannello_finestra_p1-6)*(1.0/3.0))])\n",
    "\n",
    "    Finestra = LEFT([Finestra1,CUBOID([DimSpazioBianco4,spessore_muri,6])])\n",
    "\n",
    "    Vfinestra = [[-0.15,0],[-0.15,6-0.6*2],[2.15,6-0.6*2],[2.15,0]]\n",
    "    FVfinestra = [[0,1],[1,2],[2,3],[3,0]]\n",
    "\n",
    "    ContornoFinestra1 = STRUCT(MKPOLS((Vfinestra,FVfinestra)))\n",
    "    ContornoFinestraA = T([1,3,2])([2-0.05,0.6,0.5])(R([2,3])(PI/2)(MULTEXTRUDE(OFFSET([0.1,0.1])(ContornoFinestra1))(0.1)))\n",
    "    ContornoFinestraB = T([1,3,2])([2-0.1,0.6,0.4])(R([2,3])(PI/2)(MULTEXTRUDE(OFFSET([0.2,0.2])(ContornoFinestra1))(0.2)))\n",
    "    ContornoFinestraC = T([1,3,2])([2-0.15,0.6,0.3])(R([2,3])(PI/2)(MULTEXTRUDE(OFFSET([0.3,0.3])(ContornoFinestra1))(0.3)))\n",
    "\n",
    "    Mensola = TEXTURE(texture_finestre)(STRUCT([TOP([CUBOID([3,0.8,0.1]),CUBOID([3,0.5,0.1])])]))\n",
    "\n",
    "    ContornoFinestra = TEXTURE(texture_finestre)(T(2)(spessore_muri)(STRUCT([ContornoFinestraA,ContornoFinestraB,ContornoFinestraC])))\n",
    "\n",
    "    FinestraCompleta1 = T(1)(((lunghezza_pannello_finestra_p1-2)/2.0)-2)(STRUCT([Finestra,ContornoFinestra]))\n",
    "\n",
    "    Vetro1 = getVetro(2,4.8,0.05)\n",
    "    \n",
    "    larghezza_persiane = 0.15\n",
    "    Vlegno = [[0,0.3],[0,6-0.6*2-larghezza_persiane],[2-larghezza_persiane,6-0.6*2-larghezza_persiane],[2-larghezza_persiane,0.3],[(2-larghezza_persiane)/2.0,0.3], [(2-larghezza_persiane)/2.0,6-0.6*2-larghezza_persiane],[0,1.3],[2-larghezza_persiane,1.3],[0,3.5],[2-larghezza_persiane,3.5]]\n",
    "    FVlegno = [[0,1],[1,2],[2,3],[3,0],[4,5],[6,7],[8,9]]\n",
    "\n",
    "    Legno1 = STRUCT(MKPOLS((Vlegno,FVlegno)))\n",
    "    Legno = TEXTURE(texture_persiane)(T([1,2,3])([larghezza_persiane,0.1,larghezza_persiane])((R([2,3])(PI/2)(MULTEXTRUDE(OFFSET([-larghezza_persiane,-larghezza_persiane])(Legno1))(0.2)))))\n",
    "    Vetro = STRUCT([Vetro1,Legno])\n",
    "    \n",
    "    #VIEW(Vetro)\n",
    "\n",
    "    FinestraCompleta2 = STRUCT([FinestraCompleta1, T([1,2,3])([(lunghezza_pannello_finestra_p1-2)/2.0,spessore_muri,0.6])(Vetro), T([1,2,3])([((lunghezza_pannello_finestra_p1-2)/2.0)-0.5,spessore_muri-0.2,0.6-0.2])(Mensola), T([1,2,3])([((lunghezza_pannello_finestra_p1-2)/2.0)+2.5,spessore_muri-0.2,0.6*2+4.8])(R([1,3])(PI)(Mensola))])\n",
    "\n",
    "    FinestraCompleta = T(3)(((altezza_pannello_finestra_p1-6)*(1/3.0)))(STRUCT([FinestraCompleta2, T(3)(6)(SpazioBianco2Sopra),T(3)(-((altezza_pannello_finestra_p1-6)*(1/3.0)))(SpazioBianco2Sotto)]))\n",
    "    \n",
    "    ElementoMuroPiano1 = FinestraCompleta\n",
    "    \n",
    "    MuroPrimoPiano = RIGHT([SpazioBianco4,RIGHT([COMP([STRUCT, NN(numero_pannelli_p1)])([ElementoMuroPiano1, T(1)(lunghezza_pannello_finestra_p1)]),SpazioBianco4])])\n",
    "\n",
    "    return MuroPrimoPiano\n"
   ]
  },
  {
   "cell_type": "code",
   "execution_count": 12,
   "metadata": {},
   "outputs": [
    {
     "data": {
      "text/plain": [
       "<pyplasm.xgepy.Hpc; proxy of <Swig Object of type 'std::shared_ptr< Hpc > *' at 0x000000000D154C00> >"
      ]
     },
     "execution_count": 12,
     "metadata": {},
     "output_type": "execute_result"
    }
   ],
   "source": [
    "VIEW(getFinestraPrimoPiano(6,8,1))"
   ]
  },
  {
   "cell_type": "markdown",
   "metadata": {},
   "source": [
    "<table>\n",
    "    <tr><td>![finestraP1.png](imm/finestraP11.png)</td>\n",
    "    <td>![finestraP1.png](imm/finestraP1-2.png)</td></tr>\n",
    "</table>"
   ]
  },
  {
   "cell_type": "markdown",
   "metadata": {},
   "source": [
    "### Porta del primo piano (retro)\n",
    "- concettualmente simile alla definizione della finestrella del piano 0."
   ]
  },
  {
   "cell_type": "code",
   "execution_count": 13,
   "metadata": {},
   "outputs": [],
   "source": [
    "# Finestra e porta retro\n",
    "\n",
    "def getPorta (lunghezza_pannello_porta_p1, altezza_pannello_porta_p1):\n",
    "   \n",
    "    Porta1 = STRUCT([\n",
    "        INSR(PROD)([QUOTE([0,2,-2,(lunghezza_pannello_porta_p1-2)/2.0]), QUOTE([0,spessore_muri]), QUOTE([altezza_pannello_porta_p1])]),\n",
    "        INSR(PROD)([QUOTE([-2,2]), QUOTE([0,spessore_muri]), QUOTE([-4.8,altezza_pannello_porta_p1-4.8])])\n",
    "        ])\n",
    "    \n",
    "    DimSpazioBianco = ((lunghezza_pannello_porta_p1-2)/2.0)-2\n",
    "    SpazioBianco = CUBOID([DimSpazioBianco,spessore_muri,altezza_pannello_porta_p1])\n",
    "    \n",
    "    Porta = LEFT([Porta1,SpazioBianco])\n",
    "\n",
    "    Vporta = [[0,0],[0,6-0.6*2],[2,6-0.6*2],[2,0]]\n",
    "    FVporta = [[0,1],[1,2],[2,3]]\n",
    "\n",
    "    ContornoPorta1 = STRUCT(MKPOLS((Vporta,FVporta)))\n",
    "    ContornoPortaA = T([1,2])([2-0.05,0.5])(R([2,3])(PI/2)(MULTEXTRUDE(OFFSET([0.1,0.1])(ContornoPorta1))(0.1)))\n",
    "    ContornoPortaB = T([1,2])([2-0.1,0.4])(R([2,3])(PI/2)(MULTEXTRUDE(OFFSET([0.2,0.2])(ContornoPorta1))(0.2)))\n",
    "    ContornoPortaC = T([1,2])([2-0.15,0.3])(R([2,3])(PI/2)(MULTEXTRUDE(OFFSET([0.3,0.3])(ContornoPorta1))(0.3)))\n",
    "\n",
    "    Mensola = TEXTURE(texture_finestre)(STRUCT([TOP([CUBOID([3,0.8,0.1]),CUBOID([3,0.5,0.1])])]))\n",
    "\n",
    "    ContornoPorta = TEXTURE(texture_finestre)(T(2)(spessore_muri)(STRUCT([ContornoPortaA,ContornoPortaB,ContornoPortaC])))\n",
    "\n",
    "    PortaCompleta1 = T(1)(((lunghezza_pannello_porta_p1-2)/2.0)-2)(STRUCT([Porta,ContornoPorta,T([1,2])([6,spessore_muri])(R([1,2])(-PI)(ContornoPorta))]))\n",
    "\n",
    "    PortaCompleta = STRUCT([PortaCompleta1, T([1,2,3])([((lunghezza_pannello_porta_p1-2)/2.0)+2.5,spessore_muri-0.2,0.6+4.8])(R([1,3])(PI)(Mensola))])\n",
    "\n",
    "    return PortaCompleta"
   ]
  },
  {
   "cell_type": "code",
   "execution_count": 14,
   "metadata": {},
   "outputs": [
    {
     "data": {
      "text/plain": [
       "<pyplasm.xgepy.Hpc; proxy of <Swig Object of type 'std::shared_ptr< Hpc > *' at 0x000000000D1631B0> >"
      ]
     },
     "execution_count": 14,
     "metadata": {},
     "output_type": "execute_result"
    }
   ],
   "source": [
    "VIEW(getPorta(6,8))"
   ]
  },
  {
   "cell_type": "markdown",
   "metadata": {},
   "source": [
    "<table>\n",
    "    <tr><td>![porta.png](imm/porta.png)</td>\n",
    "    <td>![porta.png](imm/porta-2.png)</td></tr>\n",
    "</table>"
   ]
  },
  {
   "cell_type": "markdown",
   "metadata": {},
   "source": [
    "### Finestra del secondo piano\n",
    "- concettualmente simile alla definizione della finestra precedente."
   ]
  },
  {
   "cell_type": "code",
   "execution_count": 15,
   "metadata": {},
   "outputs": [],
   "source": [
    "# Finistra del piano 2\n",
    "\n",
    "def getFinestraSecondoPiano (lunghezza_pannello_finestra_p1, altezza_pannello_finestra_p1, numero_pannelli_p1):\n",
    "\n",
    "    Finestra1 = STRUCT([\n",
    "        INSR(PROD)([QUOTE([0,2,-2,(lunghezza_pannello_finestra_p1-2)/2.0]), QUOTE([0,spessore_muri]), QUOTE([3])]),\n",
    "        INSR(PROD)([QUOTE([-2,2]), QUOTE([0,spessore_muri]), QUOTE([0.6,-1.8,0.6])])\n",
    "        ])\n",
    "\n",
    "    DimSpazioBianco4 = ((lunghezza_pannello_finestra_p1-2)/2.0)-2\n",
    "    SpazioBianco4 = CUBOID([DimSpazioBianco4,spessore_muri,altezza_pannello_finestra_p1])\n",
    "\n",
    "    SpazioBianco2Sopra = CUBOID([lunghezza_pannello_finestra_p1,spessore_muri,((altezza_pannello_finestra_p1-3)*(2.0/3.0))])\n",
    "    SpazioBianco2Sotto = CUBOID([lunghezza_pannello_finestra_p1,spessore_muri,((altezza_pannello_finestra_p1-3)*(1.0/3.0))])\n",
    "\n",
    "    Finestra = LEFT([Finestra1,CUBOID([DimSpazioBianco4,spessore_muri,3])])\n",
    "\n",
    "    Vfinestra = [[0,0],[0,3-0.6*2],[2,3-0.6*2],[2,0]]\n",
    "    FVfinestra = [[0,1],[1,2],[2,3],[3,0]]\n",
    "\n",
    "    ContornoFinestra1 = STRUCT(MKPOLS((Vfinestra,FVfinestra)))\n",
    "    #ContornoFinestraA = T([1,3,2])([2-0.05,0.6-0.05,0.3])(R([2,3])(PI/2)(MULTEXTRUDE(OFFSET([0.1,0.1])(ContornoFinestra1))(0.1)))\n",
    "    #ContornoFinestraB = T([1,3,2])([2-0.1,0.6-0.1,0.2])(R([2,3])(PI/2)(MULTEXTRUDE(OFFSET([0.2,0.2])(ContornoFinestra1))(0.1)))\n",
    "    ContornoFinestraC = T([1,3,2])([2-0.2,0.6-0.2,0.1])(R([2,3])(PI/2)(MULTEXTRUDE(OFFSET([0.4,0.4])(ContornoFinestra1))(0.1)))\n",
    "\n",
    "    #ContornoFinestra = T(2)(spessore_muri)(STRUCT([ContornoFinestraA,ContornoFinestraB,ContornoFinestraC]))\n",
    "    ContornoFinestra = TEXTURE(texture_finestre)(T(2)(spessore_muri)(STRUCT([ContornoFinestraC])))\n",
    "\n",
    "    FinestraCompleta1 = T(1)(((lunghezza_pannello_finestra_p1-2)/2.0)-2)(STRUCT([Finestra,ContornoFinestra]))\n",
    "\n",
    "    Vetro = getVetro(2,1.8,0.05)\n",
    "\n",
    "    FinestraCompleta2 = STRUCT([FinestraCompleta1, T([1,2,3])([(lunghezza_pannello_finestra_p1-2)/2.0,spessore_muri,0.6])(Vetro)])\n",
    "\n",
    "    FinestraCompleta = T(3)(((altezza_pannello_finestra_p1-3)*(1/3.0)))(STRUCT([FinestraCompleta2, T(3)(3)(SpazioBianco2Sopra),T(3)(-((altezza_pannello_finestra_p1-3)*(1/3.0)))(SpazioBianco2Sotto)]))\n",
    "    \n",
    "    ElementoMuroPiano1 = FinestraCompleta\n",
    "    \n",
    "    MuroPrimoPiano = RIGHT([SpazioBianco4,RIGHT([COMP([STRUCT, NN(numero_pannelli_p1)])([ElementoMuroPiano1, T(1)(lunghezza_pannello_finestra_p1)]),SpazioBianco4])])\n",
    "\n",
    "    return MuroPrimoPiano"
   ]
  },
  {
   "cell_type": "code",
   "execution_count": 16,
   "metadata": {},
   "outputs": [
    {
     "data": {
      "text/plain": [
       "<pyplasm.xgepy.Hpc; proxy of <Swig Object of type 'std::shared_ptr< Hpc > *' at 0x000000000D143570> >"
      ]
     },
     "execution_count": 16,
     "metadata": {},
     "output_type": "execute_result"
    }
   ],
   "source": [
    "VIEW(getFinestraSecondoPiano(6,4,1))"
   ]
  },
  {
   "cell_type": "markdown",
   "metadata": {},
   "source": [
    "<table>\n",
    "    <tr><td>![finestraP2.png](imm/finestraP21.png)</td>\n",
    "    <td>![finestraP2.png](imm/finestraP21-2.png)</td></tr>\n",
    "</table>"
   ]
  },
  {
   "cell_type": "markdown",
   "metadata": {},
   "source": [
    "### Finestra a forma di arco\n",
    "- getFinestraArco(x,y,z) restituisce un blocco di muro contenente una finestra a forma di arco di lunghezz x, spessore y e altezza z;\n",
    "- per generare questa finestra è stata utilizzata la funzione DIFFERENCE;\n",
    "- per evitare la creazione di archi non completi è stato inserito un if che verifica che l'altezza del muro sia almeno maggiore o uguale al raggio della finestra.\n"
   ]
  },
  {
   "cell_type": "code",
   "execution_count": 17,
   "metadata": {},
   "outputs": [],
   "source": [
    "# Finestra del secondo piano a forma di arco\n",
    "\n",
    "def getFinestraArco(lunghezza,spessore,altezza):\n",
    "        \n",
    "    # questo if impedisce che venga creato una finestra non completa nel caso in cui l'altezza passata come\n",
    "    # parametro fosse minore del raggio dell'arco\n",
    "    if (altezza<lunghezza*0.70/2.0):\n",
    "        altezza = lunghezza/2.0*0.9\n",
    "    \n",
    "    Parete = CUBOID([spessore,lunghezza,altezza])\n",
    "    \n",
    "    diametro_arco = lunghezza*0.70\n",
    "    Arco = T([1,2,3])([spessore*1.5,lunghezza/2.0,altezza*0.05])(R([1,3])(PI/2)(JOIN([T(2)(-diametro_arco*0.5)(getMapSemiarco(diametro_arco,0)),T(2)(-diametro_arco*0.5)(getMapSemiarco(diametro_arco,spessore*2))])))\n",
    "    \n",
    "    Finestra1 = DIFFERENCE([Parete,Arco])\n",
    "    \n",
    "    Pilastro = CUBOID([spessore,diametro_arco/8.0,altezza])\n",
    "    \n",
    "    Vetro = T(1)(spessore/2.0)(getVetro(0.05,altezza,lunghezza))\n",
    "    \n",
    "    Finestra = STRUCT([Finestra1,T(2)(lunghezza*0.3)(Pilastro),T(2)(lunghezza*0.7-diametro_arco/8.0)(Pilastro),Vetro])\n",
    "    \n",
    "    return Finestra"
   ]
  },
  {
   "cell_type": "code",
   "execution_count": 18,
   "metadata": {},
   "outputs": [
    {
     "data": {
      "text/plain": [
       "<pyplasm.xgepy.Hpc; proxy of <Swig Object of type 'std::shared_ptr< Hpc > *' at 0x000000000D143BD0> >"
      ]
     },
     "execution_count": 18,
     "metadata": {},
     "output_type": "execute_result"
    }
   ],
   "source": [
    "VIEW(getFinestraArco(8,0.3,4))"
   ]
  },
  {
   "cell_type": "markdown",
   "metadata": {},
   "source": [
    "<table>\n",
    "    <tr><td>![finestra_arco.png](imm/finestra_arco.png)</td>\n",
    "    <td>![finestra_arco.png](imm/finestra_arco-2.png)</td></tr>\n",
    "</table>"
   ]
  },
  {
   "cell_type": "markdown",
   "metadata": {},
   "source": [
    "### Angolari dell'edificio\n",
    "- getAngolari(latoA,latoB,a) creare degli angolari posizionati sugli angoli di un rettangolo di dimensioni latoA x latoB e altezza a come quelli in figura."
   ]
  },
  {
   "cell_type": "code",
   "execution_count": 19,
   "metadata": {},
   "outputs": [],
   "source": [
    "# Ritorna 4 angolari che chiudono un rettangolo di dimensione latoAXlatoB\n",
    "\n",
    "def getAngolari(latoA,latoB,altezza):\n",
    "    \n",
    "    AngolareMattoni = UNION([(STRUCT([T([1,2,3])([-0.2,-0.2,altezza])(getMattoniLaterali2()),T(2)(-0.2)(R([1,2])(PI/2)(T([1,2,3])([0,0,altezza])(getMattoniLaterali2())))]))])\n",
    "    Angolari4 = STRUCT([AngolareMattoni,\n",
    "                    T([1,2])([latoA+DimSpazioBianco*2,0])(R([1,2])(PI/2)(AngolareMattoni)),\n",
    "                    T([1,2])([0,latoB+DimSpazioBianco*2])(R([1,2])(-PI/2)(AngolareMattoni)),\n",
    "                    T([2,1])([latoB+DimSpazioBianco*2,latoA+DimSpazioBianco*2])(R([1,2])(PI)(AngolareMattoni))])\n",
    "    return TEXTURE(texture_pietraP0)(Angolari4)\n"
   ]
  },
  {
   "cell_type": "code",
   "execution_count": 20,
   "metadata": {},
   "outputs": [
    {
     "data": {
      "text/plain": [
       "<pyplasm.xgepy.Hpc; proxy of <Swig Object of type 'std::shared_ptr< Hpc > *' at 0x000000000D143750> >"
      ]
     },
     "execution_count": 20,
     "metadata": {},
     "output_type": "execute_result"
    }
   ],
   "source": [
    "VIEW(getAngolari(1,2,2))"
   ]
  },
  {
   "cell_type": "markdown",
   "metadata": {},
   "source": [
    "<table>\n",
    "    <tr><td>![angolari.png](imm/angolari.png)</td>\n",
    "    <td>![angolari.png](imm/angolari-2.png)</td></tr>\n",
    "</table>"
   ]
  },
  {
   "cell_type": "markdown",
   "metadata": {},
   "source": [
    "### Piano 0\n",
    "- sono state utilizzate le funzioni precedentemente definite per costruire il piano 0 della Villa;\n",
    "- vengono creati dei muri chiamando le opportune funzioni, ruotati e traslati dove necessario, e combinati per creare il piano 0 dell'edificio;\n",
    "- tutte le traslazioni sono parametriche;\n",
    "- pavimento e soffitto sono stati creati in modo indipendente per permettere di utilizzare texture differenti per i due elementi;\n",
    "- sono stati realizzati dei fori su pavimento e soffitto per creare dei varchi per le scale."
   ]
  },
  {
   "cell_type": "code",
   "execution_count": 21,
   "metadata": {},
   "outputs": [],
   "source": [
    "# Piano 0\n",
    "\n",
    "MuroLaterale = getFinestrella(dimensione_pannello_finestra,numero_finestre_laterali)\n",
    "\n",
    "DueMuriLaterali = STRUCT([T([2,3])([spessore_muri,3])(R([2,3])(PI)(MuroLaterale)), T(2)(dimensione_lato_frontale_edificio+2*DimSpazioBianco-spessore_muri)(MuroLaterale)])\n",
    "\n",
    "#MuroPosteriore = T(1)(spessore_muri)(R([1,2])(PI/2)(getFinestrella(dimensione_pannello_finestra,numero_finestre_posteriori)))\n",
    "ElementoMuroPosteriore = T(1)(spessore_muri)(R([1,2])(PI/2)(getFinestrella(dimensione_pannello_finestra,2)))\n",
    "MuroPosteriore = STRUCT([ElementoMuroPosteriore, T(2)(dimensione_pannello_finestra*4.0)(ElementoMuroPosteriore)])\n",
    "\n",
    "ElementoMuroFrontale = getFinestrella(dimensione_pannello_finestra,1)\n",
    "\n",
    "MuroFrontale = T([1,2,3])([dimensione_laterale_edificio*2.0+DimSpazioBianco*2-spessore_muri,-DimSpazioBianco*2-(-dimensione_pannello_finestra+8),3])(R([1,3])(PI)(T(1)(dimensione_laterale_edificio)(T(2)(2)(COMP([STRUCT, NN(2)])([R([1,2])(PI/2)(ElementoMuroFrontale), T(2)(dimensione_lato_frontale_edificio-(dimensione_lato_frontale_edificio*1.0/numero_finestre_posteriori))])))))\n",
    "\n",
    "PerimetroPiano0 = STRUCT([DueMuriLaterali, MuroPosteriore, MuroFrontale])\n",
    "\n",
    "# Base Piano 0\n",
    "PavimentoP0 = CUBOID([dimensione_laterale_edificio+DimSpazioBianco*2.0+0.1,dimensione_lato_frontale_edificio+DimSpazioBianco*2.0+0.1,spessore_muri])\n",
    "\n",
    "# Tetto Piano 0\n",
    "SoffittoP0 = TEXTURE(texture_pietra)(TOP([T([1,2,3])([-0.25,-0.25,3])((CUBOID([dimensione_laterale_edificio+0.5+DimSpazioBianco*2.0,dimensione_lato_frontale_edificio+0.5+DimSpazioBianco*2.0,0.3]))), T([1,2])([-0.1,-0.1])(CUBOID([dimensione_laterale_edificio+0.2+DimSpazioBianco*2.0,dimensione_lato_frontale_edificio+0.2+DimSpazioBianco*2.0,spessore_muri*2]))]))\n",
    "\n",
    "# Foro per scale tra piano 0 e primo piano\n",
    "ForoScalePO = COLOR(RED)(T([1,2,3])([dimensione_pannello_finestra,dimensione_pannello_finestra*2.0+DimSpazioBianco-4,3])(CUBOID([dimensione_pannello_finestra+DimSpazioBianco*2.0,4,0.3+spessore_muri*2])))\n",
    "SoffittoP0 = DIFFERENCE([SoffittoP0,ForoScalePO])\n",
    "SoffittoP0 = TEXTURE(texture_pietra)(DIFFERENCE([SoffittoP0,T(2)((dimensione_lato_frontale_edificio+DimSpazioBianco*2.0)-(dimensione_pannello_finestra*4.0-DimSpazioBianco*2.0-spessore_muri))(ForoScalePO)]))\n",
    "\n",
    "# Muro davanti le scale - piano 0\n",
    "MuroDavantiScale0 = T([1,2])([dimensione_laterale_edificio+DimSpazioBianco*2.0-0.2,dimensione_lato_frontale_edificio*1.0/numero_finestre_posteriori])((TEXTURE(texture_pietraP0)(CUBOID([0.2,dimensione_lato_frontale_edificio-2*dimensione_pannello_finestra,3]))))\n",
    "\n",
    "Angolari4 = getAngolari(dimensione_laterale_edificio,dimensione_lato_frontale_edificio,2)\n",
    "\n",
    "Piano01 = STRUCT([PerimetroPiano0, MuroDavantiScale0, Angolari4])\n",
    "\n",
    "Piano0 = TOP([PavimentoP0,TOP([Piano01,SoffittoP0])])"
   ]
  },
  {
   "cell_type": "code",
   "execution_count": 22,
   "metadata": {},
   "outputs": [
    {
     "data": {
      "text/plain": [
       "<pyplasm.xgepy.Hpc; proxy of <Swig Object of type 'std::shared_ptr< Hpc > *' at 0x000000000D15F6F0> >"
      ]
     },
     "execution_count": 22,
     "metadata": {},
     "output_type": "execute_result"
    }
   ],
   "source": [
    "VIEW(Piano0)"
   ]
  },
  {
   "cell_type": "code",
   "execution_count": 33,
   "metadata": {},
   "outputs": [
    {
     "data": {
      "text/plain": [
       "<pyplasm.xgepy.Hpc; proxy of <Swig Object of type 'std::shared_ptr< Hpc > *' at 0x000000000D1F5C00> >"
      ]
     },
     "execution_count": 33,
     "metadata": {},
     "output_type": "execute_result"
    }
   ],
   "source": [
    "VIEW(STRUCT([TOP([Prato,Piano0])]))"
   ]
  },
  {
   "cell_type": "markdown",
   "metadata": {},
   "source": [
    "<table>\n",
    "    <tr><td>![P0.png](imm/P0-3.png)</td>\n",
    "    <td>![P0.png](imm/P0-4.png)</td></tr>\n",
    "    <tr><td>![P0.png](imm/P0.png)</td>\n",
    "    <td>![P0.png](imm/P0-2.png)</td></tr>\n",
    "</table>"
   ]
  },
  {
   "cell_type": "markdown",
   "metadata": {},
   "source": [
    "### Piano 1\n",
    "- sono state utilizzate le funzioni precedentemente definite per costruire il piano 0 della Villa;\n",
    "- vengono creati dei muri chiamando le opportune funzioni, ruotati e traslati dove necessario, e combinati per creare il piano 0 dell'edificio;\n",
    "- tutte le traslazioni sono parametriche;\n",
    "- pavimento e soffitto sono stati creati in modo indipendente per permettere di utilizzare texture differenti per i due elementi;\n",
    "- sono stati realizzati dei fori su pavimento e soffitto per creare dei varchi per le scale."
   ]
  },
  {
   "cell_type": "code",
   "execution_count": 24,
   "metadata": {},
   "outputs": [],
   "source": [
    "# Piano 1\n",
    "\n",
    "SpazioBianco4 = CUBOID([DimSpazioBianco,spessore_muri,altezza_primo_piano])\n",
    "\n",
    "MuroLateraleP1 = getFinestraPrimoPiano(dimensione_pannello_finestra,altezza_primo_piano,numero_finestre_laterali)\n",
    "\n",
    "DueMuriLateraliP1 = STRUCT([T([2,1])([spessore_muri,dimensione_laterale_edificio+2.0*DimSpazioBianco])(R([1,2])(PI)(MuroLateraleP1)), T([3,2])([0,dimensione_lato_frontale_edificio+DimSpazioBianco*2.0-spessore_muri])(MuroLateraleP1)])\n",
    "\n",
    "#MuroPosterioreP1 = T(1)(spessore_muri)(R([1,2])(-3*PI/2)(getFinestraPrimoPiano(dimensione_pannello_finestra,altezza_primo_piano,numero_finestre_posteriori)))\n",
    "ElementoMuroPosterioreP1 = T(1)(spessore_muri)(R([1,2])(-3*PI/2)(getFinestraPrimoPiano(dimensione_pannello_finestra,altezza_primo_piano,2)))\n",
    "MuroPosterioreP1 = STRUCT([ElementoMuroPosterioreP1, T(2)(dimensione_pannello_finestra*4.0)(ElementoMuroPosterioreP1)])\n",
    "\n",
    "ElementoMuroP1 = getFinestraPrimoPiano(dimensione_pannello_finestra,altezza_primo_piano,1)\n",
    "MuroFrontaleP1 = T([1,2])([dimensione_laterale_edificio+2.0*DimSpazioBianco-spessore_muri,dimensione_pannello_finestra+2.0*DimSpazioBianco])(COMP([STRUCT, NN(2)])([R([1,2])(-PI/2)(ElementoMuroP1), T(2)(dimensione_lato_frontale_edificio-dimensione_pannello_finestra)]))\n",
    "\n",
    "SoffittoP1 = CUBOID([dimensione_laterale_edificio+DimSpazioBianco*2,dimensione_lato_frontale_edificio+DimSpazioBianco*2.0,spessore_muri])\n",
    "ForoPerSoffitto = COLOR(RED)(T([1,2])([spessore_muri,dimensione_pannello_finestra*2.0+DimSpazioBianco])(CUBOID([dimensione_laterale_edificio-dimensione_pannello_finestra*2.0,dimensione_lato_frontale_edificio-dimensione_pannello_finestra*4.0,spessore_muri])))\n",
    "SoffittoP1 = DIFFERENCE([SoffittoP1,ForoPerSoffitto])\n",
    "\n",
    "# Foro per scale tra piano 0 e primo piano\n",
    "ForoScaleP1 = COLOR(RED)(T([1,2])([dimensione_pannello_finestra,dimensione_pannello_finestra*2.0+DimSpazioBianco-4])(CUBOID([dimensione_pannello_finestra+DimSpazioBianco*2.0,4,0.3+spessore_muri*2])))\n",
    "PavimentoP1 = CUBOID([dimensione_laterale_edificio+DimSpazioBianco*2,dimensione_lato_frontale_edificio+DimSpazioBianco*2.0,0.1])\n",
    "PavimentoP1 = DIFFERENCE([PavimentoP1,ForoScaleP1])\n",
    "PavimentoP1 = TEXTURE(texture_pavimentoP1)(DIFFERENCE([PavimentoP1,T(2)((dimensione_lato_frontale_edificio+DimSpazioBianco*2.0)-(dimensione_pannello_finestra*4.0-DimSpazioBianco*2.0-spessore_muri))(ForoScaleP1)]))\n",
    "\n",
    "\n",
    "Piano11 = STRUCT([DueMuriLateraliP1, MuroPosterioreP1, MuroFrontaleP1])\n",
    "\n",
    "Finestra = getFinestraPrimoPiano(6,altezza_primo_piano,1)\n",
    "Porta = getPorta(6,altezza_primo_piano)\n",
    "Retro = R([1,2])(-3*PI/2)(STRUCT([Finestra,T(1)(4)(Porta),T(1)(8)(Finestra)]))\n",
    "\n",
    "Piano1 = STRUCT([TOP([PavimentoP1,TOP([Piano11,SoffittoP1])]),T([1,2,3])([spessore_muri,(dimensione_pannello_finestra+DimSpazioBianco)*2.0,0.1])(Retro)])"
   ]
  },
  {
   "cell_type": "code",
   "execution_count": 25,
   "metadata": {},
   "outputs": [
    {
     "data": {
      "text/plain": [
       "<pyplasm.xgepy.Hpc; proxy of <Swig Object of type 'std::shared_ptr< Hpc > *' at 0x000000000D15FE70> >"
      ]
     },
     "execution_count": 25,
     "metadata": {},
     "output_type": "execute_result"
    }
   ],
   "source": [
    "VIEW(Piano1)"
   ]
  },
  {
   "cell_type": "code",
   "execution_count": 34,
   "metadata": {},
   "outputs": [
    {
     "data": {
      "text/plain": [
       "<pyplasm.xgepy.Hpc; proxy of <Swig Object of type 'std::shared_ptr< Hpc > *' at 0x000000000D1F5BD0> >"
      ]
     },
     "execution_count": 34,
     "metadata": {},
     "output_type": "execute_result"
    }
   ],
   "source": [
    "VIEW(STRUCT([TOP([TOP([Prato,Piano0]),Piano1])]))"
   ]
  },
  {
   "cell_type": "markdown",
   "metadata": {},
   "source": [
    "<table>\n",
    "    <tr><td>![P1.png](imm/P1a.png)</td>\n",
    "    <td>![P1.png](imm/P1-2a.png)</td></tr>\n",
    "    <tr><td>![P1.png](imm/P1-3a.png)</td>\n",
    "    <td>![P1.png](imm/P1-4a.png)</td></tr>\n",
    "</table>"
   ]
  },
  {
   "cell_type": "markdown",
   "metadata": {},
   "source": [
    "### Piano 2\n",
    "- sono state utilizzate le funzioni precedentemente definite per costruire il piano 0 della Villa;\n",
    "- vengono creati dei muri chiamando le opportune funzioni, ruotati e traslati dove necessario, e combinati per creare il piano 0 dell'edificio;\n",
    "- tutte le traslazioni sono parametriche;\n",
    "- per quanto riguarda l'altezza del secondo piano ho deciso che la parte più alta del piano avesse un'altezza pari al 60% dell'altezza del primo piano e la parte più bassa alta il 40% dell'altezza del primo piano, cercando di ottenere un risultato più possibile simile alla Villa originale;\n",
    "- pavimento e soffitto sono stati creati in modo indipendente per permettere di utilizzare texture differenti per i due elementi;\n",
    "- sono stati realizzati dei fori su pavimento e soffitto per creare dei varchi per le scale."
   ]
  },
  {
   "cell_type": "code",
   "execution_count": 27,
   "metadata": {},
   "outputs": [],
   "source": [
    "# Piano 2\n",
    "\n",
    "DimSpazioBianco5 = ((dimensione_pannello_finestra-2)/2.0)-2\n",
    "SpazioBianco5 = CUBOID([DimSpazioBianco,spessore_muri,altezza_primo_piano])\n",
    "\n",
    "MuroLateraleP2 = getFinestraSecondoPiano(dimensione_pannello_finestra,altezza_primo_piano*0.4,numero_finestre_laterali-1)\n",
    "\n",
    "DueMuriLateraliP2 = STRUCT([T([2,1])([spessore_muri,(dimensione_laterale_edificio+2.0*DimSpazioBianco5)-dimensione_pannello_finestra])(R([1,2])(PI)(MuroLateraleP2)),\n",
    "                            T([3,2])([0,dimensione_lato_frontale_edificio+DimSpazioBianco5*2.0-spessore_muri])(MuroLateraleP2)])\n",
    "\n",
    "#MuroPosterioreP2 = T(1)(spessore_muri)(R([1,2])(-3*PI/2)(getFinestraSecondoPiano(dimensione_pannello_finestra,altezza_primo_piano*0.4,numero_finestre_posteriori)))\n",
    "ElementoMuroPosterioreP2 = T(1)(spessore_muri)(R([1,2])(-3*PI/2)(getFinestraSecondoPiano(dimensione_pannello_finestra,altezza_primo_piano*0.4,2)))\n",
    "MuroPosterioreP2 = STRUCT([ElementoMuroPosterioreP2, T(2)(dimensione_pannello_finestra*4.0)(ElementoMuroPosterioreP2)])\n",
    "\n",
    "ElementoMuroP2 = getFinestraSecondoPiano(dimensione_pannello_finestra,altezza_primo_piano,1)\n",
    "ElementoMuroP1 = getFinestraPrimoPiano(dimensione_pannello_finestra,altezza_primo_piano*0.6,1)\n",
    "\n",
    "Tramezzo = T([2,1])([dimensione_pannello_finestra+DimSpazioBianco5*2.0-spessore_muri,dimensione_laterale_edificio-dimensione_pannello_finestra])(CUBOID([dimensione_pannello_finestra+DimSpazioBianco5*2,spessore_muri,altezza_primo_piano*0.6+spessore_muri]))\n",
    "DueTramezzi = STRUCT([Tramezzo,T(2)(dimensione_laterale_edificio-DimSpazioBianco5*2.0+spessore_muri)(Tramezzo)])\n",
    "\n",
    "MuroFrontaleP21 = T([1,2])([dimensione_laterale_edificio+2.0*DimSpazioBianco5-spessore_muri,dimensione_pannello_finestra+2.0*DimSpazioBianco5])(COMP([STRUCT, NN(2)])([R([1,2])(-PI/2)(ElementoMuroP1), T(2)(dimensione_lato_frontale_edificio-dimensione_pannello_finestra)]))\n",
    "\n",
    "MuroFrontaleP2 = STRUCT([MuroFrontaleP21,\n",
    "                         T([1,2])([dimensione_laterale_edificio-dimensione_pannello_finestra,dimensione_lato_frontale_edificio+DimSpazioBianco5*2.0-spessore_muri])(ElementoMuroP1),\n",
    "                         T([1,2])([dimensione_laterale_edificio+dimensione_pannello_finestra-DimSpazioBianco5*6,spessore_muri])(R([1,2])(PI)(ElementoMuroP1))])\n",
    "\n",
    "Arco = getFinestraArco(dimensione_lato_frontale_edificio-dimensione_pannello_finestra*4.0-DimSpazioBianco5*2.0,spessore_muri,altezza_primo_piano*0.4)\n",
    "FinestraArco = T(2)((dimensione_pannello_finestra+DimSpazioBianco)*2.0)(Arco)\n",
    "\n",
    "PavimentoP2 = CUBOID([dimensione_laterale_edificio+DimSpazioBianco*2,dimensione_lato_frontale_edificio+DimSpazioBianco*2.0,0.1])\n",
    "ForoPerPavimento = COLOR(RED)(T([1,2])([spessore_muri,dimensione_pannello_finestra*2.0+DimSpazioBianco])(CUBOID([dimensione_laterale_edificio-dimensione_pannello_finestra*2.0,dimensione_lato_frontale_edificio-dimensione_pannello_finestra*4.0,spessore_muri])))\n",
    "PavimentoP2 = TEXTURE(texture_pavimentoP2)(DIFFERENCE([PavimentoP2,ForoPerPavimento]))\n",
    "\n",
    "SoffittoP2_1 = T(3)(altezza_primo_piano*0.4)(CUBOID([dimensione_laterale_edificio-dimensione_pannello_finestra,dimensione_lato_frontale_edificio+DimSpazioBianco*2.0,spessore_muri]))\n",
    "SoffittoP2_2 = T([1,2,3])([dimensione_laterale_edificio-dimensione_pannello_finestra,0,altezza_primo_piano*0.6])(CUBOID([dimensione_pannello_finestra+DimSpazioBianco*2.0,dimensione_pannello_finestra+DimSpazioBianco*2.0,spessore_muri]))\n",
    "SoffittoP2_3 = T(2)(dimensione_lato_frontale_edificio-dimensione_pannello_finestra)(SoffittoP2_2)\n",
    "#SoffittoP2_4 = T([1,3])([dimensione_laterale_edificio-dimensione_pannello_finestra,altezza_primo_piano*0.4])(CUBOID([spessore_muri,dimensione_lato_frontale_edificio+DimSpazioBianco5*2.0,altezza_primo_piano*0.6-altezza_primo_piano*0.4+spessore_muri]))\n",
    "SoffittoP2_41 = T([1,3])([dimensione_laterale_edificio-dimensione_pannello_finestra,altezza_primo_piano*0.4])(CUBOID([spessore_muri,dimensione_pannello_finestra+DimSpazioBianco*2.0,altezza_primo_piano*0.6-altezza_primo_piano*0.4+spessore_muri]))\n",
    "SoffittoP2_4 = STRUCT([SoffittoP2_41, T(2)(dimensione_laterale_edificio+dimensione_pannello_finestra)(SoffittoP2_41)])\n",
    "SoffittoP2_5 = T([1,2])([dimensione_laterale_edificio-dimensione_pannello_finestra,dimensione_pannello_finestra+DimSpazioBianco*2])(CUBOID([spessore_muri,dimensione_lato_frontale_edificio-dimensione_pannello_finestra*2.0-DimSpazioBianco*2.0,altezza_primo_piano*0.4+spessore_muri]))\n",
    "\n",
    "SoffittoP2 = STRUCT([SoffittoP2_1,SoffittoP2_2,SoffittoP2_3,SoffittoP2_4,SoffittoP2_5])\n",
    "\n",
    "\n",
    "Piano2 = STRUCT([PavimentoP2,DueMuriLateraliP2, MuroPosterioreP2, MuroFrontaleP2, SoffittoP2, DueTramezzi, FinestraArco])"
   ]
  },
  {
   "cell_type": "code",
   "execution_count": 28,
   "metadata": {},
   "outputs": [
    {
     "data": {
      "text/plain": [
       "<pyplasm.xgepy.Hpc; proxy of <Swig Object of type 'std::shared_ptr< Hpc > *' at 0x000000000D1F52A0> >"
      ]
     },
     "execution_count": 28,
     "metadata": {},
     "output_type": "execute_result"
    }
   ],
   "source": [
    "VIEW(Piano2)"
   ]
  },
  {
   "cell_type": "code",
   "execution_count": 35,
   "metadata": {},
   "outputs": [
    {
     "data": {
      "text/plain": [
       "<pyplasm.xgepy.Hpc; proxy of <Swig Object of type 'std::shared_ptr< Hpc > *' at 0x000000000D1F53F0> >"
      ]
     },
     "execution_count": 35,
     "metadata": {},
     "output_type": "execute_result"
    }
   ],
   "source": [
    "VIEW(STRUCT([TOP([TOP([Prato,Piano0]),Piano1]),\n",
    "             T([1,2,3])([posizione_piano2_X,posizione_piano2_Y,altezza_secondo_piano+0.1])(Piano2)\n",
    "            ]))"
   ]
  },
  {
   "cell_type": "markdown",
   "metadata": {},
   "source": [
    "<table>\n",
    "    <tr><td>![P2.png](imm/P2.png)</td>\n",
    "    <td>![P2.png](imm/P2-2.png)</td></tr>\n",
    "    <tr><td>![P2.png](imm/P2-3a.png)</td>\n",
    "    <td>![P2.png](imm/P2-4a.png)</td></tr>\n",
    "</table>"
   ]
  },
  {
   "cell_type": "markdown",
   "metadata": {},
   "source": [
    "### Scalinata frontale\n",
    "- getScalinata(r,a) restituisce una scalinata di 6 gradini di raggio r ed altezza totale a;\n",
    "- sono state utilizzate le funzioni di scalo e le traslazioni per realizzare la scalinata"
   ]
  },
  {
   "cell_type": "code",
   "execution_count": 30,
   "metadata": {},
   "outputs": [],
   "source": [
    "# Scalinata frontale di 6 gradini\n",
    "\n",
    "def Scalino(r,altezza):\n",
    "    elemento = JOIN([T(2)(-r*0.5)(getMapSemiarco(r,0)),T(2)(-r*0.5)(getMapSemiarco(r,altezza))])\n",
    "    \n",
    "    return elemento\n",
    "\n",
    "def getScalinata(r,altezza_totale):\n",
    "    \n",
    "    altezza_scalino = altezza_totale/6.0\n",
    "    \n",
    "    scalino_base = Scalino(r,altezza_scalino)\n",
    "    \n",
    "    Scalinata1 = T(3)(altezza_scalino*5.0)(STRUCT([\n",
    "                        scalino_base,\n",
    "                        T(3)(-altezza_scalino)(S([1,2])([1.15,1.15])(scalino_base)),\n",
    "                        T(3)(-2*altezza_scalino)(S([1,2])([1.3,1.3])(scalino_base)),\n",
    "                        T(3)(-3*altezza_scalino)(S([1,2])([1.45,1.45])(scalino_base)),\n",
    "                        T(3)(-4*altezza_scalino)(S([1,2])([1.6,1.6])(scalino_base)),\n",
    "                        T(3)(-5*altezza_scalino)(S([1,2])([1.75,1.75])(scalino_base)),\n",
    "                        ]))\n",
    "\n",
    "    Scalinata = TEXTURE(texture_pietra)(Scalinata1)\n",
    "    \n",
    "    return Scalinata\n",
    "\n",
    "Scalinata = getScalinata(raggio_scalinata_frontale,altezza_scalinata_frontale)"
   ]
  },
  {
   "cell_type": "code",
   "execution_count": 31,
   "metadata": {},
   "outputs": [
    {
     "data": {
      "text/plain": [
       "<pyplasm.xgepy.Hpc; proxy of <Swig Object of type 'std::shared_ptr< Hpc > *' at 0x000000000D1F59F0> >"
      ]
     },
     "execution_count": 31,
     "metadata": {},
     "output_type": "execute_result"
    }
   ],
   "source": [
    "VIEW(getScalinata(8,2))"
   ]
  },
  {
   "cell_type": "markdown",
   "metadata": {},
   "source": [
    "<table>\n",
    "    <tr><td>![angolari.png](imm/scalinata.png)</td>\n",
    "    <td>![angolari.png](imm/scalinata-2.png)</td></tr>\n",
    "</table>"
   ]
  },
  {
   "cell_type": "code",
   "execution_count": 32,
   "metadata": {},
   "outputs": [
    {
     "data": {
      "text/plain": [
       "<pyplasm.xgepy.Hpc; proxy of <Swig Object of type 'std::shared_ptr< Hpc > *' at 0x000000000D1F5450> >"
      ]
     },
     "execution_count": 32,
     "metadata": {},
     "output_type": "execute_result"
    }
   ],
   "source": [
    "VIEW(STRUCT([TOP([TOP([Prato,Piano0]),Piano1]),\n",
    "             T([1,2,3])([posizione_piano2_X,posizione_piano2_Y,altezza_secondo_piano+0.1])(Piano2),\n",
    "             T([1,2,3])([posizione_facciata_Y+spessore_facciata,dim_prato_y/2.0,altezza_piano_0-altezza_scalinata_frontale])(Scalinata)]))"
   ]
  },
  {
   "cell_type": "markdown",
   "metadata": {},
   "source": [
    "### Scalinata posteriore\n",
    "- getScalinataPosteriore(a,b,c,d,e,f,g) restituisce una scalinata come quella in figura di altezza a, larghezza b, numero_gradini c, profondita_scala d, lunghezza_cima e, altezza bordo scalinata f e altezza dei bordi in cima destra e sinistra rispettivamente f e g;\n",
    "- \"lunghezza cima\" indica la lunghezza del piano in cima alle scale;\n",
    "- per realizzarla è stata creata un funzione che restituisce un singolo gradino all'interno di un ciclo, con i parametri opportunamente variati;\n",
    "- la scalinata occupa il 90% della lunghezza passata come parametro. Il restante 20% è occupato dalle decorazioni laterali;\n",
    "- le decorazioni laterali sono state crete utilizzando la funzione JOIN;\n",
    "- Questo tipo di scala è stata usata sia per la scalinata esterna posteriore che per le scalinate interne all'edificio."
   ]
  },
  {
   "cell_type": "code",
   "execution_count": 36,
   "metadata": {},
   "outputs": [],
   "source": [
    "# Scalinata posteriore di 12 gradini\n",
    "\n",
    "def getScalinoPosteriore(l,altezza,profondita):\n",
    "    elemento = CUBOID([l,profondita,altezza])\n",
    "    return elemento\n",
    "\n",
    "def getScalinataPosteriore(altezza,larghezza,numero_gradini,profondita_scala,lunghezza_cima,altezza_bordo,altezza_cima_dx,altezza_cima_sx):\n",
    "        \n",
    "    profondita_gradino = profondita_scala*1.0/numero_gradini\n",
    "    altezza_scalino = altezza*1.0/numero_gradini\n",
    "    \n",
    "    profondita_scala = numero_gradini*profondita_gradino\n",
    "    scalini = [T(3)(altezza_scalino*i)(getScalinoPosteriore(larghezza*0.8,altezza_scalino,profondita_scala-(profondita_gradino*i))) for i in np.arange(numero_gradini)]\n",
    "    rampa = [T(3)(altezza_scalino*i)(getScalinoPosteriore(larghezza*0.1,altezza_bordo+altezza_scalino,profondita_scala-(profondita_gradino*i))) for i in np.arange(numero_gradini)]\n",
    "    \n",
    "    scalini = STRUCT(scalini)\n",
    "    rampa = JOIN(STRUCT(rampa))\n",
    "    \n",
    "    cima1 = CUBOID([larghezza*0.8,lunghezza_cima,altezza])\n",
    "    cima_bordo_sx = CUBOID([larghezza*0.1,lunghezza_cima,altezza+altezza_cima_sx])\n",
    "    cima_bordo_dx = CUBOID([larghezza*0.1,lunghezza_cima,altezza+altezza_cima_dx])\n",
    "    \n",
    "    cima = STRUCT([RIGHT([cima_bordo_sx,RIGHT([cima1,cima_bordo_dx])])])\n",
    "    \n",
    "    scalinata1 = STRUCT([RIGHT([rampa,RIGHT([scalini,rampa])])])\n",
    "    scalinata = T(2)(-larghezza/2.0)(R([1,2])(PI/2)(STRUCT([UP([cima,scalinata1])])))\n",
    "    return scalinata\n",
    "\n",
    "Scalinata_posteriore = getScalinataPosteriore(altezza_piano_0,dimensione_pannello_finestra*2.0-DimSpazioBianco*2.0,13,6.5,2,1,1,1)"
   ]
  },
  {
   "cell_type": "code",
   "execution_count": 38,
   "metadata": {},
   "outputs": [
    {
     "data": {
      "text/plain": [
       "<pyplasm.xgepy.Hpc; proxy of <Swig Object of type 'std::shared_ptr< Hpc > *' at 0x000000000D1C9900> >"
      ]
     },
     "execution_count": 38,
     "metadata": {},
     "output_type": "execute_result"
    }
   ],
   "source": [
    "VIEW(getScalinataPosteriore(20,10,20,30,5,1,1,1))"
   ]
  },
  {
   "cell_type": "markdown",
   "metadata": {},
   "source": [
    "<table>\n",
    "    <tr><td>![angolari.png](imm/scalinata_posteriore.png)</td>\n",
    "    <td>![angolari.png](imm/scalinata_posteriore-2.png)</td></tr>\n",
    "</table>"
   ]
  },
  {
   "cell_type": "code",
   "execution_count": 39,
   "metadata": {},
   "outputs": [
    {
     "data": {
      "text/plain": [
       "<pyplasm.xgepy.Hpc; proxy of <Swig Object of type 'std::shared_ptr< Hpc > *' at 0x000000000D1C99C0> >"
      ]
     },
     "execution_count": 39,
     "metadata": {},
     "output_type": "execute_result"
    }
   ],
   "source": [
    "VIEW(STRUCT([TOP([TOP([Prato,Piano0]),Piano1]),\n",
    "             T([1,2,3])([posizione_piano2_X,posizione_piano2_Y,altezza_secondo_piano+0.1])(Piano2),\n",
    "             T([1,2,3])([posizione_facciata_Y+spessore_facciata,dim_prato_y/2.0,altezza_piano_0-altezza_scalinata_frontale])(Scalinata),\n",
    "             T([1,2])([posizione_piano2_X,dim_prato_y/2.0])(Scalinata_posteriore)]))"
   ]
  },
  {
   "cell_type": "markdown",
   "metadata": {},
   "source": [
    "# Definizione dei metodi per creare la facciata della Villa"
   ]
  },
  {
   "cell_type": "markdown",
   "metadata": {},
   "source": [
    "### Colonne di mattoncini\n",
    "- getColonneMattoncini(a,b,c,d,e,f) restituisce delle colonne di mattoncini come quelle in figura di spessore a, larghezza b, distanza_tra_colonne c, altezza_colonna d e numero_mattoncini e;\n",
    "- ho scelto di procedere in questo modo per avere anche in questo caso una funzione parametrica e per ricreare l'effetto dei mattoncini presente nella villa originale;\n",
    "- ho preferito creare i mattoncini invece che utilizzare semplicemente una texture"
   ]
  },
  {
   "cell_type": "code",
   "execution_count": 40,
   "metadata": {},
   "outputs": [],
   "source": [
    "# Colonne di Mattoncini\n",
    "\n",
    "def getColonneMattoncini(spessore,larghezza,distanza_tra_colonne,altezza_colonna,numero_mattoncini):\n",
    "    \n",
    "    altezza_mattoncino = (altezza_colonna*1.0/numero_mattoncini)-0.15\n",
    "\n",
    "    Mattoncino = CUBOID([spessore,larghezza,altezza_mattoncino])\n",
    "    \n",
    "    BaseColonnaMattoncini = CUBOID([spessore-0.1,larghezza,altezza_colonna])\n",
    "    \n",
    "    ColonnaMattoncini1 = COMP([STRUCT, NN(numero_mattoncini)])([Mattoncino, T(3)(altezza_mattoncino+0.15)])\n",
    "\n",
    "    ColonnaMattoncini = UNION([STRUCT([BaseColonnaMattoncini,ColonnaMattoncini1])])\n",
    "\n",
    "    ColonnaMattoncini4 = COMP([STRUCT, NN(4)])([ColonnaMattoncini, T(2)(distanza_tra_colonne)])\n",
    "\n",
    "    ColonneMattonciniFinite = TEXTURE(texture_pietra)(STRUCT([ColonnaMattoncini,T(2)(larghezza+0.16)(ColonnaMattoncini4),T(2)(distanza_tra_colonne*3.0+larghezza*2.0+0.16*2)(ColonnaMattoncini)]))\n",
    "    \n",
    "    return ColonneMattonciniFinite"
   ]
  },
  {
   "cell_type": "code",
   "execution_count": 41,
   "metadata": {},
   "outputs": [
    {
     "data": {
      "text/plain": [
       "<pyplasm.xgepy.Hpc; proxy of <Swig Object of type 'std::shared_ptr< Hpc > *' at 0x000000000D1C9E40> >"
      ]
     },
     "execution_count": 41,
     "metadata": {},
     "output_type": "execute_result"
    }
   ],
   "source": [
    "VIEW(getColonneMattoncini(3,1.6,5.8,8,22))"
   ]
  },
  {
   "cell_type": "markdown",
   "metadata": {},
   "source": [
    "<table>\n",
    "    <tr><td>![colonne.png](imm/colonne_mattoni.png)</td>\n",
    "    <td>![colonne.png](imm/colonne_mattoni-2.png)</td></tr>\n",
    "</table>"
   ]
  },
  {
   "cell_type": "markdown",
   "metadata": {},
   "source": [
    "### Colonne sotto gli archi\n",
    "- restituisce il colonnato presente sotto gli archi"
   ]
  },
  {
   "cell_type": "code",
   "execution_count": 42,
   "metadata": {},
   "outputs": [],
   "source": [
    "# Colonne sotto archi\n",
    "\n",
    "def getColonna(w,h,s):\n",
    "    basis = CUBOID([w, w, w/ 6.0])\n",
    "    trunk = CYLINDER([w / 2.0*0.85, h-(2.0*w/6.0)])(24)\n",
    "    capitel = CUBOID([w, w*1.5+s, w/6.0])\n",
    "    return TOP([TOP([basis, trunk]), capitel])\n",
    "\n",
    "\n",
    "def getColonnato(dm,h,numero_colonne,spazio):\n",
    "    colonnato = STRUCT(NN(numero_colonne)([getColonna(dm,h,spazio),T(2)(spazio+dm)]))\n",
    "    return TEXTURE(texture_pietra)(colonnato)"
   ]
  },
  {
   "cell_type": "code",
   "execution_count": 43,
   "metadata": {},
   "outputs": [
    {
     "data": {
      "text/plain": [
       "<pyplasm.xgepy.Hpc; proxy of <Swig Object of type 'std::shared_ptr< Hpc > *' at 0x000000000D1C9B10> >"
      ]
     },
     "execution_count": 43,
     "metadata": {},
     "output_type": "execute_result"
    }
   ],
   "source": [
    "VIEW(getColonnato(0.4,1.2,6,0.6))"
   ]
  },
  {
   "cell_type": "markdown",
   "metadata": {},
   "source": [
    "<table>\n",
    "    <tr><td>![colonnato.png](imm/colonnato.png)</td>\n",
    "    <td>![colonnato.png](imm/colonnato-2.png)</td></tr>\n",
    "</table>"
   ]
  },
  {
   "cell_type": "markdown",
   "metadata": {},
   "source": [
    "### Archi della facciata\n",
    "- getArchi(a,b,c,d,e) restituisce una fila di archi di lunghezza a, altezza b, profondità c, numero_archi d e spazio_tra_archi e;\n",
    "- sono state utilizzate, dopo averle opportunatamente modificate, delle funzioni presenti in uno dei capitoli del libro studiato."
   ]
  },
  {
   "cell_type": "code",
   "execution_count": 44,
   "metadata": {},
   "outputs": [],
   "source": [
    "# Arco di mattoni\n",
    "\n",
    "def ArchSurface(rr,w,h):\n",
    "    x1 = lambda k: rr*cos(k[0])\n",
    "    y1 = lambda k: rr*sin(k[0])\n",
    "    x2 = lambda k: (rr-w)*cos(k[0])\n",
    "    y2 = lambda k: (rr-w)*sin(k[0])\n",
    "    z = lambda k: h\n",
    "    \n",
    "    Circle0 = BEZIER(S1)([CONS([x1,y1,z])])\n",
    "    \n",
    "    Circle1 = BEZIER(S1)([CONS([x2,y2,z])])\n",
    "    \n",
    "    return BEZIER(S2)([Circle0, Circle1])\n",
    "\n",
    "def getArco1(length,w,depth):\n",
    "    def Arch1(angle):\n",
    "        \n",
    "        radius=(length/2)/cos(angle/2)\n",
    "        \n",
    "        domain2D=PROD([T(1)(angle/2)(INTERVALS(PI-angle)(13)),QUOTE([1])])\n",
    "        \n",
    "        domain3D=PROD([domain2D, QUOTE([1])])\n",
    "        \n",
    "        ArchSurf2D_0=ArchSurface(radius,w,0)\n",
    "        \n",
    "        ArchSurf2D_1=ArchSurface(radius,w,depth)\n",
    "        \n",
    "        SolidMap=BEZIER(S3)([ArchSurf2D_0, ArchSurf2D_1])\n",
    "        \n",
    "        return MAP(SolidMap)(domain3D)\n",
    "    \n",
    "    return Arch1\n",
    "\n",
    "def getArco(lunghezza,altezza,profondita):\n",
    "    \n",
    "    Arco = R([1,2])(PI/2)(R([2,3])(-3*PI/2)(getArco1(lunghezza, altezza, profondita)(0.001*PI)))\n",
    "    \n",
    "    return Arco\n",
    "\n",
    "def getArchi(lunghezza,altezza,profondita,numero_archi,spazio_tra_archi):\n",
    "    \n",
    "    Archi = T(2)(lunghezza/2.0)(STRUCT(NN(numero_archi)([getArco(lunghezza,altezza,profondita),T(2)(spazio_tra_archi+lunghezza)])))\n",
    "    \n",
    "    return TEXTURE(texture_pietra)(Archi)"
   ]
  },
  {
   "cell_type": "code",
   "execution_count": 45,
   "metadata": {},
   "outputs": [
    {
     "data": {
      "text/plain": [
       "<pyplasm.xgepy.Hpc; proxy of <Swig Object of type 'std::shared_ptr< Hpc > *' at 0x000000000D1EE570> >"
      ]
     },
     "execution_count": 45,
     "metadata": {},
     "output_type": "execute_result"
    }
   ],
   "source": [
    "VIEW(getArchi(10,2,1.6,3,-2))"
   ]
  },
  {
   "cell_type": "markdown",
   "metadata": {},
   "source": [
    "<table>\n",
    "    <tr><td>![archi.png](imm/archi.png)</td>\n",
    "    <td>![archi.png](imm/archi-2.png)</td></tr>\n",
    "</table>"
   ]
  },
  {
   "cell_type": "markdown",
   "metadata": {},
   "source": [
    "### Fregio sopra gli archi\n",
    "- getCornice(a,b,c,d,e) restituisce un fregio decorativo di a numero di pannelli, di spessore b, larghezza c, altezza della parte decorata e e della parte lisca d;\n",
    "- anche in uqesto caso la funzione è parametrica e sfrutta l'utilizzo delle funzioni COMP e NN."
   ]
  },
  {
   "cell_type": "code",
   "execution_count": 46,
   "metadata": {},
   "outputs": [],
   "source": [
    "# Elemento sopra gli archi\n",
    "\n",
    "def getCornice(numeroElementiPannello,spessore,larghezza,altezza_base,altezza_decorazione):\n",
    "    \n",
    "    larghezza_pannello = (larghezza*1.0/numeroElementiPannello)*0.7\n",
    "    \n",
    "    larghezza_decorazione = ((larghezza*1.0/numeroElementiPannello)*0.3)/4.0\n",
    "\n",
    "    ElementoPannello1 = COMP([STRUCT, NN(4)])([CUBOID([spessore,larghezza_decorazione,altezza_decorazione]), T(2)(larghezza_decorazione*1.2)])\n",
    "    \n",
    "    BaseElementoPannello = CUBOID([spessore-0.1,larghezza_decorazione*1.2*4-larghezza_decorazione*0.2,altezza_decorazione])\n",
    "\n",
    "    ElementoPannello = STRUCT ([ElementoPannello1,BaseElementoPannello])\n",
    "\n",
    "    ElementoPannello3 = CUBOID([spessore-0.1,larghezza_pannello,altezza_decorazione]) # cubo tra elementi\n",
    "\n",
    "    ElementoPannello4 = STRUCT([ElementoPannello,\n",
    "                        T(2)(larghezza_decorazione*1.2*4-larghezza_decorazione*0.2)(ElementoPannello3),\n",
    "                        T(3)(altezza_decorazione)(CUBOID([spessore,larghezza_pannello+larghezza_decorazione*1.2*4-larghezza_decorazione*0.2,0.2])),\n",
    "                        CUBOID([spessore,larghezza_pannello+larghezza_decorazione*1.2*4-larghezza_decorazione*0.2,0.2]),\n",
    "                        T(3)(-altezza_base)(CUBOID([spessore-0.1,larghezza_pannello+larghezza_decorazione*1.2*4-larghezza_decorazione*0.2,altezza_base]))\n",
    "                        ])\n",
    "\n",
    "    ElementoUltimoPannello = STRUCT([ElementoPannello,\n",
    "                            T(3)(altezza_decorazione)(CUBOID([spessore,larghezza_decorazione*1.2*4-larghezza_decorazione*0.2,0.2])),\n",
    "                            CUBOID([spessore,larghezza_decorazione*1.2*4-larghezza_decorazione*0.2,0.2]),\n",
    "                            T(3)(-altezza_base)(CUBOID([spessore-0.1,larghezza_decorazione*1.2*4-larghezza_decorazione*0.2,altezza_base]))\n",
    "                        ])\n",
    "\n",
    "    ElementoPannelloCompleto1 = COMP([STRUCT, NN(numeroElementiPannello)])([ElementoPannello4, T(2)(larghezza_pannello+larghezza_decorazione*1.2*4-larghezza_decorazione*0.2)])\n",
    "    ElementoPannelloCompleto = T(3)(altezza_base)(STRUCT([ElementoPannelloCompleto1, T(2)(((larghezza_decorazione*1.2*4-larghezza_decorazione*0.2)+larghezza_pannello)*numeroElementiPannello)(ElementoUltimoPannello)]))\n",
    "    \n",
    "    return TEXTURE(texture_pietra)(UNION([ElementoPannelloCompleto]))"
   ]
  },
  {
   "cell_type": "code",
   "execution_count": 47,
   "metadata": {},
   "outputs": [
    {
     "data": {
      "text/plain": [
       "<pyplasm.xgepy.Hpc; proxy of <Swig Object of type 'std::shared_ptr< Hpc > *' at 0x000000000D1EE720> >"
      ]
     },
     "execution_count": 47,
     "metadata": {},
     "output_type": "execute_result"
    }
   ],
   "source": [
    "VIEW(getCornice(8,1.6,10,1,1))"
   ]
  },
  {
   "cell_type": "markdown",
   "metadata": {},
   "source": [
    "<table>\n",
    "    <tr><td>![fregio.png](imm/fregio.png)</td>\n",
    "    <td>![fregio.png](imm/fregio-2.png)</td></tr>\n",
    "</table>"
   ]
  },
  {
   "cell_type": "markdown",
   "metadata": {},
   "source": [
    "### Frontone della facciata\n",
    "- getTriangolo(lunghezza,altezza,spessore) restituisce un frontone delle dimensioni specificate nei parametri della funzione;\n",
    "- per realizzarlo ho utilizzato anche le funzioni MKPOLS e MULTEXTRUDE."
   ]
  },
  {
   "cell_type": "code",
   "execution_count": 48,
   "metadata": {},
   "outputs": [],
   "source": [
    "# Trinagolo su archi\n",
    "\n",
    "def getTriangolo(lunghezza,altezza,spessore):\n",
    "    punti = [[0,0],[0,lunghezza],[altezza,lunghezza/2.0]]\n",
    "    P = AA(MK)(punti)\n",
    "    S = AA(JOIN)([P[0],P[1],P[2]])\n",
    "    H = JOIN(S)\n",
    "    Triangolo = R([2,3])(PI/2)(MULTEXTRUDE(H)(1.6))\n",
    "\n",
    "    V = [[0,0],[0,0.5],[0.5,0.5],[0.5,1],[1,1],[1,0.5],[1.5,0.5],[1.5,0]]\n",
    "    FV = [[0,1,3,7],[2,3,4,7],[4,5,6,7]]\n",
    "\n",
    "    A = STRUCT(MKPOLS((V,FV)))\n",
    "\n",
    "    V1 = [[0,0],[0,lunghezza],[altezza,lunghezza/2.0]]\n",
    "    FV1 = [[0,1],[1,2],[0,2]]\n",
    "\n",
    "    ContornoTriangolo1 = STRUCT(MKPOLS((V1,FV1)))\n",
    "    ContornoTriangolo = R([2,3])(PI/2)(MULTEXTRUDE(OFFSET([1,0])(ContornoTriangolo1))(2))\n",
    "    ContornoTriangoloGrande = R([2,3])(PI/2)(MULTEXTRUDE(OFFSET([0.2,0])(ContornoTriangolo1))(2.2))\n",
    "    ContornoTriangoloDietro = R([2,3])(PI/2)(MULTEXTRUDE(OFFSET([2,1])(ContornoTriangolo1))(spessore))\n",
    "\n",
    "    TriangoloCompleto = T([1,2])([spessore,0.5])(R([2,3])(-PI/2)(R([1,2])(-PI/2)(STRUCT([Triangolo, \n",
    "                                                                       T(2)(0.8)(ContornoTriangolo),\n",
    "                                                                       T([2,1])([1.2,0.5])(ContornoTriangoloGrande),\n",
    "                                                                       T(3)(-0.5)(ContornoTriangoloDietro)\n",
    "                                                                      ]))))\n",
    "    \n",
    "    return TEXTURE(texture_pareti)(UNION([TriangoloCompleto]))"
   ]
  },
  {
   "cell_type": "code",
   "execution_count": 49,
   "metadata": {},
   "outputs": [
    {
     "data": {
      "text/plain": [
       "<pyplasm.xgepy.Hpc; proxy of <Swig Object of type 'std::shared_ptr< Hpc > *' at 0x000000000D1EEEA0> >"
      ]
     },
     "execution_count": 49,
     "metadata": {},
     "output_type": "execute_result"
    }
   ],
   "source": [
    "VIEW(getTriangolo(26,5,1.6))"
   ]
  },
  {
   "cell_type": "markdown",
   "metadata": {},
   "source": [
    "<table>\n",
    "    <tr><td>![frontone.png](imm/frontone.png)</td>\n",
    "    <td>![frontone.png](imm/frontone-2.png)</td></tr>\n",
    "</table>"
   ]
  },
  {
   "cell_type": "markdown",
   "metadata": {},
   "source": [
    "### Costruzione della facciata\n",
    "- Qui viene costruite la facciata della Villa utilizzando le funzioni precedentemente definite"
   ]
  },
  {
   "cell_type": "code",
   "execution_count": 50,
   "metadata": {},
   "outputs": [],
   "source": [
    "# Definizione facciata frontale\n",
    "\n",
    "ColonneMattoncini = TEXTURE(texture_pietra)(getColonneMattoncini(spessore_facciata,2,7.9,12,14))\n",
    "\n",
    "Archi = TEXTURE(texture_pietra)(T([2,3])([2+0.16,7.5])(getArchi(8.3+1.6,2,spessore_facciata,3,-2)))\n",
    "\n",
    "Cornicione = TEXTURE(texture_pietra)(T(3)(11)(getCornice(14,spessore_facciata,28.1,1.6,1.5)))\n",
    "\n",
    "Triangolo = T(3)(11+1.6+1.5)(getTriangolo(29.05,7,spessore_facciata))\n",
    "\n",
    "Colonnato = T([2,1,3])([4.24,spessore_facciata/2.0,0.2])(getColonnato(0.5,1.5,9,0.15))\n",
    "Colonnato = STRUCT([Colonnato,T(2)(7.9*2.0)(Colonnato)])\n",
    "\n",
    "Facciata = STRUCT([ColonneMattoncini, Archi, Cornicione, Triangolo, Colonnato])"
   ]
  },
  {
   "cell_type": "code",
   "execution_count": 51,
   "metadata": {},
   "outputs": [
    {
     "data": {
      "text/plain": [
       "<pyplasm.xgepy.Hpc; proxy of <Swig Object of type 'std::shared_ptr< Hpc > *' at 0x000000000D1EEF00> >"
      ]
     },
     "execution_count": 51,
     "metadata": {},
     "output_type": "execute_result"
    }
   ],
   "source": [
    "VIEW(Facciata)"
   ]
  },
  {
   "cell_type": "markdown",
   "metadata": {},
   "source": [
    "<table>\n",
    "    <tr><td>![facciata.png](imm/facciata.png)</td>\n",
    "    <td>![facciata.png](imm/facciata-2.png)</td></tr>\n",
    "</table>"
   ]
  },
  {
   "cell_type": "code",
   "execution_count": 52,
   "metadata": {},
   "outputs": [
    {
     "data": {
      "text/plain": [
       "<pyplasm.xgepy.Hpc; proxy of <Swig Object of type 'std::shared_ptr< Hpc > *' at 0x000000000D1EEF90> >"
      ]
     },
     "execution_count": 52,
     "metadata": {},
     "output_type": "execute_result"
    }
   ],
   "source": [
    "VIEW(STRUCT([TOP([TOP([Prato,Piano0]),Piano1]),\n",
    "             T([1,2,3])([posizione_piano2_X,posizione_piano2_Y,altezza_secondo_piano+0.1])(Piano2),\n",
    "             T([1,2,3])([posizione_facciata_Y+spessore_facciata,dim_prato_y/2.0,altezza_piano_0-altezza_scalinata_frontale+0.1])(Scalinata),\n",
    "             T([1,2])([posizione_piano2_X,dim_prato_y/2.0])(Scalinata_posteriore),\n",
    "             T([1,2,3])([posizione_facciata_Y,posizione_facciata_X,posizione_facciata_Z])(Facciata)]))"
   ]
  },
  {
   "cell_type": "markdown",
   "metadata": {},
   "source": [
    "<table>\n",
    "    <tr><td>![facciata_completa.png](imm/facciata_completa.png)</td>\n",
    "    <td>![facciata_completa.png](imm/facciata_completa-2.png)</td></tr>\n",
    "    <tr><td>![facciata_completa.png](imm/facciata_completa-3.png)</td>\n",
    "    <td>![facciata_completa.png](imm/facciata_completa-4.png)</td></tr>\n",
    "</table>"
   ]
  },
  {
   "cell_type": "markdown",
   "metadata": {},
   "source": [
    "# Definizione del tetto\n",
    "- sono state definite tre funzioni per generare tre tipologie differenti di tetti;\n",
    "- in tutti i casi è stato utilizzato MKPOLS dopo aver generato una lista di liste di coordinate opportunatamente definite per mezzo di parametri."
   ]
  },
  {
   "cell_type": "code",
   "execution_count": 53,
   "metadata": {},
   "outputs": [],
   "source": [
    "def getTetto1(lato,altezza):\n",
    "    V1 = [[0,0,-altezza],[0,lato,-altezza],[lato,0,-altezza],[lato,lato,-altezza],[lato/2.0,lato/2.0]]\n",
    "    FV1 = [[0,2,4],[2,3,4]]\n",
    "\n",
    "    Tetto1 = STRUCT(MKPOLS((V1,FV1)))\n",
    "    \n",
    "    Tetto = T(3)(altezza)(STRUCT([Tetto1,R([1,2])(PI)(T([1,2])([-lato,-lato])(Tetto1))]))\n",
    "    \n",
    "    return TEXTURE(texture_tetto)(Tetto)\n",
    "\n",
    "def getTetto2(latoA,latoB,altezza):\n",
    "    \n",
    "    V1 = [[0,0,-altezza],[0,latoA,-altezza],[latoB,0,-altezza],[latoB,latoA,-altezza],[latoB*0.35,latoA/2.0],[latoB*0.65,latoA/2.0]]\n",
    "\n",
    "    FVa = [[2,3,5]]\n",
    "    FVb = [[1,3],[4,5]]\n",
    "   \n",
    "    TettoA = STRUCT(MKPOLS((V1,FVa)))\n",
    "    TettoB = JOIN(STRUCT(MKPOLS((V1,FVb))))\n",
    "    \n",
    "    Tetto1 = STRUCT([TettoA,TettoB])\n",
    "\n",
    "    Tetto = T(3)(altezza)(STRUCT([Tetto1,R([1,2])(PI)(T([1,2])([-latoB,-latoA])(Tetto1))]))\n",
    "    \n",
    "    return TEXTURE(texture_tetto)(Tetto)\n",
    "\n",
    "def getTetto3(lunghezza,altezza,spessore):\n",
    "    \n",
    "    V1 = [[0,0],[0,lunghezza],[altezza,lunghezza/2.0]]\n",
    "    \n",
    "    FV1 = [[1,2],[0,2]]\n",
    "    \n",
    "    TriangoloPerTetto = STRUCT(MKPOLS((V1,FV1)))\n",
    "    \n",
    "    Tetto = R([1,3])(PI/2)(MULTEXTRUDE(TriangoloPerTetto)(spessore))\n",
    "    \n",
    "    return TEXTURE(texture_tetto)(Tetto)"
   ]
  },
  {
   "cell_type": "code",
   "execution_count": 54,
   "metadata": {},
   "outputs": [
    {
     "data": {
      "text/plain": [
       "<pyplasm.xgepy.Hpc; proxy of <Swig Object of type 'std::shared_ptr< Hpc > *' at 0x000000000D1DEF00> >"
      ]
     },
     "execution_count": 54,
     "metadata": {},
     "output_type": "execute_result"
    }
   ],
   "source": [
    "VIEW(getTetto1(4,2))"
   ]
  },
  {
   "cell_type": "code",
   "execution_count": 55,
   "metadata": {},
   "outputs": [
    {
     "data": {
      "text/plain": [
       "<pyplasm.xgepy.Hpc; proxy of <Swig Object of type 'std::shared_ptr< Hpc > *' at 0x000000000D1DEF90> >"
      ]
     },
     "execution_count": 55,
     "metadata": {},
     "output_type": "execute_result"
    }
   ],
   "source": [
    "VIEW(getTetto2(6,8,2))"
   ]
  },
  {
   "cell_type": "code",
   "execution_count": 56,
   "metadata": {},
   "outputs": [
    {
     "data": {
      "text/plain": [
       "<pyplasm.xgepy.Hpc; proxy of <Swig Object of type 'std::shared_ptr< Hpc > *' at 0x000000000D1DE540> >"
      ]
     },
     "execution_count": 56,
     "metadata": {},
     "output_type": "execute_result"
    }
   ],
   "source": [
    "VIEW(getTetto3(10,2,4))"
   ]
  },
  {
   "cell_type": "markdown",
   "metadata": {},
   "source": [
    "<table>\n",
    "    <tr><td>![tetto.png](imm/tetto.png)</td>\n",
    "    <td>![tetto.png](imm/tetto-2.png)</td>\n",
    "    <td>![tetto.png](imm/tetto-3.png)</td></tr>\n",
    "</table>"
   ]
  },
  {
   "cell_type": "markdown",
   "metadata": {},
   "source": [
    "### Costruzione del tetto\n",
    "- sfruttando le funzioni precedenti è stato costruito il tetto della villa"
   ]
  },
  {
   "cell_type": "code",
   "execution_count": 57,
   "metadata": {},
   "outputs": [],
   "source": [
    "# Tetto\n",
    "\n",
    "lato = dimensione_pannello_finestra + DimSpazioBianco*2.0\n",
    "TettoQuadrato = JOIN(getTetto1(lato, altezza_tetti))\n",
    "\n",
    "#COMP([STRUCT, NN(2)])([R([1,2])(-PI/2)(ElementoMuroP1), T(2)(dimensione_lato_frontale_edificio-dimensione_pannello_finestra)]))\n",
    "\n",
    "TettiQuadrati = TEXTURE(texture_tetto)(COMP([STRUCT, NN(2)])([TettoQuadrato,T(2)(dimensione_lato_frontale_edificio-dimensione_pannello_finestra)]))\n",
    "\n",
    "TettoCentrale = TEXTURE(texture_tetto)(JOIN(R([1,2])(PI/2)(getTetto2(dimensione_laterale_edificio-dimensione_pannello_finestra,dimensione_lato_frontale_edificio+DimSpazioBianco*2.0,altezza_tetti*4))))\n",
    "\n",
    "TettoTriangolo = JOIN(T([1,2])([lato,lato+0.5])(getTetto3(29.05,7,dimensione_laterale_edificio+DimSpazioBianco*2.0-(dimensione_laterale_edificio-dimensione_pannello_finestra)/2.0)))\n",
    "\n",
    "TettoDietroTriangolo = TEXTURE(texture_tetto)(T([2,3])([dimensione_pannello_finestra+DimSpazioBianco*2.0,-(altezza_primo_piano*0.4+spessore_muri)])(CUBOID([spessore_muri*2.0,dimensione_lato_frontale_edificio-dimensione_pannello_finestra*2.0-DimSpazioBianco*2.0,altezza_primo_piano*0.4+spessore_muri])))\n",
    "\n",
    "\n",
    "da_sottrarre1 = COLOR(GREEN)(JOIN(TettoCentrale))\n",
    "#da_sottrarre2 = COLOR(RED)(CUBOID([dimensione_laterale_edificio-dimensione_pannello_finestra,dimensione_lato_frontale_edificio+DimSpazioBianco*2.0,7]))\n",
    "#da_sottrarre = T([1,3])([-(dimensione_laterale_edificio-dimensione_pannello_finestra),-7])(STRUCT([TOP([da_sottrarre2,da_sottrarre1])]))\n",
    "\n",
    "TettoTriangolo = TEXTURE(texture_tetto)(DIFFERENCE([TettoTriangolo,da_sottrarre1]))\n",
    "#TettoTriangolo = DIFFERENCE([TettoTriangolo,da_sottrarre2])\n",
    "\n",
    "\n",
    "Tetto1 = STRUCT([T(3)(altezza_primo_piano*0.6-altezza_primo_piano*0.4)(TettiQuadrati),\n",
    "                T(1)(0)(TettoCentrale),\n",
    "                T(3)(-altezza_primo_piano*0.4+1)(TettoTriangolo)])\n",
    "\n",
    "Tetto = STRUCT([Tetto1,TettoDietroTriangolo])"
   ]
  },
  {
   "cell_type": "code",
   "execution_count": 58,
   "metadata": {},
   "outputs": [
    {
     "data": {
      "text/plain": [
       "<pyplasm.xgepy.Hpc; proxy of <Swig Object of type 'std::shared_ptr< Hpc > *' at 0x000000000D1DEC00> >"
      ]
     },
     "execution_count": 58,
     "metadata": {},
     "output_type": "execute_result"
    }
   ],
   "source": [
    "VIEW(Tetto)"
   ]
  },
  {
   "cell_type": "markdown",
   "metadata": {},
   "source": [
    "<table>\n",
    "    <tr><td>![tetto_completo.png](imm/tetto_completo.png)</td>\n",
    "    <td>![tetto_completo.png](imm/tetto_completo-2.png)</td></tr>\n",
    "</table>"
   ]
  },
  {
   "cell_type": "code",
   "execution_count": 59,
   "metadata": {},
   "outputs": [
    {
     "data": {
      "text/plain": [
       "<pyplasm.xgepy.Hpc; proxy of <Swig Object of type 'std::shared_ptr< Hpc > *' at 0x000000000D1DEBD0> >"
      ]
     },
     "execution_count": 59,
     "metadata": {},
     "output_type": "execute_result"
    }
   ],
   "source": [
    "VIEW(STRUCT([TOP([TOP([Prato,Piano0]),Piano1]),\n",
    "             T([1,2,3])([posizione_piano2_X,posizione_piano2_Y,altezza_secondo_piano+0.1])(Piano2),\n",
    "             T([1,2,3])([posizione_tetto_X,posizione_tetto_Y,altezza_tetto+0.1])(Tetto),\n",
    "             T([1,2,3])([posizione_facciata_Y+spessore_facciata,dim_prato_y/2.0,altezza_piano_0-altezza_scalinata_frontale+0.1])(Scalinata),\n",
    "             T([1,2])([posizione_piano2_X,dim_prato_y/2.0])(Scalinata_posteriore),\n",
    "             T([1,2,3])([posizione_facciata_Y,posizione_facciata_X,posizione_facciata_Z])(Facciata)]))"
   ]
  },
  {
   "cell_type": "markdown",
   "metadata": {},
   "source": [
    "<table>\n",
    "    <tr><td>![villa_con_tetto.png](imm/villa_con_tetto.png)</td>\n",
    "    <td>![villa_con_tetto.png](imm/villa_con_tetto-2.png)</td></tr>\n",
    "    <tr><td>![villa_con_tetto.png](imm/villa_con_tetto-3.png)</td>\n",
    "    <td>![villa_con_tetto.png](imm/villa_con_tetto-4.png)</td></tr>\n",
    "</table>"
   ]
  },
  {
   "cell_type": "markdown",
   "metadata": {},
   "source": [
    "### Costruzione interni della Villa\n",
    "- le pareti interne sono state costruite tenendo conto delle dimensioni precedentemente specificate, come lo spessore dei muri, la posizione della villa, l'altezza dei piani ecc.\n",
    "- con la funzione DIFFERENCE sono stati creati i varchi per le porte;\n",
    "- sono state posizionate le scale necessarie ad accedere ai diversi piani della Villa."
   ]
  },
  {
   "cell_type": "code",
   "execution_count": 60,
   "metadata": {},
   "outputs": [],
   "source": [
    "# Muri interni\n",
    "def getParetiInterne(dimensione_laterale_edificio,dimensione_lato_frontale_edificio,altezza):\n",
    "    PareteP2_4 = CUBOID([spessore_muri,dimensione_lato_frontale_edificio+DimSpazioBianco5*2.0,altezza_secondo_piano+altezza_primo_piano*0.4+spessore_muri])\n",
    "    Parete2 = T(2)([dimensione_pannello_finestra+DimSpazioBianco5*2.0-spessore_muri])(CUBOID([dimensione_pannello_finestra+DimSpazioBianco5*2,spessore_muri,altezza+spessore_muri]))\n",
    "    DueParete2 = STRUCT([Parete2,T(2)(dimensione_laterale_edificio-DimSpazioBianco5*2.0+spessore_muri)(Parete2)])\n",
    "    \n",
    "    # riferimento per creare varchi per le porte\n",
    "    foroPerPorta = CUBOID([spessore_muri,3,6])\n",
    "    \n",
    "    # porte primo piano\n",
    "    PareteP2_4 = DIFFERENCE([PareteP2_4,T([2,3])([-1.5+(dimensione_lato_frontale_edificio+DimSpazioBianco*2.0)/2.0,altezza_piano_0])(foroPerPorta)])\n",
    "    DueParete2 = DIFFERENCE([DueParete2,T([1,2,3])([dimensione_pannello_finestra/2.0,dimensione_pannello_finestra+DimSpazioBianco*2.0,altezza_piano_0])(R([1,2])(-PI/2)(foroPerPorta))])\n",
    "    DueParete2 = DIFFERENCE([DueParete2,T([1,2,3])([dimensione_pannello_finestra/2.0,dimensione_lato_frontale_edificio-(dimensione_pannello_finestra-spessore_muri),altezza_piano_0])(R([1,2])(-PI/2)(foroPerPorta))])\n",
    "    PareteP2_4 = DIFFERENCE([PareteP2_4,T([2,3])([-1.5+dimensione_pannello_finestra/2.0+DimSpazioBianco,altezza_piano_0])(foroPerPorta)])\n",
    "    PareteP2_4 = DIFFERENCE([PareteP2_4,T([2,3])([dimensione_lato_frontale_edificio+1.5-dimensione_pannello_finestra/2.0-DimSpazioBianco,altezza_piano_0])(foroPerPorta)])\n",
    "    \n",
    "    PareteD = T([1,2])([-dimensione_pannello_finestra*3.0,dimensione_pannello_finestra*2.0+DimSpazioBianco-spessore_muri])(CUBOID([dimensione_pannello_finestra,spessore_muri,altezza_secondo_piano+altezza_primo_piano*0.4+spessore_muri]))\n",
    "    DuePareteD = STRUCT([PareteD,T(2)(dimensione_pannello_finestra*2.0+spessore_muri)(PareteD)])\n",
    "    \n",
    "    PareteP2_5 = CUBOID([spessore_muri,dimensione_lato_frontale_edificio+DimSpazioBianco*2.0,altezza_secondo_piano+altezza_primo_piano*0.4+spessore_muri])\n",
    "    PareteP2_5 = DIFFERENCE([PareteP2_5,T([2,3])([-1.5+(dimensione_lato_frontale_edificio+DimSpazioBianco*2.0)/2.0,altezza_piano_0])(foroPerPorta)])\n",
    "    PareteP2_5 = DIFFERENCE([PareteP2_5,T([2,3])([-1.5+dimensione_pannello_finestra/2.0+DimSpazioBianco,altezza_piano_0])(foroPerPorta)])\n",
    "    PareteP2_5 = DIFFERENCE([PareteP2_5,T([2,3])([dimensione_lato_frontale_edificio+1.5-dimensione_pannello_finestra/2.0-DimSpazioBianco,altezza_piano_0])(foroPerPorta)])\n",
    "    \n",
    "    # muretto vicino scale secondo piano\n",
    "    MuroVicinoScale1 = T([1,2,3])([-dimensione_pannello_finestra,dimensione_pannello_finestra*2.0+DimSpazioBianco,altezza_secondo_piano])(CUBOID([spessore_muri,dimensione_pannello_finestra*2.0,3]))\n",
    "    MuroVicinoScale21 = T([1,2,3])([-dimensione_pannello_finestra*2.0+4.0,dimensione_pannello_finestra*2.0+DimSpazioBianco,altezza_secondo_piano])(CUBOID([dimensione_pannello_finestra-4.0+spessore_muri,spessore_muri,3]))\n",
    "    MuroVicinoScale22 = T([1,2,3])([-dimensione_pannello_finestra*2.0+4.0,(dimensione_lato_frontale_edificio+DimSpazioBianco*2.0)-(dimensione_pannello_finestra*2.0+DimSpazioBianco),altezza_secondo_piano])(CUBOID([dimensione_pannello_finestra-4.0+spessore_muri,spessore_muri,3]))\n",
    "    MuroVicinoScale = STRUCT([MuroVicinoScale1,MuroVicinoScale21,MuroVicinoScale22])\n",
    "    \n",
    "    # porta principale primo piano\n",
    "    Porta1 = T([2,3])([1.5+dimensione_lato_frontale_edificio/2.0+DimSpazioBianco*2.0,altezza_piano_0])(R([1,2])(-PI/2)(getPorta(6,6)))\n",
    "    Porta2 = T([1,2,3])([-dimensione_pannello_finestra*2.0,1.5+dimensione_lato_frontale_edificio/2.0+DimSpazioBianco*2.0,altezza_piano_0])(R([1,2])(-PI/2)(getPorta(6,6)))\n",
    "    Porta = STRUCT([Porta1,Porta2])\n",
    "    \n",
    "    # porte secondo piano\n",
    "    PareteP2_4 = DIFFERENCE([PareteP2_4,T([2,3])([-1.5+dimensione_pannello_finestra/2.0+DimSpazioBianco,altezza_secondo_piano])(foroPerPorta)])\n",
    "    PareteP2_4 = DIFFERENCE([PareteP2_4,T([2,3])([dimensione_lato_frontale_edificio+1.5-dimensione_pannello_finestra/2.0-DimSpazioBianco,altezza_secondo_piano])(foroPerPorta)])\n",
    "    PareteP2_5 = DIFFERENCE([PareteP2_5,T([2,3])([-1.5+dimensione_pannello_finestra/2.0+DimSpazioBianco,altezza_secondo_piano])(foroPerPorta)])\n",
    "    PareteP2_5 = DIFFERENCE([PareteP2_5,T([2,3])([dimensione_lato_frontale_edificio+1.5-dimensione_pannello_finestra/2.0-DimSpazioBianco,altezza_secondo_piano])(foroPerPorta)])\n",
    "    \n",
    "    # scalinate tra primo e secondo piano\n",
    "    Scalinata1 = T([1,2,3])([-dimensione_pannello_finestra*2,2+dimensione_pannello_finestra*2.0+DimSpazioBianco,altezza_piano_0])(R([1,2])(PI)(getScalinataPosteriore(altezza_primo_piano+spessore_muri+0.1,4,25,8.75,4,3,0,3)))\n",
    "    Scalinata2 = T([1,2,3])([-dimensione_pannello_finestra*2.0,-2+(dimensione_lato_frontale_edificio+DimSpazioBianco*2.0+spessore_muri)-(dimensione_pannello_finestra*2+DimSpazioBianco),altezza_piano_0])(R([1,2])(PI)(getScalinataPosteriore(altezza_primo_piano+spessore_muri+0.1,4,25,8.75,4,3,3,0)))\n",
    "    \n",
    "    # scalinate tra piano 0 e primo piano\n",
    "    Scalinata01 = T([1,2,3])([-dimensione_pannello_finestra+4,2+dimensione_pannello_finestra*2.0+DimSpazioBianco-4,-spessore_muri])(getScalinataPosteriore(altezza_piano_0+spessore_muri+0.1,4,15,4,4,3,0,0))\n",
    "    Scalinata02 = T([1,2,3])([-dimensione_pannello_finestra+4,-2+(dimensione_lato_frontale_edificio+DimSpazioBianco*2.0+spessore_muri+4)-(dimensione_pannello_finestra*2+DimSpazioBianco),-spessore_muri])(getScalinataPosteriore(altezza_piano_0+spessore_muri+0.1,4,15,4,4,3,0,0))\n",
    "    \n",
    "    Scale = STRUCT([Scalinata1,Scalinata2,Scalinata01,Scalinata02])\n",
    "    \n",
    "    PareteP2_4 = STRUCT([PareteP2_4,T(1)(-dimensione_pannello_finestra*2.0)(PareteP2_5)])\n",
    "    \n",
    "    # costruzione interni della Villa\n",
    "    Interni = T(3)(-0.1)(STRUCT([PareteP2_4,DueParete2,DuePareteD,Porta,Scale,MuroVicinoScale]))\n",
    "\n",
    "    return TEXTURE(texture_pareti)(Interni)"
   ]
  },
  {
   "cell_type": "code",
   "execution_count": 152,
   "metadata": {},
   "outputs": [
    {
     "data": {
      "text/plain": [
       "<pyplasm.xgepy.Hpc; proxy of <Swig Object of type 'std::shared_ptr< Hpc > *' at 0x000000000D8E5750> >"
      ]
     },
     "execution_count": 152,
     "metadata": {},
     "output_type": "execute_result"
    }
   ],
   "source": [
    "VIEW(getParetiInterne(dimensione_laterale_edificio,dimensione_lato_frontale_edificio,altezza_pareti))"
   ]
  },
  {
   "cell_type": "markdown",
   "metadata": {},
   "source": [
    "<table>\n",
    "    <tr><td>![interni.png](imm/interni.png)</td>\n",
    "    <td>![interni.png](imm/interni-2.png)</td></tr>\n",
    "</table>"
   ]
  },
  {
   "cell_type": "code",
   "execution_count": 61,
   "metadata": {},
   "outputs": [
    {
     "data": {
      "text/plain": [
       "<pyplasm.xgepy.Hpc; proxy of <Swig Object of type 'std::shared_ptr< Hpc > *' at 0x000000000D1F7690> >"
      ]
     },
     "execution_count": 61,
     "metadata": {},
     "output_type": "execute_result"
    }
   ],
   "source": [
    "VIEW(STRUCT([TOP([Prato,Piano0]),\n",
    "             T([1,2])([posizione_piano2_X+dimensione_laterale_edificio-dimensione_pannello_finestra,posizione_piano2_Y])(getParetiInterne(dimensione_laterale_edificio,dimensione_lato_frontale_edificio,altezza_pareti))]))"
   ]
  },
  {
   "cell_type": "markdown",
   "metadata": {},
   "source": [
    "<table>\n",
    "    <tr><td>![interni2.png](imm/interni2.png)</td>\n",
    "    <td>![interni2.png](imm/interni2-2.png)</td></tr>\n",
    "</table>"
   ]
  },
  {
   "cell_type": "code",
   "execution_count": 62,
   "metadata": {},
   "outputs": [
    {
     "data": {
      "text/plain": [
       "<pyplasm.xgepy.Hpc; proxy of <Swig Object of type 'std::shared_ptr< Hpc > *' at 0x000000000D15FC60> >"
      ]
     },
     "execution_count": 62,
     "metadata": {},
     "output_type": "execute_result"
    }
   ],
   "source": [
    "VIEW(STRUCT([TOP([TOP([Prato,Piano0]),Piano1]),\n",
    "             T([1,2,3])([posizione_piano2_X,posizione_piano2_Y,altezza_secondo_piano+0.1])(Piano2),\n",
    "             T([1,2,3])([posizione_tetto_X,posizione_tetto_Y,altezza_tetto+0.1])(Tetto),\n",
    "             T([1,2,3])([posizione_facciata_Y+spessore_facciata,dim_prato_y/2.0,altezza_piano_0-altezza_scalinata_frontale+0.1])(Scalinata),\n",
    "             T([1,2])([posizione_piano2_X,dim_prato_y/2.0])(Scalinata_posteriore),\n",
    "             T([1,2,3])([posizione_facciata_Y,posizione_facciata_X,posizione_facciata_Z])(Facciata),\n",
    "             T([1,2])([posizione_piano2_X+dimensione_laterale_edificio-dimensione_pannello_finestra,posizione_piano2_Y])(getParetiInterne(dimensione_laterale_edificio,dimensione_lato_frontale_edificio,altezza_pareti))]))"
   ]
  },
  {
   "cell_type": "markdown",
   "metadata": {},
   "source": [
    "<table>\n",
    "    <tr><td>![interni3.png](imm/interni3.png)</td>\n",
    "    <td>![interni3.png](imm/interni3-2.png)</td></tr>\n",
    "    <tr><td>![interni3.png](imm/interni3-3.png)</td>\n",
    "    <td>![interni3.png](imm/interni3-4.png)</td></tr>\n",
    "    <tr><td>![interni3.png](imm/interni3-5.png)</td>\n",
    "    <td>![interni3.png](imm/interni3-6.png)</td></tr>\n",
    "</table>"
   ]
  },
  {
   "cell_type": "markdown",
   "metadata": {},
   "source": [
    "### Definizione dell'albero\n",
    "- getAlbero(altezza,larghezza,x,y,colore) restituisce un albero come quello presente in figura in posizione (x,y) di altezza, larghezza e colore specificata;\n",
    "- getForesta(numero_alberi,altezza_minima,altezza_massima,larghezza_minima,larghezza_massima) restituisce un insieme di alberi di diversa dimensione a seconda dei parametri inseriti. Per fare qeusto sono state utilizzate diverse funzioni di Numpy;\n",
    "- spazioVerde(x1,x2,x3,y1,y2,y3) restituisce un punto sul piano (x,y) randomico, ma sicuramente occupato dal prato. Lo spazio libero viene definito in questo modo: si parte da x1 e si arriva fino a x2, poi viene saltato una spazio x3 e si arriva fino alla fine. Lo stesso viene fatto sull'asse y. Il risultato è che lo spazio libero è quello dell'intero prato a qui viene sottratto lo spazio occupato dalla Villa;\n",
    "- anche in questo caso x1,x2,x3,y1,y2 e y3 sono passatti come parametri."
   ]
  },
  {
   "cell_type": "code",
   "execution_count": 63,
   "metadata": {},
   "outputs": [],
   "source": [
    "def getAlbero(altezza,larghezza,x,y,colore):\n",
    "    \n",
    "    if (colore==0):\n",
    "        texture_foglie = texture_foglie1\n",
    "    elif (colore==1):\n",
    "        texture_foglie = texture_foglie2\n",
    "    else:\n",
    "        texture_foglie = texture_foglie3\n",
    "    \n",
    "    V1 = [[0,0],[larghezza,0],[larghezza/2.0,altezza*0.6],[larghezza/6.0,altezza*0.35*0.5],[larghezza/3.0,altezza*0.35*0.5],[larghezza*2.0/3.0,altezza*0.35*0.5],[larghezza*5.0/6.0,altezza*0.35*0.5]]\n",
    "    \n",
    "    FV1 = [[3,6,2],[4,5,0],[0,4,5,1]]\n",
    "    \n",
    "    Foglie2 = T(1)(-larghezza/2.0)(STRUCT(MKPOLS((V1,FV1))))\n",
    "    Foglie1 = TEXTURE(texture_foglie)(STRUCT([R([1,3])(PI)(Foglie2),T(3)(0.05)(Foglie2)]))\n",
    "    \n",
    "    Foglie = T(3)(altezza*0.30)(R([2,3])(PI/2)(COMP([STRUCT, NN(4)])([Foglie1,R([1,3])(PI/4)])))\n",
    "    \n",
    "    Tronco = TEXTURE(texture_tronco)(CONE([larghezza/12.0, altezza*0.60])(24))\n",
    "    \n",
    "    Albero = T([1,2])([x,y])(STRUCT([Foglie,Tronco]))\n",
    "    \n",
    "    return (Albero)\n",
    "\n",
    "#restituisce delle cordinate di prato libero\n",
    "def spazioVerde(x1,x2,x3,y1,y2,y3):\n",
    "    x = np.random.randint(x1,x2)+x3*np.random.randint(0,2)\n",
    "    y = np.random.randint(y1,y2)+y3*np.random.randint(0,2)\n",
    "    return x,y\n",
    "\n",
    "def getForesta(numero_alberi,altezza_minima,altezza_massima,larghezza_minima,larghezza_massima):\n",
    "    coordinate = [spazioVerde(larghezza_massima,dim_prato_x,0,larghezza_massima,posizione_piano2_Y-larghezza_massima,posizione_piano2_Y+dimensione_lato_frontale_edificio+larghezza_massima) for i in np.arange(numero_alberi)]\n",
    "    alberi = [getAlbero(np.random.randint(altezza_minima,altezza_massima+1),np.random.randint(larghezza_minima,larghezza_massima+1),coordinate[i][0],coordinate[i][1],np.random.randint(0,3)) for i in np.arange(numero_alberi)]\n",
    "    \n",
    "    return STRUCT(alberi)"
   ]
  },
  {
   "cell_type": "code",
   "execution_count": 64,
   "metadata": {},
   "outputs": [
    {
     "data": {
      "text/plain": [
       "<pyplasm.xgepy.Hpc; proxy of <Swig Object of type 'std::shared_ptr< Hpc > *' at 0x000000000D2A0450> >"
      ]
     },
     "execution_count": 64,
     "metadata": {},
     "output_type": "execute_result"
    }
   ],
   "source": [
    "VIEW(getAlbero(10,6,0,0,0))"
   ]
  },
  {
   "cell_type": "markdown",
   "metadata": {},
   "source": [
    "<tr><td>![albero.png](imm/albero.png)</td>\n",
    "    <td>![albero.png](imm/albero-2.png)</td></tr>"
   ]
  },
  {
   "cell_type": "code",
   "execution_count": 65,
   "metadata": {},
   "outputs": [
    {
     "data": {
      "text/plain": [
       "<pyplasm.xgepy.Hpc; proxy of <Swig Object of type 'std::shared_ptr< Hpc > *' at 0x000000000D2A05A0> >"
      ]
     },
     "execution_count": 65,
     "metadata": {},
     "output_type": "execute_result"
    }
   ],
   "source": [
    "VIEW(TOP([Prato,getForesta(20,8,10,5,7)]))"
   ]
  },
  {
   "cell_type": "markdown",
   "metadata": {},
   "source": [
    "<tr><td>![foresta.png](imm/foresta.png)</td>\n",
    "    <td>![foresta.png](imm/foresta-2.png)</td></tr>"
   ]
  },
  {
   "cell_type": "markdown",
   "metadata": {},
   "source": [
    "# Risultato conclusivo"
   ]
  },
  {
   "cell_type": "code",
   "execution_count": 66,
   "metadata": {},
   "outputs": [
    {
     "data": {
      "text/plain": [
       "<pyplasm.xgepy.Hpc; proxy of <Swig Object of type 'std::shared_ptr< Hpc > *' at 0x000000000D2A0D50> >"
      ]
     },
     "execution_count": 66,
     "metadata": {},
     "output_type": "execute_result"
    }
   ],
   "source": [
    "VIEW(STRUCT([TOP([STRUCT([PratoConCollina,T([1,2,3])([posizione_piano2_X,posizione_piano2_Y,0.1])(Piano0)]),Piano1]),\n",
    "             T([1,2,3])([posizione_piano2_X,posizione_piano2_Y,altezza_secondo_piano+0.1])(Piano2),\n",
    "             T([1,2,3])([posizione_tetto_X,posizione_tetto_Y,altezza_tetto+0.1])(Tetto),\n",
    "             T([1,2,3])([posizione_facciata_Y+spessore_facciata,dim_prato_y/2.0,altezza_piano_0-altezza_scalinata_frontale+0.1])(Scalinata),\n",
    "             T([1,2])([posizione_piano2_X,dim_prato_y/2.0])(Scalinata_posteriore),\n",
    "             T([1,2,3])([posizione_facciata_Y,posizione_facciata_X,posizione_facciata_Z])(Facciata),\n",
    "             T([1,2])([posizione_piano2_X+dimensione_laterale_edificio-dimensione_pannello_finestra,posizione_piano2_Y])(getParetiInterne(dimensione_laterale_edificio,dimensione_lato_frontale_edificio,altezza_pareti)),\n",
    "             (getForesta(50,8,13,4,6))\n",
    "            ]))"
   ]
  },
  {
   "cell_type": "markdown",
   "metadata": {},
   "source": [
    "<table>\n",
    "    <tr><td>![villa.png](imm/villa-a.png)</td></tr>\n",
    "    <tr><td>![villa.png](imm/villa-2-a.png)</td></tr>\n",
    "    <tr><td>![villa.png](imm/villa-3.png)</td></tr>\n",
    "    <tr><td>![villa.png](imm/villa-4.png)</td></tr>\n",
    "</table>"
   ]
  },
  {
   "cell_type": "code",
   "execution_count": null,
   "metadata": {},
   "outputs": [],
   "source": []
  }
 ],
 "metadata": {
  "kernelspec": {
   "display_name": "Python 2",
   "language": "python",
   "name": "python2"
  },
  "language_info": {
   "codemirror_mode": {
    "name": "ipython",
    "version": 2
   },
   "file_extension": ".py",
   "mimetype": "text/x-python",
   "name": "python",
   "nbconvert_exporter": "python",
   "pygments_lexer": "ipython2",
   "version": "2.7.12"
  }
 },
 "nbformat": 4,
 "nbformat_minor": 2
}
