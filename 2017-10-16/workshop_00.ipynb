{
 "cells": [
  {
   "cell_type": "markdown",
   "metadata": {},
   "source": [
    "<h1>Esercitazione \"Laboratorio di Programmazione Geometrica e Grafica\"</h1>"
   ]
  },
  {
   "cell_type": "markdown",
   "metadata": {},
   "source": [
    "<h2>16-10-17</h2>"
   ]
  },
  {
   "cell_type": "markdown",
   "metadata": {},
   "source": [
    "<h3>Primi passi con Jupyter Notebook</h3>"
   ]
  },
  {
   "cell_type": "markdown",
   "metadata": {},
   "source": [
    "Comando per importare la libreria pyplasm"
   ]
  },
  {
   "cell_type": "code",
   "execution_count": 1,
   "metadata": {},
   "outputs": [
    {
     "name": "stdout",
     "output_type": "stream",
     "text": [
      "Evaluating fenvs.py..\n",
      "...fenvs.py imported in 0.00750972839506 seconds\n"
     ]
    }
   ],
   "source": [
    "from pyplasm import *"
   ]
  },
  {
   "cell_type": "markdown",
   "metadata": {},
   "source": [
    "Primo comando di test per verificare il corretto caricamento della libreria Pyplasm"
   ]
  },
  {
   "cell_type": "code",
   "execution_count": 4,
   "metadata": {
    "scrolled": true
   },
   "outputs": [
    {
     "data": {
      "text/plain": [
       "<pyplasm.xgepy.Hpc; proxy of <Swig Object of type 'std::shared_ptr< Hpc > *' at 0x000000000BA83BD0> >"
      ]
     },
     "execution_count": 4,
     "metadata": {},
     "output_type": "execute_result"
    }
   ],
   "source": [
    "c=CUBOID([1,1,1])\n",
    "VIEW(c)"
   ]
  },
  {
   "cell_type": "markdown",
   "metadata": {},
   "source": [
    "<h3>Primi esperimenti con la libreria Numpy</h3>"
   ]
  },
  {
   "cell_type": "markdown",
   "metadata": {},
   "source": [
    "Comando per importare la libreria numpy e richiamarlo con \"np\""
   ]
  },
  {
   "cell_type": "code",
   "execution_count": 2,
   "metadata": {},
   "outputs": [],
   "source": [
    "import numpy as np"
   ]
  },
  {
   "cell_type": "markdown",
   "metadata": {},
   "source": [
    "Creazione di un array e stampa del risultato"
   ]
  },
  {
   "cell_type": "code",
   "execution_count": 6,
   "metadata": {},
   "outputs": [],
   "source": [
    "a = np.array([2,3,4])"
   ]
  },
  {
   "cell_type": "code",
   "execution_count": 7,
   "metadata": {},
   "outputs": [
    {
     "data": {
      "text/plain": [
       "array([2, 3, 4])"
      ]
     },
     "execution_count": 7,
     "metadata": {},
     "output_type": "execute_result"
    }
   ],
   "source": [
    "a"
   ]
  },
  {
   "cell_type": "markdown",
   "metadata": {},
   "source": [
    "Stampa del tipo"
   ]
  },
  {
   "cell_type": "code",
   "execution_count": 8,
   "metadata": {},
   "outputs": [
    {
     "data": {
      "text/plain": [
       "dtype('int32')"
      ]
     },
     "execution_count": 8,
     "metadata": {},
     "output_type": "execute_result"
    }
   ],
   "source": [
    "a.dtype"
   ]
  },
  {
   "cell_type": "markdown",
   "metadata": {},
   "source": [
    "<b>Creazione di un array di array</b> e stampa"
   ]
  },
  {
   "cell_type": "code",
   "execution_count": 9,
   "metadata": {},
   "outputs": [],
   "source": [
    "b = np.array([(1,2,3), (4,5,6)])"
   ]
  },
  {
   "cell_type": "code",
   "execution_count": 10,
   "metadata": {},
   "outputs": [
    {
     "data": {
      "text/plain": [
       "array([[1, 2, 3],\n",
       "       [4, 5, 6]])"
      ]
     },
     "execution_count": 10,
     "metadata": {},
     "output_type": "execute_result"
    }
   ],
   "source": [
    "b"
   ]
  },
  {
   "cell_type": "markdown",
   "metadata": {},
   "source": [
    "Utilizzo di <b>zeros</b>, <b>ones</b> e <b>empty</b> per creare array con tutti zeri, uno o random"
   ]
  },
  {
   "cell_type": "code",
   "execution_count": 14,
   "metadata": {},
   "outputs": [
    {
     "data": {
      "text/plain": [
       "array([0, 0, 0], dtype=int16)"
      ]
     },
     "execution_count": 14,
     "metadata": {},
     "output_type": "execute_result"
    }
   ],
   "source": [
    "np.zeros( (3), dtype=np.int16 )"
   ]
  },
  {
   "cell_type": "code",
   "execution_count": 15,
   "metadata": {},
   "outputs": [
    {
     "data": {
      "text/plain": [
       "array([1, 1, 1], dtype=int16)"
      ]
     },
     "execution_count": 15,
     "metadata": {},
     "output_type": "execute_result"
    }
   ],
   "source": [
    "np.ones( (3), dtype=np.int16 )"
   ]
  },
  {
   "cell_type": "code",
   "execution_count": 17,
   "metadata": {},
   "outputs": [
    {
     "data": {
      "text/plain": [
       "array([  0.00000000e+000,   4.94065646e-324,   9.88131292e-324])"
      ]
     },
     "execution_count": 17,
     "metadata": {},
     "output_type": "execute_result"
    }
   ],
   "source": [
    "np.empty( (3), dtype=np.float64)"
   ]
  },
  {
   "cell_type": "markdown",
   "metadata": {},
   "source": [
    "Uitizzo di <b>arange</b> per creare un array contenente una sequenza di numeri (in questo caso da 10 a 100 in multipli di 3)"
   ]
  },
  {
   "cell_type": "code",
   "execution_count": 18,
   "metadata": {},
   "outputs": [
    {
     "data": {
      "text/plain": [
       "array([10, 13, 16, 19, 22, 25, 28, 31, 34, 37, 40, 43, 46, 49, 52, 55, 58,\n",
       "       61, 64, 67, 70, 73, 76, 79, 82, 85, 88, 91, 94, 97])"
      ]
     },
     "execution_count": 18,
     "metadata": {},
     "output_type": "execute_result"
    }
   ],
   "source": [
    "np.arange( 10, 100, 3 )"
   ]
  },
  {
   "cell_type": "markdown",
   "metadata": {},
   "source": [
    "Utilizzo di <b>linspace</b> per creare un array con un determinato numero di elementi equidistanti compresi tra due estremi"
   ]
  },
  {
   "cell_type": "code",
   "execution_count": 26,
   "metadata": {},
   "outputs": [
    {
     "data": {
      "text/plain": [
       "array([   1.,   34.,   67.,  100.])"
      ]
     },
     "execution_count": 26,
     "metadata": {},
     "output_type": "execute_result"
    }
   ],
   "source": [
    "np.linspace( 1, 100, 4 )"
   ]
  },
  {
   "cell_type": "markdown",
   "metadata": {},
   "source": [
    "Utilizzo della funzione <b>random</b> (la quale restituisce un valore compreso tra 0 e 1) per creare una matrice 10x10"
   ]
  },
  {
   "cell_type": "code",
   "execution_count": 27,
   "metadata": {},
   "outputs": [
    {
     "data": {
      "text/plain": [
       "array([[ 0.12875223,  0.09196126,  0.55565574,  0.0940437 ,  0.2666141 ,\n",
       "         0.93679405,  0.11740822,  0.1858369 ,  0.50312107,  0.30848159],\n",
       "       [ 0.52619382,  0.74544073,  0.90744984,  0.49285165,  0.65214861,\n",
       "         0.97124349,  0.18255918,  0.89726188,  0.26984543,  0.50794325],\n",
       "       [ 0.62699755,  0.53653709,  0.08774499,  0.90187527,  0.055806  ,\n",
       "         0.94083739,  0.50021498,  0.46731872,  0.75478119,  0.33791637],\n",
       "       [ 0.86730645,  0.45499836,  0.86233367,  0.13096835,  0.35465273,\n",
       "         0.74800564,  0.90779364,  0.39397568,  0.13172283,  0.50642018],\n",
       "       [ 0.42737988,  0.87302821,  0.95227696,  0.10906536,  0.7394893 ,\n",
       "         0.19414796,  0.64212448,  0.28367519,  0.22889478,  0.89393825],\n",
       "       [ 0.72828412,  0.26461998,  0.76721839,  0.09388596,  0.18062075,\n",
       "         0.20452132,  0.52674838,  0.62806317,  0.95025764,  0.36816433],\n",
       "       [ 0.15774014,  0.92122695,  0.84656466,  0.84631659,  0.55273589,\n",
       "         0.42929855,  0.74505315,  0.59322574,  0.91897661,  0.05269228],\n",
       "       [ 0.93435096,  0.25327712,  0.51009788,  0.62454552,  0.14883473,\n",
       "         0.03895432,  0.80343068,  0.21828627,  0.97525524,  0.75020963],\n",
       "       [ 0.28424294,  0.77952699,  0.33296331,  0.64117014,  0.99021248,\n",
       "         0.34637183,  0.2819785 ,  0.46493756,  0.80001599,  0.69155681],\n",
       "       [ 0.11466548,  0.44388291,  0.46532281,  0.7691729 ,  0.83910156,\n",
       "         0.6413933 ,  0.62308173,  0.94666836,  0.60900531,  0.71502435]])"
      ]
     },
     "execution_count": 27,
     "metadata": {},
     "output_type": "execute_result"
    }
   ],
   "source": [
    "np.random.rand(10,10)"
   ]
  },
  {
   "cell_type": "markdown",
   "metadata": {},
   "source": [
    "Utilizzo delle funzioni <b>arange</b> e <b>reshape</b>. Con arange si definisce la sequenza di numeri da inserire nell'array, mentre in reshape(a,b) \"a\" indica il numero di righe e \"b\" il numero di colonne"
   ]
  },
  {
   "cell_type": "code",
   "execution_count": 30,
   "metadata": {},
   "outputs": [
    {
     "name": "stdout",
     "output_type": "stream",
     "text": [
      "[[ 0  1  2  3  4]\n",
      " [ 5  6  7  8  9]\n",
      " [10 11 12 13 14]\n",
      " [15 16 17 18 19]\n",
      " [20 21 22 23 24]\n",
      " [25 26 27 28 29]]\n"
     ]
    }
   ],
   "source": [
    "b = np.arange(30).reshape(6,5)\n",
    "print(b)"
   ]
  },
  {
   "cell_type": "markdown",
   "metadata": {},
   "source": [
    "<h4>Operazioni sugli array</h4>"
   ]
  },
  {
   "cell_type": "markdown",
   "metadata": {},
   "source": [
    "Creazione di due array di 4 elementi e <b>somma degli elementi degli array</b>"
   ]
  },
  {
   "cell_type": "code",
   "execution_count": 39,
   "metadata": {},
   "outputs": [
    {
     "name": "stdout",
     "output_type": "stream",
     "text": [
      "[ 0  5 10 15]\n",
      "[0 1 2 3]\n",
      "[ 0  6 12 18]\n"
     ]
    }
   ],
   "source": [
    "a = np.array( [0,5,10,15] )\n",
    "b = np.arange( 4 )\n",
    "print (a)\n",
    "print (b)\n",
    "c = a + b\n",
    "print (c)"
   ]
  },
  {
   "cell_type": "markdown",
   "metadata": {},
   "source": [
    "Creazione di due array di 4 elementi e <b>sottrazione tra due array</b>"
   ]
  },
  {
   "cell_type": "code",
   "execution_count": 103,
   "metadata": {},
   "outputs": [
    {
     "name": "stdout",
     "output_type": "stream",
     "text": [
      "[ 0  5 10 15]\n",
      "[0 1 2 3]\n",
      "[ 0  4  8 12]\n"
     ]
    }
   ],
   "source": [
    "a = np.array( [0,5,10,15] )\n",
    "b = np.arange( 4 )\n",
    "print (a)\n",
    "print (b)\n",
    "c = a - b\n",
    "print (c)"
   ]
  },
  {
   "cell_type": "markdown",
   "metadata": {},
   "source": [
    "Calcolare il <b>quadrato di un array</b>"
   ]
  },
  {
   "cell_type": "code",
   "execution_count": 50,
   "metadata": {},
   "outputs": [
    {
     "name": "stdout",
     "output_type": "stream",
     "text": [
      "[0 1 2 3]\n",
      "[0 1 4 9]\n"
     ]
    }
   ],
   "source": [
    "d = np.arange( 4 )\n",
    "print (d)\n",
    "d = d**2\n",
    "print (d)"
   ]
  },
  {
   "cell_type": "markdown",
   "metadata": {},
   "source": [
    "Creazione di un <b>array di booleani</b> mediante la verifica di una condizione (in questo esempio \"elemento<5\") su un altro array"
   ]
  },
  {
   "cell_type": "code",
   "execution_count": 54,
   "metadata": {},
   "outputs": [
    {
     "name": "stdout",
     "output_type": "stream",
     "text": [
      "[ True  True  True  True  True False False False False False]\n"
     ]
    }
   ],
   "source": [
    "e = np.arange( 10 )\n",
    "f=e<5\n",
    "print (f)"
   ]
  },
  {
   "cell_type": "markdown",
   "metadata": {},
   "source": [
    "<b>Prodotto tra gli elementi di due matrici</b>"
   ]
  },
  {
   "cell_type": "code",
   "execution_count": 58,
   "metadata": {},
   "outputs": [
    {
     "name": "stdout",
     "output_type": "stream",
     "text": [
      "[[ 1  4]\n",
      " [ 9 16]]\n"
     ]
    }
   ],
   "source": [
    "a = np.array ([[1,2],[3,4]])\n",
    "b = np.array ([[1,2],[3,4]])\n",
    "c = a*b\n",
    "print (c)"
   ]
  },
  {
   "cell_type": "markdown",
   "metadata": {},
   "source": [
    "<b>Prodotto tra matrici</b>"
   ]
  },
  {
   "cell_type": "code",
   "execution_count": 59,
   "metadata": {},
   "outputs": [
    {
     "name": "stdout",
     "output_type": "stream",
     "text": [
      "[[ 7 10]\n",
      " [15 22]]\n"
     ]
    }
   ],
   "source": [
    "a = np.array ([[1,2],[3,4]])\n",
    "b = np.array ([[1,2],[3,4]])\n",
    "c = a.dot(b)\n",
    "print (c)"
   ]
  },
  {
   "cell_type": "markdown",
   "metadata": {},
   "source": [
    "Funzioni <b>sum</b>, <b>min</b> e <b>max</b>"
   ]
  },
  {
   "cell_type": "code",
   "execution_count": 75,
   "metadata": {},
   "outputs": [
    {
     "name": "stdout",
     "output_type": "stream",
     "text": [
      "[[ 0.04890965  0.50130282  0.20509301  0.14815001  0.5026256 ]\n",
      " [ 0.26620318  0.43218966  0.67845471  0.35393778  0.30992877]\n",
      " [ 0.87361943  0.55116971  0.58310095  0.0887389   0.75510828]\n",
      " [ 0.90633922  0.12286624  0.88731421  0.19849689  0.28791601]\n",
      " [ 0.40254901  0.6702907   0.75505998  0.10275666  0.5044753 ]]\n",
      "\n",
      "(11.136596678308937, 0.048909654650350576, 0.90633921681823815)\n"
     ]
    }
   ],
   "source": [
    "a = np.random.random((5,5))\n",
    "print (a)\n",
    "e1 = a.sum()\n",
    "e2 = a.min()\n",
    "e3 = a.max()\n",
    "print\n",
    "print(e1, e2, e3)"
   ]
  },
  {
   "cell_type": "markdown",
   "metadata": {},
   "source": [
    "Calcolo della <b>somma</b>, del <b>minimo</b> e del <b>massimo per ogni colonna</b>"
   ]
  },
  {
   "cell_type": "code",
   "execution_count": 84,
   "metadata": {},
   "outputs": [
    {
     "name": "stdout",
     "output_type": "stream",
     "text": [
      "[[ 0  1  2  3  4]\n",
      " [ 5  6  7  8  9]\n",
      " [10 11 12 13 14]\n",
      " [15 16 17 18 19]\n",
      " [20 21 22 23 24]]\n",
      "\n",
      "[50 55 60 65 70]\n",
      "[ 0  5 10 15 20]\n",
      "[20 21 22 23 24]\n"
     ]
    }
   ],
   "source": [
    "a = np.arange(25).reshape((5,5))\n",
    "print (a)\n",
    "print\n",
    "print (a.sum(axis=0))\n",
    "print (a.min(axis=1))\n",
    "print (a.max(axis=0))"
   ]
  },
  {
   "cell_type": "markdown",
   "metadata": {},
   "source": [
    "Elementi dell'array attraverso l'<b>indice</b>"
   ]
  },
  {
   "cell_type": "code",
   "execution_count": 97,
   "metadata": {},
   "outputs": [
    {
     "name": "stdout",
     "output_type": "stream",
     "text": [
      "[ 0  1  2  3  4  5  6  7  8  9 10 11 12 13 14 15 16 17 18 19 20 21 22 23 24]\n",
      "\n",
      "Elemento in posizione 4:\n",
      "4\n",
      "\n",
      "Elementi dalla posizione 5 (inclusa) alla posizione 10 (esclusa):\n",
      "[5 6 7 8 9]\n"
     ]
    }
   ],
   "source": [
    "a = np.arange(25)\n",
    "print (a)\n",
    "print\n",
    "print ('Elemento in posizione 4:')\n",
    "print (a[4])\n",
    "print\n",
    "print ('Elementi dalla posizione 5 (inclusa) alla posizione 10 (esclusa):')\n",
    "print (a[5:10])"
   ]
  },
  {
   "cell_type": "markdown",
   "metadata": {},
   "source": [
    "<b>Modifica degli elementi di un array</b> attraverso l'indice"
   ]
  },
  {
   "cell_type": "code",
   "execution_count": 101,
   "metadata": {},
   "outputs": [
    {
     "name": "stdout",
     "output_type": "stream",
     "text": [
      "[ 0  1  2  3  4  5  6  7  8  9 10 11 12 13 14 15 16 17 18 19 20 21 22 23 24]\n",
      "\n",
      "Sostituzione degli elementi con indice compreso da 10 e 14 con il valore 0\n",
      "[ 0  1  2  3  4  5  6  7  8  9  0  0  0  0  0 15 16 17 18 19 20 21 22 23 24]\n"
     ]
    }
   ],
   "source": [
    "a = np.arange(25)\n",
    "print (a)\n",
    "print\n",
    "print ('Sostituzione degli elementi con indice compreso da 10 e 14 con il valore 0')\n",
    "a[10:15] = 0\n",
    "print (a)"
   ]
  },
  {
   "cell_type": "markdown",
   "metadata": {},
   "source": [
    "Calcolo del <b>quadrato</b> di tutti gli elementi di un <b>array</b>"
   ]
  },
  {
   "cell_type": "code",
   "execution_count": 3,
   "metadata": {},
   "outputs": [
    {
     "name": "stdout",
     "output_type": "stream",
     "text": [
      "[ 0  1  2  3  4  5  6  7  8  9 10 11 12 13 14 15 16 17 18 19 20 21 22 23 24]\n",
      "\n",
      "0\n",
      "1\n",
      "4\n",
      "9\n",
      "16\n",
      "25\n",
      "36\n",
      "49\n",
      "64\n",
      "81\n",
      "100\n",
      "121\n",
      "144\n",
      "169\n",
      "196\n",
      "225\n",
      "256\n",
      "289\n",
      "324\n",
      "361\n",
      "400\n",
      "441\n",
      "484\n",
      "529\n",
      "576\n"
     ]
    }
   ],
   "source": [
    "a = np.arange(25)\n",
    "print (a)\n",
    "print\n",
    "for i in a:\n",
    "    print(i**2)"
   ]
  },
  {
   "cell_type": "markdown",
   "metadata": {},
   "source": [
    "Calcolo dell'<b>utima riga di una matrice</b>"
   ]
  },
  {
   "cell_type": "code",
   "execution_count": 107,
   "metadata": {},
   "outputs": [
    {
     "name": "stdout",
     "output_type": "stream",
     "text": [
      "\n",
      "[[ 0.18814771  0.26795854  0.66093916]\n",
      " [ 0.87383713  0.44684414  0.6831697 ]\n",
      " [ 0.81401059  0.33409866  0.16394424]]\n",
      "\n",
      "[ 0.81401059  0.33409866  0.16394424]\n"
     ]
    }
   ],
   "source": [
    "a = np.random.random((3,3))\n",
    "print\n",
    "print (a)\n",
    "print\n",
    "print (a[-1])"
   ]
  },
  {
   "cell_type": "markdown",
   "metadata": {},
   "source": [
    "Utilizzo della funzione <b>resize</b> per ridimensionare un array"
   ]
  },
  {
   "cell_type": "code",
   "execution_count": 110,
   "metadata": {},
   "outputs": [
    {
     "name": "stdout",
     "output_type": "stream",
     "text": [
      "[[ 0.63764789  0.9477356   0.50821167  0.31876446]\n",
      " [ 0.27433692  0.73807074  0.70854302  0.13036223]\n",
      " [ 0.9959916   0.42697621  0.57237974  0.87839764]\n",
      " [ 0.45797812  0.86776658  0.02734538  0.63542264]]\n",
      "\n",
      "[[ 0.63764789  0.9477356   0.50821167  0.31876446  0.27433692  0.73807074\n",
      "   0.70854302  0.13036223]\n",
      " [ 0.9959916   0.42697621  0.57237974  0.87839764  0.45797812  0.86776658\n",
      "   0.02734538  0.63542264]]\n"
     ]
    }
   ],
   "source": [
    "a = np.random.random((4,4))\n",
    "print (a)\n",
    "print\n",
    "a.resize((2,8))\n",
    "print (a)"
   ]
  },
  {
   "cell_type": "markdown",
   "metadata": {},
   "source": [
    "Ordinamento degli elementi delle righe di una matrice tramite <b>quicksort</b>"
   ]
  },
  {
   "cell_type": "code",
   "execution_count": 115,
   "metadata": {},
   "outputs": [
    {
     "name": "stdout",
     "output_type": "stream",
     "text": [
      "[[ 1 16  5 34  5 12]\n",
      " [ 3  1  9 22 40 19]]\n",
      "\n",
      "[[ 1  5  5 12 16 34]\n",
      " [ 1  3  9 19 22 40]]\n"
     ]
    }
   ],
   "source": [
    " a = np.array([[1,16,5,34,5,12],[3,1,9,22,40,19]])\n",
    "print (a)\n",
    "print\n",
    "a = np.sort(a, kind='quicksort')\n",
    "print (a)"
   ]
  },
  {
   "cell_type": "markdown",
   "metadata": {},
   "source": [
    "<h3>Esercizi assegnati dal Professore</h3>"
   ]
  },
  {
   "cell_type": "markdown",
   "metadata": {},
   "source": [
    "<b>Esercizio 1</b>: \"Produce (and draw) 100 random points within the unit square [0,1]^2\""
   ]
  },
  {
   "cell_type": "markdown",
   "metadata": {},
   "source": [
    "Spiegazione: ho creato un array di coppie di elementi con valori compresi tra 0 e 1, poi li ho visualizzati nel piano."
   ]
  },
  {
   "cell_type": "code",
   "execution_count": 3,
   "metadata": {},
   "outputs": [
    {
     "name": "stdout",
     "output_type": "stream",
     "text": [
      "[array([ 0.96834434,  0.74044473]), array([ 0.5233839 ,  0.39530406]), array([ 0.34933292,  0.67387442]), array([ 0.88472361,  0.6479345 ]), array([ 0.21824388,  0.81097086]), array([ 0.06226833,  0.08261826]), array([ 0.53772783,  0.43893965]), array([ 0.07476462,  0.23554313]), array([ 0.64273652,  0.78063425]), array([ 0.46032035,  0.55080354]), array([ 0.66509469,  0.59251817]), array([ 0.50690532,  0.54950324]), array([ 0.61181613,  0.08771744]), array([ 0.20919352,  0.08883586]), array([ 0.85598283,  0.95633105]), array([ 0.0058207 ,  0.65199846]), array([ 0.4689459 ,  0.18380682]), array([ 0.23652719,  0.35641025]), array([ 0.13342948,  0.87197334]), array([ 0.74565812,  0.91394832]), array([ 0.78134866,  0.78339966]), array([ 0.25313884,  0.27475848]), array([ 0.09477334,  0.05794131]), array([ 0.88901163,  0.07478975]), array([ 0.58928303,  0.09386166]), array([ 0.72949563,  0.02858199]), array([ 0.24998609,  0.12467524]), array([ 0.90767563,  0.53458016]), array([ 0.23179007,  0.55102953]), array([ 0.37353069,  0.34587341]), array([ 0.9731967 ,  0.48133723]), array([ 0.74007036,  0.95892213]), array([ 0.70497521,  0.47496832]), array([ 0.93998559,  0.79827437]), array([ 0.36061336,  0.19929398]), array([ 0.21785471,  0.36487996]), array([ 0.10677259,  0.85743673]), array([ 0.88921117,  0.61695446]), array([ 0.38379415,  0.88916534]), array([ 0.33335628,  0.60547118]), array([ 0.82610503,  0.80151621]), array([ 0.24784596,  0.86052155]), array([ 0.41362887,  0.08810075]), array([ 0.88000673,  0.80685122]), array([ 0.97974087,  0.41385792]), array([ 0.3682169 ,  0.65960912]), array([ 0.80518289,  0.51540241]), array([ 0.42283785,  0.57377242]), array([ 0.72887318,  0.45978819]), array([ 0.14746794,  0.60882118]), array([ 0.54346426,  0.94106418]), array([ 0.93516298,  0.57785601]), array([ 0.20932746,  0.35730654]), array([ 0.19960395,  0.58430878]), array([ 0.84661494,  0.5895607 ]), array([ 0.623034  ,  0.34848793]), array([ 0.08545389,  0.42984043]), array([ 0.95342001,  0.13903108]), array([ 0.67212628,  0.21725856]), array([ 0.98960857,  0.8441522 ]), array([ 0.87003649,  0.24482087]), array([ 0.13837765,  0.04280049]), array([ 0.17460188,  0.56401899]), array([ 0.65899191,  0.75862   ]), array([ 0.0545835 ,  0.74572772]), array([ 0.25760939,  0.5558757 ]), array([ 0.93285659,  0.2488919 ]), array([ 0.84685909,  0.8797017 ]), array([ 0.23649452,  0.34373549]), array([ 0.90852975,  0.41350012]), array([ 0.48262081,  0.35168945]), array([ 0.2161841 ,  0.30149299]), array([ 0.38038717,  0.60192115]), array([ 0.46887238,  0.61326749]), array([ 0.72761135,  0.9869051 ]), array([ 0.84406485,  0.06295348]), array([ 0.43557682,  0.18887352]), array([ 0.62649277,  0.30487589]), array([ 0.09095671,  0.63840098]), array([ 0.0709996 ,  0.78204051]), array([ 0.30406015,  0.34325654]), array([ 0.07661644,  0.12738096]), array([ 0.08412091,  0.29558653]), array([ 0.14555795,  0.69258083]), array([ 0.62736206,  0.05198428]), array([ 0.28257346,  0.77672735]), array([ 0.8079378 ,  0.36232559]), array([ 0.57866456,  0.40698943]), array([ 0.74164517,  0.12709289]), array([ 0.77757632,  0.10194754]), array([ 0.71182761,  0.27688295]), array([ 0.37842554,  0.9716715 ]), array([ 0.23068138,  0.46471059]), array([ 0.21466171,  0.09303014]), array([ 0.43492768,  0.07898012]), array([ 0.08020415,  0.48722378]), array([ 0.95307554,  0.46393363]), array([ 0.16850493,  0.85779593]), array([ 0.98088645,  0.22354093]), array([ 0.41376694,  0.80587358])]\n"
     ]
    },
    {
     "data": {
      "text/plain": [
       "<pyplasm.xgepy.Hpc; proxy of <Swig Object of type 'std::shared_ptr< Hpc > *' at 0x000000000B792E10> >"
      ]
     },
     "execution_count": 3,
     "metadata": {},
     "output_type": "execute_result"
    }
   ],
   "source": [
    "from larlib import *\n",
    "rn = [np.random.random(2) for i in np.arange(100)]\n",
    "print (rn)\n",
    "VIEW(STRUCT(map(MK,rn)))"
   ]
  },
  {
   "attachments": {
    "Screenshot%20%2820%29.png": {
     "image/png": "[encoded data removed]"
    }
   },
   "cell_type": "markdown",
   "metadata": {},
   "source": [
    "![Screenshot%20%2820%29.png](attachment:Screenshot%20%2820%29.png)"
   ]
  },
  {
   "cell_type": "markdown",
   "metadata": {},
   "source": [
    "<b>Esercizio 2</b>: \"Produce (and draw) 1000 random points within S 1 , the 1D sphere\n",
    "(circle) of unit radius centered at the origin (0,0)\"\n"
   ]
  },
  {
   "cell_type": "markdown",
   "metadata": {},
   "source": [
    "Spiegazione: ho creato due array x e y di 1000 elementi contenenti le coordinate dei punti sul piano. Poi ho preso, per ogni i (con i che va da 0 a 999), gli elementi x[i] e y[i] degli array per rappresentare un punto sul piano."
   ]
  },
  {
   "cell_type": "code",
   "execution_count": 4,
   "metadata": {},
   "outputs": [
    {
     "data": {
      "text/plain": [
       "<pyplasm.xgepy.Hpc; proxy of <Swig Object of type 'std::shared_ptr< Hpc > *' at 0x000000000B807B10> >"
      ]
     },
     "execution_count": 4,
     "metadata": {},
     "output_type": "execute_result"
    }
   ],
   "source": [
    "from larlib import *\n",
    "x = [np.random.uniform(-1,1) for i in np.arange(1000)]\n",
    "y = [np.random.uniform(-sqrt(1-x[i]**2), sqrt(1-x[i]**2)) for i in np.arange(1000)]\n",
    "VIEW(STRUCT(map(MK,[([ x[i],  y[i]]) for i in np.arange(1000)])))"
   ]
  },
  {
   "attachments": {
    "Screenshot%20%2821%29.png": {
     "image/png": "[encoded data removed]"
    }
   },
   "cell_type": "markdown",
   "metadata": {},
   "source": [
    "![Screenshot%20%2821%29.png](attachment:Screenshot%20%2821%29.png)"
   ]
  },
  {
   "cell_type": "markdown",
   "metadata": {},
   "source": [
    "<h3>Primi esempi con LarLib</h3>"
   ]
  },
  {
   "cell_type": "markdown",
   "metadata": {},
   "source": [
    "Comando per importare la <b>libreria LarLib</b>"
   ]
  },
  {
   "cell_type": "code",
   "execution_count": 2,
   "metadata": {},
   "outputs": [],
   "source": [
    "from larlib import *"
   ]
  },
  {
   "cell_type": "markdown",
   "metadata": {},
   "source": [
    "Creazione di un simplesso"
   ]
  },
  {
   "cell_type": "code",
   "execution_count": 116,
   "metadata": {},
   "outputs": [
    {
     "data": {
      "text/plain": [
       "[(1, 2), (1, 4), (2, 3), (2, 4), (2, 5), (3, 5), (4, 5)]"
      ]
     },
     "execution_count": 116,
     "metadata": {},
     "output_type": "execute_result"
    }
   ],
   "source": [
    "simplices = [[1,2,4],[2,4,5],[2,3,5]]\n",
    "larSimplexFacets(simplices)"
   ]
  },
  {
   "cell_type": "markdown",
   "metadata": {},
   "source": [
    "<b>Creazione di un modello</b> per mezzo di un insieme di faccie e di vertici e visualizzazione della sua struttura"
   ]
  },
  {
   "cell_type": "code",
   "execution_count": 6,
   "metadata": {},
   "outputs": [
    {
     "data": {
      "text/plain": [
       "<pyplasm.xgepy.Hpc; proxy of <Swig Object of type 'std::shared_ptr< Hpc > *' at 0x000000000B807330> >"
      ]
     },
     "execution_count": 6,
     "metadata": {},
     "output_type": "execute_result"
    }
   ],
   "source": [
    "simplices = [[1,2,4],[2,4,5],[2,3,5]]\n",
    "V = [[0,0], [0,1],[2,0],[4,0],[1.5,3],[3.5,2.5]]\n",
    "FV = simplices\n",
    "model = V,FV\n",
    "VIEW(STRUCT(MKPOLS(model)))"
   ]
  },
  {
   "cell_type": "markdown",
   "metadata": {},
   "source": [
    "Comando che visualizza lo <b>scheletro del modello</b> precedentemente creato. Poi viene visualizzato."
   ]
  },
  {
   "cell_type": "code",
   "execution_count": 6,
   "metadata": {},
   "outputs": [
    {
     "data": {
      "text/plain": [
       "<pyplasm.xgepy.Hpc; proxy of <Swig Object of type 'std::shared_ptr< Hpc > *' at 0x000000000B870810> >"
      ]
     },
     "execution_count": 6,
     "metadata": {},
     "output_type": "execute_result"
    }
   ],
   "source": [
    "VIEW(SKEL_1(STRUCT(MKPOLS(model))))"
   ]
  },
  {
   "cell_type": "markdown",
   "metadata": {},
   "source": [
    "Utilizzo del comando <b>larExtrude1</b> per estrudere un poligono a partire da modello e pattern"
   ]
  },
  {
   "cell_type": "code",
   "execution_count": 8,
   "metadata": {},
   "outputs": [
    {
     "data": {
      "text/plain": [
       "<pyplasm.xgepy.Hpc; proxy of <Swig Object of type 'std::shared_ptr< Hpc > *' at 0x000000000B8074B0> >"
      ]
     },
     "execution_count": 8,
     "metadata": {},
     "output_type": "execute_result"
    }
   ],
   "source": [
    "model = [[0,0],[1,0],[0,1]], [[0,1,2]]\n",
    "pattern = [1]\n",
    "larExtrude1(model,pattern)\n",
    "VIEW(STRUCT(MKPOLS((larExtrude1(model,pattern)))))"
   ]
  },
  {
   "attachments": {
    "Screenshot%20%2823%29.png": {
     "image/png": "[encoded data removed]"
    }
   },
   "cell_type": "markdown",
   "metadata": {},
   "source": [
    "![Screenshot%20%2823%29.png](attachment:Screenshot%20%2823%29.png)"
   ]
  },
  {
   "cell_type": "markdown",
   "metadata": {},
   "source": [
    "Utilizzo dell'istruzione <b>pattern = [1]*10</b> per moltiplicare per 10 il pattern"
   ]
  },
  {
   "cell_type": "code",
   "execution_count": 8,
   "metadata": {},
   "outputs": [
    {
     "data": {
      "text/plain": [
       "<pyplasm.xgepy.Hpc; proxy of <Swig Object of type 'std::shared_ptr< Hpc > *' at 0x000000000B891780> >"
      ]
     },
     "execution_count": 8,
     "metadata": {},
     "output_type": "execute_result"
    }
   ],
   "source": [
    "model = [[0,0],[1,0],[0,1]], [[0,1,2]]\n",
    "pattern = [1]*10\n",
    "VIEW(STRUCT(MKPOLS((larExtrude1(model,pattern)))))"
   ]
  },
  {
   "cell_type": "markdown",
   "metadata": {},
   "source": [
    "Comando per visualizzare lo scheletro della struttura precedente"
   ]
  },
  {
   "cell_type": "code",
   "execution_count": 3,
   "metadata": {},
   "outputs": [
    {
     "data": {
      "text/plain": [
       "<pyplasm.xgepy.Hpc; proxy of <Swig Object of type 'std::shared_ptr< Hpc > *' at 0x000000000B628600> >"
      ]
     },
     "execution_count": 3,
     "metadata": {},
     "output_type": "execute_result"
    }
   ],
   "source": [
    "model = [[0,0],[1,0],[0,1]], [[0,1,2]]\n",
    "pattern = [1]*10\n",
    "VIEW(SKEL_1((STRUCT(MKPOLS((larExtrude1(model,pattern)))))))"
   ]
  },
  {
   "cell_type": "markdown",
   "metadata": {},
   "source": [
    "Esempio di una possibile applicazione delle funzioni precedentemente viste"
   ]
  },
  {
   "cell_type": "code",
   "execution_count": 5,
   "metadata": {},
   "outputs": [
    {
     "data": {
      "text/plain": [
       "<pyplasm.xgepy.Hpc; proxy of <Swig Object of type 'std::shared_ptr< Hpc > *' at 0x000000000B7920F0> >"
      ]
     },
     "execution_count": 5,
     "metadata": {},
     "output_type": "execute_result"
    }
   ],
   "source": [
    "simplices = [[1,2,4],[2,4,5],[2,3,5]]\n",
    "V = [[0,0], [0,1],[2,0],[4,0],[1.5,3],[3.5,2.5]]\n",
    "FV = simplices\n",
    "VIEW(EXPLODE(1.2,1.2,1.2)(AA(SKEL_1)(MKPOLS(larExtrude1((V,FV),[1]*10)))))"
   ]
  },
  {
   "attachments": {
    "Screenshot%20%2822%29.png": {
     "image/png": "[encoded data removed]"
    }
   },
   "cell_type": "markdown",
   "metadata": {},
   "source": [
    "![Screenshot%20%2822%29.png](attachment:Screenshot%20%2822%29.png)"
   ]
  },
  {
   "cell_type": "code",
   "execution_count": null,
   "metadata": {},
   "outputs": [],
   "source": []
  }
 ],
 "metadata": {
  "kernelspec": {
   "display_name": "Python 2",
   "language": "python",
   "name": "python2"
  },
  "language_info": {
   "codemirror_mode": {
    "name": "ipython",
    "version": 2
   },
   "file_extension": ".py",
   "mimetype": "text/x-python",
   "name": "python",
   "nbconvert_exporter": "python",
   "pygments_lexer": "ipython2",
   "version": "2.7.12"
  }
 },
 "nbformat": 4,
 "nbformat_minor": 2
}
